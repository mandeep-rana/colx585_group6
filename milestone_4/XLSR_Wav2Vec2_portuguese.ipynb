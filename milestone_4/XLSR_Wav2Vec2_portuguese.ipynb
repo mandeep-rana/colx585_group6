{
 "cells": [
  {
   "cell_type": "markdown",
   "metadata": {
    "id": "LBSYoWbi-45k"
   },
   "source": [
    "# **Fine-tuning XLSR-Wav2Vec2 on Portuguese**"
   ]
  },
  {
   "cell_type": "markdown",
   "metadata": {},
   "source": [
    "Adapted from work by [Patrick von Platen](https://colab.research.google.com/github/patrickvonplaten/notebooks/blob/master/Fine_Tune_XLSR_Wav2Vec2_on_Turkish_ASR_with_%F0%9F%A4%97_Transformers.ipynb)"
   ]
  },
  {
   "cell_type": "code",
   "execution_count": 1,
   "metadata": {
    "colab": {
     "base_uri": "https://localhost:8080/"
    },
    "id": "f_mcWZD7zv2u",
    "outputId": "9164cac6-d1b8-428e-8b55-f17e8293b29c"
   },
   "outputs": [
    {
     "name": "stdout",
     "output_type": "stream",
     "text": [
      "Mounted at /content/gdrive\n"
     ]
    }
   ],
   "source": [
    "from google.colab import drive\n",
    "drive.mount('/content/gdrive')"
   ]
  },
  {
   "cell_type": "code",
   "execution_count": 2,
   "metadata": {
    "id": "c8eh87Hoee5d"
   },
   "outputs": [],
   "source": [
    "%%capture\n",
    "!pip install datasets==1.4.1\n",
    "!pip install transformers==4.4.0\n",
    "!pip install torchaudio\n",
    "!pip install librosa\n",
    "!pip install jiwer"
   ]
  },
  {
   "cell_type": "markdown",
   "metadata": {
    "id": "0mW-C1Nt-j7k"
   },
   "source": [
    "## Preprocessing the Data, Tokenizer, Feature Extractor"
   ]
  },
  {
   "cell_type": "markdown",
   "metadata": {
    "id": "sEXEWEJGQPqD"
   },
   "source": [
    "#### Create Wav2Vec2CTCTokenizer"
   ]
  },
  {
   "cell_type": "code",
   "execution_count": 3,
   "metadata": {
    "colab": {
     "base_uri": "https://localhost:8080/",
     "height": 315,
     "referenced_widgets": [
      "5d05f5aaaa0c45c0af72bf0c04466729",
      "2444bc34e1e8454095d80ccbb2bded10",
      "7dd17ca0ffba48a9a71d09aac1f151dd",
      "2a00bc67e46446078f1d82c9aacaf019",
      "aa14d1cb70534838be11ff11244cad20",
      "4b58171ea1334fa5a97dcf47eb936638",
      "79a66d5b4c5d49eab2ab54c75a7f542e",
      "8bb266a80ad84650aa5e3d9f1416c6cf",
      "85bb6b25a666489a84501c8a60618e03",
      "06eaebeec8af4c28b969512aea7e893d",
      "953044c9ec1a42419cb27219b7e91643",
      "137179809de441dd873c57e3dc780cf0",
      "ac18276fb06549afb6a70a742b5b7b92",
      "0b134cf6742f4833a4fce1d98e70aa90",
      "7ffd6e061dab442e9260bbaf298bf77a",
      "71e27c89d8af4c47aa0c8b09409d3077",
      "eefeaa5eb55449ae9e40ca14e28449d1",
      "957e3f449fed431681603916004b5a50",
      "881d2d88bf5a484d86aa2267930545a8",
      "959698f27162441a90fd7d3f8bb104c6",
      "4dd25806e824496d913aefd0e2581cd8",
      "ac9ad2eefbdd4c5d83debdcb2f0c88a1",
      "b66e62af7ec748158b6f8646fc6bcac4",
      "11e81925426c4c689bc60635a0059497",
      "1c856f3639b244d2bcdda3a15ea55c85",
      "aac1921a297d4979867fbe1d78096f89",
      "3c679e9d45a146afb6b7ff1106f74dcf",
      "d80270a1885045b9a1687063fd8d18b9",
      "2764e83e477647d6a38ce6c37f287a33",
      "24f3447527434fe2ab0e2e55e1a86700",
      "acecda5aa48145d2b26c80361683aabf",
      "a42057ef93d94f5f9be0c1789da95a48",
      "f05c072bff6d4f478f4beca6c7a3a5c4",
      "f317f393e0fe4f6a86cf711d9d18cf61",
      "83460f47bde34c6c83df8524025c2d8a",
      "0211f925fac14306979702a574608e25",
      "02ee37d9319c49a4ade8836cf780dc72",
      "abf2dbe803e341b6b11cb12ee1461dfd",
      "5af03905e6a44b94ab9383e04866d7b2",
      "b0279a68ba5842fbabf380183134b6e1",
      "1be5ea6ee8cd4b6298fce2cd5b1ee921",
      "56f82d6983d74abb9f6de6b4c7b89a08",
      "170c295057f04477af9f9d0a7c3d9a62",
      "d5b36026883f49ed915c705a89971c28",
      "67fcc2d5bf57490c958c026364a80332",
      "aac4eef516d546bc814bee2b2ad0a1c4",
      "d0a71aa8a6c44885bc13f1746dc7a2bd",
      "5c76272aeb904a3fad564eb88b4525e7",
      "31e78b1a1c9b43c9869ad78f7383ae94",
      "8d7738f16b13479c8eef713563c8a1ac",
      "50dda37c065b46149f053d4256573454",
      "170165209cf84177a43cbc53acbb1b49",
      "27a744f5ee3443329bfb8f1ee8f5199f",
      "27277fe881d04e31b8b232dc783586a3",
      "1dd8055bb1a6484c81bfd3821495dc90",
      "724c305991b84ac795263c42158ddb0f",
      "9ff8dbc9b8aa480aa9dbf9d034fa05c2",
      "e8150f334a7b46fc8dfd2f86fb4bcc5f",
      "767a2056ab6b4d899a8e0c78ee88e305",
      "e7b7f9e12da240068002f45996439292",
      "64cd2abc47d14ce1ad1cad2d89447091",
      "533cd219bbb64a42942f9ba9af3da408",
      "9c4e1f60fb5443dab4dc051ca8d5d29b",
      "74be14f40e2144439d37a68e22928fc5"
     ]
    },
    "id": "2MMXcWFFgCXU",
    "outputId": "ada52497-3bae-44ef-e080-53c813896730"
   },
   "outputs": [
    {
     "data": {
      "application/vnd.jupyter.widget-view+json": {
       "model_id": "5d05f5aaaa0c45c0af72bf0c04466729",
       "version_major": 2,
       "version_minor": 0
      },
      "text/plain": [
       "HBox(children=(FloatProgress(value=0.0, description='Downloading', max=4285.0, style=ProgressStyle(description…"
      ]
     },
     "metadata": {
      "tags": []
     },
     "output_type": "display_data"
    },
    {
     "name": "stderr",
     "output_type": "stream",
     "text": [
      "Couldn't find file locally at common_voice/common_voice.py, or remotely at https://raw.githubusercontent.com/huggingface/datasets/1.4.1/datasets/common_voice/common_voice.py.\n",
      "The file was picked from the master branch on github instead at https://raw.githubusercontent.com/huggingface/datasets/master/datasets/common_voice/common_voice.py.\n"
     ]
    },
    {
     "name": "stdout",
     "output_type": "stream",
     "text": [
      "\n"
     ]
    },
    {
     "data": {
      "application/vnd.jupyter.widget-view+json": {
       "model_id": "85bb6b25a666489a84501c8a60618e03",
       "version_major": 2,
       "version_minor": 0
      },
      "text/plain": [
       "HBox(children=(FloatProgress(value=0.0, description='Downloading', max=9954.0, style=ProgressStyle(description…"
      ]
     },
     "metadata": {
      "tags": []
     },
     "output_type": "display_data"
    },
    {
     "name": "stdout",
     "output_type": "stream",
     "text": [
      "\n",
      "Downloading and preparing dataset common_voice/pt (download: 1.59 GiB, generated: 10.38 MiB, post-processed: Unknown size, total: 1.60 GiB) to /root/.cache/huggingface/datasets/common_voice/pt/6.1.0/11f9069cb28d1e9b89bdeb4ad0aabef5bd43213b06f12f3d2349ba39d61968b0...\n"
     ]
    },
    {
     "data": {
      "application/vnd.jupyter.widget-view+json": {
       "model_id": "eefeaa5eb55449ae9e40ca14e28449d1",
       "version_major": 2,
       "version_minor": 0
      },
      "text/plain": [
       "HBox(children=(FloatProgress(value=0.0, description='Downloading', max=1704252567.0, style=ProgressStyle(descr…"
      ]
     },
     "metadata": {
      "tags": []
     },
     "output_type": "display_data"
    },
    {
     "name": "stdout",
     "output_type": "stream",
     "text": [
      "\n"
     ]
    },
    {
     "data": {
      "application/vnd.jupyter.widget-view+json": {
       "model_id": "1c856f3639b244d2bcdda3a15ea55c85",
       "version_major": 2,
       "version_minor": 0
      },
      "text/plain": [
       "HBox(children=(FloatProgress(value=1.0, bar_style='info', max=1.0), HTML(value='')))"
      ]
     },
     "metadata": {
      "tags": []
     },
     "output_type": "display_data"
    },
    {
     "name": "stdout",
     "output_type": "stream",
     "text": [
      "\r"
     ]
    },
    {
     "data": {
      "application/vnd.jupyter.widget-view+json": {
       "model_id": "f05c072bff6d4f478f4beca6c7a3a5c4",
       "version_major": 2,
       "version_minor": 0
      },
      "text/plain": [
       "HBox(children=(FloatProgress(value=1.0, bar_style='info', max=1.0), HTML(value='')))"
      ]
     },
     "metadata": {
      "tags": []
     },
     "output_type": "display_data"
    },
    {
     "name": "stdout",
     "output_type": "stream",
     "text": [
      "\r"
     ]
    },
    {
     "data": {
      "application/vnd.jupyter.widget-view+json": {
       "model_id": "1be5ea6ee8cd4b6298fce2cd5b1ee921",
       "version_major": 2,
       "version_minor": 0
      },
      "text/plain": [
       "HBox(children=(FloatProgress(value=1.0, bar_style='info', max=1.0), HTML(value='')))"
      ]
     },
     "metadata": {
      "tags": []
     },
     "output_type": "display_data"
    },
    {
     "name": "stdout",
     "output_type": "stream",
     "text": [
      "\r"
     ]
    },
    {
     "data": {
      "application/vnd.jupyter.widget-view+json": {
       "model_id": "31e78b1a1c9b43c9869ad78f7383ae94",
       "version_major": 2,
       "version_minor": 0
      },
      "text/plain": [
       "HBox(children=(FloatProgress(value=1.0, bar_style='info', max=1.0), HTML(value='')))"
      ]
     },
     "metadata": {
      "tags": []
     },
     "output_type": "display_data"
    },
    {
     "name": "stdout",
     "output_type": "stream",
     "text": [
      "\r"
     ]
    },
    {
     "data": {
      "application/vnd.jupyter.widget-view+json": {
       "model_id": "9ff8dbc9b8aa480aa9dbf9d034fa05c2",
       "version_major": 2,
       "version_minor": 0
      },
      "text/plain": [
       "HBox(children=(FloatProgress(value=1.0, bar_style='info', max=1.0), HTML(value='')))"
      ]
     },
     "metadata": {
      "tags": []
     },
     "output_type": "display_data"
    },
    {
     "name": "stdout",
     "output_type": "stream",
     "text": [
      "Dataset common_voice downloaded and prepared to /root/.cache/huggingface/datasets/common_voice/pt/6.1.0/11f9069cb28d1e9b89bdeb4ad0aabef5bd43213b06f12f3d2349ba39d61968b0. Subsequent calls will reuse this data.\n"
     ]
    },
    {
     "name": "stderr",
     "output_type": "stream",
     "text": [
      "Couldn't find file locally at common_voice/common_voice.py, or remotely at https://raw.githubusercontent.com/huggingface/datasets/1.4.1/datasets/common_voice/common_voice.py.\n",
      "The file was picked from the master branch on github instead at https://raw.githubusercontent.com/huggingface/datasets/master/datasets/common_voice/common_voice.py.\n",
      "Reusing dataset common_voice (/root/.cache/huggingface/datasets/common_voice/pt/6.1.0/11f9069cb28d1e9b89bdeb4ad0aabef5bd43213b06f12f3d2349ba39d61968b0)\n"
     ]
    }
   ],
   "source": [
    "from datasets import load_dataset, load_metric\n",
    "\n",
    "common_voice_train = load_dataset(\"common_voice\", \"pt\", split=\"train+validation\")\n",
    "#common_voice_valid = load_dataset(\"common_voice\", \"pt\", split=\"validation\")  ## combined train and validation\n",
    "common_voice_test = load_dataset(\"common_voice\", \"pt\", split=\"test\")"
   ]
  },
  {
   "cell_type": "markdown",
   "metadata": {
    "id": "ri5y5N_HMANq"
   },
   "source": [
    "#### Make the train and test sets"
   ]
  },
  {
   "cell_type": "code",
   "execution_count": 4,
   "metadata": {
    "id": "kbyq6lDgQc2a"
   },
   "outputs": [],
   "source": [
    "common_voice_train = common_voice_train.remove_columns([\"accent\", \"age\", \"client_id\", \"down_votes\", \"gender\", \"locale\", \"segment\", \"up_votes\"])\n",
    "#common_voice_valid = common_voice_valid.remove_columns([\"accent\", \"age\", \"client_id\", \"down_votes\", \"gender\", \"locale\", \"segment\", \"up_votes\"])\n",
    "common_voice_test = common_voice_test.remove_columns([\"accent\", \"age\", \"client_id\", \"down_votes\", \"gender\", \"locale\", \"segment\", \"up_votes\"])"
   ]
  },
  {
   "cell_type": "markdown",
   "metadata": {
    "id": "Go9Hq4e4NDT9"
   },
   "source": [
    "#### Check the data"
   ]
  },
  {
   "cell_type": "code",
   "execution_count": 5,
   "metadata": {
    "id": "72737oog2F6U"
   },
   "outputs": [],
   "source": [
    "from datasets import ClassLabel\n",
    "import random\n",
    "import pandas as pd\n",
    "from IPython.display import display, HTML\n",
    "\n",
    "def show_random_elements(dataset, num_examples=10):\n",
    "    assert num_examples <= len(dataset), \"Can't pick more elements than there are in the dataset.\"\n",
    "    picks = []\n",
    "    for _ in range(num_examples):\n",
    "        pick = random.randint(0, len(dataset)-1)\n",
    "        while pick in picks:\n",
    "            pick = random.randint(0, len(dataset)-1)\n",
    "        picks.append(pick)\n",
    "    \n",
    "    df = pd.DataFrame(dataset[picks])\n",
    "    display(HTML(df.to_html()))"
   ]
  },
  {
   "cell_type": "code",
   "execution_count": 6,
   "metadata": {
    "colab": {
     "base_uri": "https://localhost:8080/",
     "height": 677
    },
    "id": "K_JUmf3G3b9S",
    "outputId": "a7ac9d8d-3d9a-4118-9d0d-1a9a266a9e01"
   },
   "outputs": [
    {
     "data": {
      "text/html": [
       "<table border=\"1\" class=\"dataframe\">\n",
       "  <thead>\n",
       "    <tr style=\"text-align: right;\">\n",
       "      <th></th>\n",
       "      <th>sentence</th>\n",
       "    </tr>\n",
       "  </thead>\n",
       "  <tbody>\n",
       "    <tr>\n",
       "      <th>0</th>\n",
       "      <td>Talvez seja por isso que eles sempre ficam perto de mim.</td>\n",
       "    </tr>\n",
       "    <tr>\n",
       "      <th>1</th>\n",
       "      <td>Faça os buracos nas roupas</td>\n",
       "    </tr>\n",
       "    <tr>\n",
       "      <th>2</th>\n",
       "      <td>Um cão brinca na neve.</td>\n",
       "    </tr>\n",
       "    <tr>\n",
       "      <th>3</th>\n",
       "      <td>Cordeiro assado está cheio</td>\n",
       "    </tr>\n",
       "    <tr>\n",
       "      <th>4</th>\n",
       "      <td>Este é o lugar?</td>\n",
       "    </tr>\n",
       "    <tr>\n",
       "      <th>5</th>\n",
       "      <td>Jogue fora o conteúdo da alça</td>\n",
       "    </tr>\n",
       "    <tr>\n",
       "      <th>6</th>\n",
       "      <td>Além disso,? neste verão realmente parecia um redemoinho.</td>\n",
       "    </tr>\n",
       "    <tr>\n",
       "      <th>7</th>\n",
       "      <td>uma pessoa vestindo uma mochila sentado ao lado de uma montanha rochosa.</td>\n",
       "    </tr>\n",
       "    <tr>\n",
       "      <th>8</th>\n",
       "      <td>O estado governante não gerencia.</td>\n",
       "    </tr>\n",
       "    <tr>\n",
       "      <th>9</th>\n",
       "      <td>Um seis aparece com mais frequência do que dez.</td>\n",
       "    </tr>\n",
       "    <tr>\n",
       "      <th>10</th>\n",
       "      <td>Você tem algum remédio para louses?</td>\n",
       "    </tr>\n",
       "    <tr>\n",
       "      <th>11</th>\n",
       "      <td>Examinando a floresta durante a noite, ela só podia confiar em seus instintos.</td>\n",
       "    </tr>\n",
       "    <tr>\n",
       "      <th>12</th>\n",
       "      <td>Uma mulher sentada ao lado da piscina enquanto outro joga badminton na piscina.</td>\n",
       "    </tr>\n",
       "    <tr>\n",
       "      <th>13</th>\n",
       "      <td>O tempo está acabando</td>\n",
       "    </tr>\n",
       "    <tr>\n",
       "      <th>14</th>\n",
       "      <td>Comandos de voz.</td>\n",
       "    </tr>\n",
       "    <tr>\n",
       "      <th>15</th>\n",
       "      <td>É LeviÔsa, não LeviosÁ</td>\n",
       "    </tr>\n",
       "    <tr>\n",
       "      <th>16</th>\n",
       "      <td>A luz rosa na caixa marrom brilhou.</td>\n",
       "    </tr>\n",
       "    <tr>\n",
       "      <th>17</th>\n",
       "      <td>Trate eu e os outros</td>\n",
       "    </tr>\n",
       "    <tr>\n",
       "      <th>18</th>\n",
       "      <td>Um macho pintando uma cena na frente dele.</td>\n",
       "    </tr>\n",
       "    <tr>\n",
       "      <th>19</th>\n",
       "      <td>Aplica técnicas de reconhecimento inicial relacionadas à condição do paciente.</td>\n",
       "    </tr>\n",
       "  </tbody>\n",
       "</table>"
      ],
      "text/plain": [
       "<IPython.core.display.HTML object>"
      ]
     },
     "metadata": {
      "tags": []
     },
     "output_type": "display_data"
    }
   ],
   "source": [
    "show_random_elements(common_voice_train.remove_columns([\"path\"]), num_examples=20)"
   ]
  },
  {
   "cell_type": "markdown",
   "metadata": {},
   "source": [
    "#### Clean the Data to remove special characters"
   ]
  },
  {
   "cell_type": "code",
   "execution_count": 7,
   "metadata": {
    "id": "svKzVJ_hQGK6"
   },
   "outputs": [],
   "source": [
    "import re\n",
    "chars_to_ignore_regex = '[\\,\\?\\.\\!\\-\\;\\:\\\"\\“\\%\\‘\\”\\�]'\n",
    "\n",
    "def remove_special_characters(batch):\n",
    "    batch[\"sentence\"] = re.sub(chars_to_ignore_regex, '', batch[\"sentence\"]).lower() + \" \"\n",
    "    return batch"
   ]
  },
  {
   "cell_type": "code",
   "execution_count": 8,
   "metadata": {
    "colab": {
     "base_uri": "https://localhost:8080/",
     "height": 117,
     "referenced_widgets": [
      "f2e79fcd90794386b9bdb08c3059e419",
      "10951393b1964fb79378adc0ac56a477",
      "22f0fb84f8b64520a0bf57fbcc3f4df1",
      "b04b6e18e2884cc1b8f00075f4aabe38",
      "a1b6985ecadc4afa857ef4095dd18b24",
      "e5a8b82b178944b1a6da0b5824de4ac0",
      "33f9de9d929749aca20d4c6c65eaef19",
      "16999f20e38943bb9a23ab571771e09b",
      "5b079938fa8540d281f957d9e2ebfcb7",
      "b6458e35b3c74c6e9e702fe7ade7136e",
      "22a3f98eec234ca395dd23c4ffa68e88",
      "02ff6b40b26f409084317a9b69a50d99",
      "d1158cbe2f14470099a1100e5a826c01",
      "24f0eca1877b42e7a712063dc32cd199",
      "6886f753ef674d2aa29c9a2d328b8395",
      "e5b7773cebd2479f9fd96d5c7ff1ccaf"
     ]
    },
    "id": "XIHocAuTQbBR",
    "outputId": "91ce7b90-0051-42fb-d84f-ad1f2472b449"
   },
   "outputs": [
    {
     "data": {
      "application/vnd.jupyter.widget-view+json": {
       "model_id": "f2e79fcd90794386b9bdb08c3059e419",
       "version_major": 2,
       "version_minor": 0
      },
      "text/plain": [
       "HBox(children=(FloatProgress(value=0.0, max=11106.0), HTML(value='')))"
      ]
     },
     "metadata": {
      "tags": []
     },
     "output_type": "display_data"
    },
    {
     "name": "stdout",
     "output_type": "stream",
     "text": [
      "\n"
     ]
    },
    {
     "data": {
      "application/vnd.jupyter.widget-view+json": {
       "model_id": "5b079938fa8540d281f957d9e2ebfcb7",
       "version_major": 2,
       "version_minor": 0
      },
      "text/plain": [
       "HBox(children=(FloatProgress(value=0.0, max=4641.0), HTML(value='')))"
      ]
     },
     "metadata": {
      "tags": []
     },
     "output_type": "display_data"
    },
    {
     "name": "stdout",
     "output_type": "stream",
     "text": [
      "\n"
     ]
    }
   ],
   "source": [
    "common_voice_train = common_voice_train.map(remove_special_characters)\n",
    "#common_voice_valid = common_voice_valid.map(remove_special_characters)\n",
    "common_voice_test = common_voice_test.map(remove_special_characters)"
   ]
  },
  {
   "cell_type": "code",
   "execution_count": 9,
   "metadata": {
    "colab": {
     "base_uri": "https://localhost:8080/",
     "height": 363
    },
    "id": "RBDRAAYxRE6n",
    "outputId": "b36b68e6-9727-41c6-a1cc-d2ced2be009b"
   },
   "outputs": [
    {
     "data": {
      "text/html": [
       "<table border=\"1\" class=\"dataframe\">\n",
       "  <thead>\n",
       "    <tr style=\"text-align: right;\">\n",
       "      <th></th>\n",
       "      <th>sentence</th>\n",
       "    </tr>\n",
       "  </thead>\n",
       "  <tbody>\n",
       "    <tr>\n",
       "      <th>0</th>\n",
       "      <td>descobrimos que não precisamos nos destacar</td>\n",
       "    </tr>\n",
       "    <tr>\n",
       "      <th>1</th>\n",
       "      <td>o dialeto do norte é fácil de entender</td>\n",
       "    </tr>\n",
       "    <tr>\n",
       "      <th>2</th>\n",
       "      <td>ela fala muitas vezes com aspereza</td>\n",
       "    </tr>\n",
       "    <tr>\n",
       "      <th>3</th>\n",
       "      <td>as coisas são assim</td>\n",
       "    </tr>\n",
       "    <tr>\n",
       "      <th>4</th>\n",
       "      <td>peguei tábuas de madeira de bétula e trabalhei numa estante</td>\n",
       "    </tr>\n",
       "    <tr>\n",
       "      <th>5</th>\n",
       "      <td>ambas as experiências reais e eventos imaginários podem ser narrados</td>\n",
       "    </tr>\n",
       "    <tr>\n",
       "      <th>6</th>\n",
       "      <td>eu quero manter um quarto</td>\n",
       "    </tr>\n",
       "    <tr>\n",
       "      <th>7</th>\n",
       "      <td>um belo pescoço que você tem aí</td>\n",
       "    </tr>\n",
       "    <tr>\n",
       "      <th>8</th>\n",
       "      <td>um grupo de homens jogando um jogo de rugby</td>\n",
       "    </tr>\n",
       "    <tr>\n",
       "      <th>9</th>\n",
       "      <td>sete anos atrás tudo está chegando</td>\n",
       "    </tr>\n",
       "  </tbody>\n",
       "</table>"
      ],
      "text/plain": [
       "<IPython.core.display.HTML object>"
      ]
     },
     "metadata": {
      "tags": []
     },
     "output_type": "display_data"
    }
   ],
   "source": [
    "show_random_elements(common_voice_train.remove_columns([\"path\"]))"
   ]
  },
  {
   "cell_type": "markdown",
   "metadata": {
    "id": "jwfaptH5RJwA"
   },
   "source": [
    "#### Build the Vocabularies"
   ]
  },
  {
   "cell_type": "code",
   "execution_count": 10,
   "metadata": {
    "id": "LwCshNbbeRZR"
   },
   "outputs": [],
   "source": [
    "def extract_all_chars(batch):\n",
    "    all_text = \" \".join(batch[\"sentence\"])\n",
    "    vocab = list(set(all_text))\n",
    "    return {\"vocab\": [vocab], \"all_text\": [all_text]}"
   ]
  },
  {
   "cell_type": "code",
   "execution_count": 11,
   "metadata": {
    "colab": {
     "base_uri": "https://localhost:8080/",
     "height": 117,
     "referenced_widgets": [
      "b24ce8480f9a49bbaeda69d08b978244",
      "a0e97c28096d4967a3a02aaccfee3985",
      "ee116bdb6b144744895500aa3bb507da",
      "c7f123f36afe4f3893e7463cf540a009",
      "6bbc9cd3c2ea4fef80700f52183e3062",
      "d4fb598d1e8a49f5920b91307c044d18",
      "be9cc30d6ad44fb2818adc685754d8fa",
      "74e0984a9ce0458f871326465e17a95f",
      "d5fbf3ec6bdd4856872a13ccdc6b833e",
      "4e82be6a08854acfa9998f919d2aa0b1",
      "da2fa149511244e6942e6b24b10dfc66",
      "47be32815c9c484cbee9968e785aeb74",
      "0bb448fe5dd047269553e1b756f9e03b",
      "313a0b51e7bc4e42a21b62f52170a34f",
      "70bdd670c7ba42be9074570c92ece79f",
      "1ee4463e465143bd9dbaaa60c0882e69"
     ]
    },
    "id": "_m6uUjjcfbjH",
    "outputId": "ffd45aac-84d3-4a5a-a165-e0747b7a5260"
   },
   "outputs": [
    {
     "data": {
      "application/vnd.jupyter.widget-view+json": {
       "model_id": "b24ce8480f9a49bbaeda69d08b978244",
       "version_major": 2,
       "version_minor": 0
      },
      "text/plain": [
       "HBox(children=(FloatProgress(value=0.0, max=1.0), HTML(value='')))"
      ]
     },
     "metadata": {
      "tags": []
     },
     "output_type": "display_data"
    },
    {
     "name": "stdout",
     "output_type": "stream",
     "text": [
      "\n"
     ]
    },
    {
     "data": {
      "application/vnd.jupyter.widget-view+json": {
       "model_id": "d5fbf3ec6bdd4856872a13ccdc6b833e",
       "version_major": 2,
       "version_minor": 0
      },
      "text/plain": [
       "HBox(children=(FloatProgress(value=0.0, max=1.0), HTML(value='')))"
      ]
     },
     "metadata": {
      "tags": []
     },
     "output_type": "display_data"
    },
    {
     "name": "stdout",
     "output_type": "stream",
     "text": [
      "\n"
     ]
    }
   ],
   "source": [
    "vocab_train = common_voice_train.map(extract_all_chars, batched=True, batch_size=-1, keep_in_memory=True, remove_columns=common_voice_train.column_names)\n",
    "#vocab_valid = common_voice_valid.map(extract_all_chars, batched=True, batch_size=-1, keep_in_memory=True, remove_columns=common_voice_valid.column_names)\n",
    "vocab_test = common_voice_test.map(extract_all_chars, batched=True, batch_size=-1, keep_in_memory=True, remove_columns=common_voice_test.column_names)"
   ]
  },
  {
   "cell_type": "code",
   "execution_count": 12,
   "metadata": {
    "id": "aQfneNsmlJI0"
   },
   "outputs": [],
   "source": [
    "vocab_list = list(set(vocab_train[\"vocab\"][0]) | set(vocab_test[\"vocab\"][0]))"
   ]
  },
  {
   "cell_type": "code",
   "execution_count": 13,
   "metadata": {
    "colab": {
     "base_uri": "https://localhost:8080/"
    },
    "id": "_0kRndSvqaKk",
    "outputId": "4ef57e2c-4bfb-4f67-ee43-86b40b1b3b94"
   },
   "outputs": [
    {
     "data": {
      "text/plain": [
       "{' ': 3,\n",
       " \"'\": 33,\n",
       " 'a': 16,\n",
       " 'b': 8,\n",
       " 'c': 1,\n",
       " 'd': 24,\n",
       " 'e': 20,\n",
       " 'f': 5,\n",
       " 'g': 6,\n",
       " 'h': 37,\n",
       " 'i': 36,\n",
       " 'j': 7,\n",
       " 'k': 23,\n",
       " 'l': 10,\n",
       " 'm': 27,\n",
       " 'n': 17,\n",
       " 'o': 9,\n",
       " 'p': 15,\n",
       " 'q': 11,\n",
       " 'r': 29,\n",
       " 's': 31,\n",
       " 't': 40,\n",
       " 'u': 19,\n",
       " 'v': 39,\n",
       " 'w': 0,\n",
       " 'x': 25,\n",
       " 'y': 38,\n",
       " 'z': 30,\n",
       " 'à': 21,\n",
       " 'á': 41,\n",
       " 'â': 12,\n",
       " 'ã': 13,\n",
       " 'ç': 28,\n",
       " 'é': 18,\n",
       " 'ê': 26,\n",
       " 'í': 32,\n",
       " 'ñ': 2,\n",
       " 'ó': 4,\n",
       " 'ô': 34,\n",
       " 'õ': 35,\n",
       " 'ú': 14,\n",
       " 'ü': 22}"
      ]
     },
     "execution_count": 13,
     "metadata": {
      "tags": []
     },
     "output_type": "execute_result"
    }
   ],
   "source": [
    "vocab_dict = {v: k for k, v in enumerate(vocab_list)}\n",
    "vocab_dict"
   ]
  },
  {
   "cell_type": "code",
   "execution_count": 14,
   "metadata": {
    "id": "npbIbBoLgaFX"
   },
   "outputs": [],
   "source": [
    "vocab_dict[\"|\"] = vocab_dict[\" \"]\n",
    "del vocab_dict[\" \"]"
   ]
  },
  {
   "cell_type": "code",
   "execution_count": 15,
   "metadata": {
    "colab": {
     "base_uri": "https://localhost:8080/"
    },
    "id": "znF0bNunsjbl",
    "outputId": "66f7ddda-e6e9-4da7-fb60-87ed18757525"
   },
   "outputs": [
    {
     "data": {
      "text/plain": [
       "44"
      ]
     },
     "execution_count": 15,
     "metadata": {
      "tags": []
     },
     "output_type": "execute_result"
    }
   ],
   "source": [
    "vocab_dict[\"[UNK]\"] = len(vocab_dict)\n",
    "vocab_dict[\"[PAD]\"] = len(vocab_dict)\n",
    "len(vocab_dict)"
   ]
  },
  {
   "cell_type": "code",
   "execution_count": 16,
   "metadata": {
    "id": "ehyUoh9vk191"
   },
   "outputs": [],
   "source": [
    "import json\n",
    "with open('vocab.json', 'w') as vocab_file:\n",
    "    json.dump(vocab_dict, vocab_file)"
   ]
  },
  {
   "cell_type": "markdown",
   "metadata": {
    "id": "SHJDaKlIVVim"
   },
   "source": [
    "#### Initialize `Wav2Vec2CTCTokenizer` class."
   ]
  },
  {
   "cell_type": "code",
   "execution_count": 17,
   "metadata": {
    "id": "xriFGEWQkO4M"
   },
   "outputs": [],
   "source": [
    "from transformers import Wav2Vec2CTCTokenizer\n",
    "\n",
    "tokenizer = Wav2Vec2CTCTokenizer(\"./vocab.json\", unk_token=\"[UNK]\", pad_token=\"[PAD]\", word_delimiter_token=\"|\")"
   ]
  },
  {
   "cell_type": "markdown",
   "metadata": {
    "id": "mYcIiR2FQ96i"
   },
   "source": [
    "### Create XLSR-Wav2Vec2 Feature Extractor"
   ]
  },
  {
   "cell_type": "code",
   "execution_count": 18,
   "metadata": {
    "id": "kAR0-2KLkopp"
   },
   "outputs": [],
   "source": [
    "from transformers import Wav2Vec2FeatureExtractor\n",
    "\n",
    "feature_extractor = Wav2Vec2FeatureExtractor(feature_size=1, sampling_rate=16000, padding_value=0.0, do_normalize=True, return_attention_mask=True)"
   ]
  },
  {
   "cell_type": "markdown",
   "metadata": {
    "id": "qUETetgqYC3W"
   },
   "source": [
    "### Create XLSR-Wav2Vec2 Processor"
   ]
  },
  {
   "cell_type": "code",
   "execution_count": 19,
   "metadata": {
    "id": "KYZtoW-tlZgl"
   },
   "outputs": [],
   "source": [
    "from transformers import Wav2Vec2Processor\n",
    "\n",
    "processor = Wav2Vec2Processor(feature_extractor=feature_extractor, tokenizer=tokenizer)"
   ]
  },
  {
   "cell_type": "code",
   "execution_count": 20,
   "metadata": {
    "id": "Par9rpypPsml"
   },
   "outputs": [],
   "source": [
    "processor.save_pretrained(\"/content/gdrive/MyDrive/COLX585/wav2vec2_pt_processor\")"
   ]
  },
  {
   "cell_type": "markdown",
   "metadata": {
    "id": "YFmShnl7RE35"
   },
   "source": [
    "### Preprocess Data"
   ]
  },
  {
   "cell_type": "code",
   "execution_count": 21,
   "metadata": {
    "colab": {
     "base_uri": "https://localhost:8080/"
    },
    "id": "TTCS7W6XJ9BG",
    "outputId": "010acc34-4a39-4b89-80bd-baa84e759499"
   },
   "outputs": [
    {
     "data": {
      "text/plain": [
       "{'path': '/root/.cache/huggingface/datasets/downloads/extracted/55c28abb37e427173e7a85b9464355d86111a072367ba97d8a00ef5b45f14eeb/cv-corpus-6.1-2020-12-11/pt/clips/common_voice_pt_20464413.mp3',\n",
       " 'sentence': 'ao treinar um modelo todos os fonemas culturais precisam ser avaliados '}"
      ]
     },
     "execution_count": 21,
     "metadata": {
      "tags": []
     },
     "output_type": "execute_result"
    }
   ],
   "source": [
    "common_voice_train[0]"
   ]
  },
  {
   "cell_type": "code",
   "execution_count": 22,
   "metadata": {
    "id": "al9Luo4LPpwJ"
   },
   "outputs": [],
   "source": [
    "import torchaudio\n",
    "\n",
    "def speech_file_to_array_fn(batch):\n",
    "    speech_array, sampling_rate = torchaudio.load(batch[\"path\"])\n",
    "    batch[\"speech\"] = speech_array[0].numpy()\n",
    "    batch[\"sampling_rate\"] = sampling_rate\n",
    "    batch[\"target_text\"] = batch[\"sentence\"]\n",
    "    return batch"
   ]
  },
  {
   "cell_type": "code",
   "execution_count": 23,
   "metadata": {
    "colab": {
     "base_uri": "https://localhost:8080/",
     "height": 117,
     "referenced_widgets": [
      "bd3898bfe1974e52920d263ca5a21683",
      "b97f7f26b02842eb959b1b48d00230c2",
      "1865931adf3f4733b6bfa7de080b611d",
      "61a3193dfdf2476e9481b01c9aab69ee",
      "e638ee8b272640cdb7640aa73128fcdc",
      "a62cb01b0dd243fa9222c4fc285bc465",
      "aba023d9cec441549f1b622b79bba2ca",
      "a9308cbca1a444bf8eb76ccb4e062a1e",
      "95ac296de43a47cd8eb0f32db9a4dbd1",
      "131e6d9086ef4f9f8b58486445f3fb44",
      "109884b49ad74a429c29c5ee5ff28fe9",
      "4d87c657d53349f3995e81619d121deb",
      "ffc63ab2f6cc4acebd38a9362ee727db",
      "ccd45af89c8e48b8b29d16f496426365",
      "81bb00417b654aa7b722783e8b412240",
      "1dbc682150374e1eb505234bb2dfae6d"
     ]
    },
    "id": "afeicUeWlrRL",
    "outputId": "3dc2db98-6ddd-4313-e73a-ff759b412fdd"
   },
   "outputs": [
    {
     "data": {
      "application/vnd.jupyter.widget-view+json": {
       "model_id": "bd3898bfe1974e52920d263ca5a21683",
       "version_major": 2,
       "version_minor": 0
      },
      "text/plain": [
       "HBox(children=(FloatProgress(value=0.0, max=11106.0), HTML(value='')))"
      ]
     },
     "metadata": {
      "tags": []
     },
     "output_type": "display_data"
    },
    {
     "name": "stdout",
     "output_type": "stream",
     "text": [
      "\n"
     ]
    },
    {
     "data": {
      "application/vnd.jupyter.widget-view+json": {
       "model_id": "95ac296de43a47cd8eb0f32db9a4dbd1",
       "version_major": 2,
       "version_minor": 0
      },
      "text/plain": [
       "HBox(children=(FloatProgress(value=0.0, max=4641.0), HTML(value='')))"
      ]
     },
     "metadata": {
      "tags": []
     },
     "output_type": "display_data"
    },
    {
     "name": "stdout",
     "output_type": "stream",
     "text": [
      "\n"
     ]
    }
   ],
   "source": [
    "common_voice_train = common_voice_train.map(speech_file_to_array_fn, remove_columns=common_voice_train.column_names)\n",
    "#common_voice_valid = common_voice_valid.map(speech_file_to_array_fn, remove_columns=common_voice_valid.column_names)\n",
    "common_voice_test = common_voice_test.map(speech_file_to_array_fn, remove_columns=common_voice_test.column_names)"
   ]
  },
  {
   "cell_type": "markdown",
   "metadata": {
    "id": "ki5sXmzucc9Q"
   },
   "source": [
    "### Downsampling\n",
    "\n",
    "Since the audio files are sampled at 48kHz, we use [`librosa`](https://github.com/librosa/librosa) library to downsample."
   ]
  },
  {
   "cell_type": "code",
   "execution_count": 24,
   "metadata": {
    "id": "6Y6AK3Z-kHwP"
   },
   "outputs": [],
   "source": [
    "import librosa\n",
    "import numpy as np\n",
    "\n",
    "def resample(batch):\n",
    "    batch[\"speech\"] = librosa.resample(np.asarray(batch[\"speech\"]), 48_000, 16_000)\n",
    "    batch[\"sampling_rate\"] = 16_000\n",
    "    return batch"
   ]
  },
  {
   "cell_type": "code",
   "execution_count": 25,
   "metadata": {
    "colab": {
     "base_uri": "https://localhost:8080/",
     "height": 455,
     "referenced_widgets": [
      "cb470ad2e6cc45398e538a3ecfb82c24",
      "aa7ff94b3b724c5cbd1687ee54269b74",
      "df1063c734274b578165e486818808e0",
      "3c4b1113b6f84343b267592bc37e4e48",
      "d7eecbbbff8345ec93574d409a12b2b9",
      "e3d1f28a783442aab3193dc8c80a57fa",
      "72e4c9e3b97843bd9590c3b2f7fe028d",
      "053ea4b424de4006b89a4b8ec6ea65da",
      "e27be4010a6d4c77963d12bd6a801ca5",
      "9747538cea084eafa4f56f8d137c86a7",
      "b4cf60074406436a8d4e3b8c6ac02bc9",
      "b74e82110d2f4658b5fa6e620df4c096",
      "a1dd4829ea134df68e15b4a730ff795e",
      "2a525c72bd6e41af935faf888e336af0",
      "0d8b3abfdc07423785f6511b70b7fa82",
      "20dccbbb6166445bb84ecdebf643aa1e",
      "928969265cb444a19255e6357ad8addd",
      "70a88d378d654c81b5d87d3a7f5fdc2b",
      "429a0dbd76014106920809948c927997",
      "7bfac742a8564edb89b9d86adee1986c",
      "901ecd15da2e4b85973788bf5576e563",
      "be99af66f2874688bf11e350d1496bd8",
      "0d7b9d88ed5a45018f5fc9de0580627e",
      "6cf737c6d2fe4834b8b80235fc47eb4d",
      "4bc5c13b3bbb43e487d1c19f1c783134",
      "06e0bdc6bf624d64b6b2b5ada0f49c6f",
      "b3bfba718cc44d41bf4c98733bf4375a",
      "5214264b16cd48e391db9c84114700d9",
      "818276586dcb4a9298f2975c4f64eee5",
      "4a3fbab97ad9473fa65414ce8d01f94c",
      "4def1eec79e54545ae930710f5bde71f",
      "53463de23a36461eafb5986f5d45daac",
      "ebf46ad0a61b44c79ac13db5252fea6a",
      "5b165a31180c4c24a636367c4b8a2ee4",
      "f68b14fc29c840e5b75eb11ccc212661",
      "57ede039e1804781baff6e1c821fb2ef",
      "ef985975e6364ff99bb614ac48a130f3",
      "70c1ef7ace2e4a85af7f90b2bb4a6890",
      "21bfdeb85bcb4a03933d1e5f64596528",
      "533e021b7e52471f9b4f49c55b20bfe0",
      "46fa8660fe724525b7253158bdc4d57f",
      "3beab25e69894d099486d0df08153091",
      "90fcab19221a49c4a3466608ccbb0afb",
      "ca9356d55db2405b9220527c1a5959e6",
      "68d76c56fec648b98e56792536130eb1",
      "5960c124cb904f4fa576d58d4f9f0aae",
      "457c829df4064e1db571f4b028ab37dc",
      "f729e81dd13147d6ac3197673e365cfa",
      "d3154d6331e543d290422adee8a27c63",
      "e68a9a9bbb1f45b281182f9ae4efc440",
      "680f19fd255544bc8dd6700422fdad68",
      "97f07bcc8b00450997d2cb8100f5d8ec",
      "056fc3b0502146c3a27c67a54b9aa29a",
      "76b8e10f48804a7a8eef3119f355c4fa",
      "a4be028f06e14359b4a2d73fa391dc21",
      "2cb4fcf7229f47458fd039b852a99ca4",
      "6e0d812f2b3e43b9882301f0fb1c968d",
      "b5983dec6de5409e9b89dce25ec65a47",
      "463c138211b54bf9afc59a786a8f71d0",
      "79983a1406da48368c1d66da841bad8e",
      "9045d89df1ad4018b6d2906ed700a67d",
      "45b284528cf7490b89e23d50404f8fcd",
      "f182fbf41f6b42a5aa8d8aa39baac8d0",
      "d813a459dae4496db51f37eb96fce355"
     ]
    },
    "id": "Ws8DyIL_kjwT",
    "outputId": "6c7c60ff-fc27-4147-cc14-74bfd1a9bbd0"
   },
   "outputs": [
    {
     "name": "stdout",
     "output_type": "stream",
     "text": [
      "    "
     ]
    },
    {
     "data": {
      "application/vnd.jupyter.widget-view+json": {
       "model_id": "cb470ad2e6cc45398e538a3ecfb82c24",
       "version_major": 2,
       "version_minor": 0
      },
      "text/plain": [
       "HBox(children=(FloatProgress(value=0.0, description='#0', max=2777.0, style=ProgressStyle(description_width='i…"
      ]
     },
     "metadata": {
      "tags": []
     },
     "output_type": "display_data"
    },
    {
     "data": {
      "application/vnd.jupyter.widget-view+json": {
       "model_id": "e27be4010a6d4c77963d12bd6a801ca5",
       "version_major": 2,
       "version_minor": 0
      },
      "text/plain": [
       "HBox(children=(FloatProgress(value=0.0, description='#3', max=2776.0, style=ProgressStyle(description_width='i…"
      ]
     },
     "metadata": {
      "tags": []
     },
     "output_type": "display_data"
    },
    {
     "data": {
      "application/vnd.jupyter.widget-view+json": {
       "model_id": "928969265cb444a19255e6357ad8addd",
       "version_major": 2,
       "version_minor": 0
      },
      "text/plain": [
       "HBox(children=(FloatProgress(value=0.0, description='#2', max=2776.0, style=ProgressStyle(description_width='i…"
      ]
     },
     "metadata": {
      "tags": []
     },
     "output_type": "display_data"
    },
    {
     "data": {
      "application/vnd.jupyter.widget-view+json": {
       "model_id": "4bc5c13b3bbb43e487d1c19f1c783134",
       "version_major": 2,
       "version_minor": 0
      },
      "text/plain": [
       "HBox(children=(FloatProgress(value=0.0, description='#1', max=2777.0, style=ProgressStyle(description_width='i…"
      ]
     },
     "metadata": {
      "tags": []
     },
     "output_type": "display_data"
    },
    {
     "name": "stdout",
     "output_type": "stream",
     "text": [
      "\n",
      "\n",
      "\n",
      "\n",
      "    "
     ]
    },
    {
     "data": {
      "application/vnd.jupyter.widget-view+json": {
       "model_id": "ebf46ad0a61b44c79ac13db5252fea6a",
       "version_major": 2,
       "version_minor": 0
      },
      "text/plain": [
       "HBox(children=(FloatProgress(value=0.0, description='#2', max=1160.0, style=ProgressStyle(description_width='i…"
      ]
     },
     "metadata": {
      "tags": []
     },
     "output_type": "display_data"
    },
    {
     "data": {
      "application/vnd.jupyter.widget-view+json": {
       "model_id": "46fa8660fe724525b7253158bdc4d57f",
       "version_major": 2,
       "version_minor": 0
      },
      "text/plain": [
       "HBox(children=(FloatProgress(value=0.0, description='#1', max=1160.0, style=ProgressStyle(description_width='i…"
      ]
     },
     "metadata": {
      "tags": []
     },
     "output_type": "display_data"
    },
    {
     "data": {
      "application/vnd.jupyter.widget-view+json": {
       "model_id": "d3154d6331e543d290422adee8a27c63",
       "version_major": 2,
       "version_minor": 0
      },
      "text/plain": [
       "HBox(children=(FloatProgress(value=0.0, description='#0', max=1161.0, style=ProgressStyle(description_width='i…"
      ]
     },
     "metadata": {
      "tags": []
     },
     "output_type": "display_data"
    },
    {
     "data": {
      "application/vnd.jupyter.widget-view+json": {
       "model_id": "6e0d812f2b3e43b9882301f0fb1c968d",
       "version_major": 2,
       "version_minor": 0
      },
      "text/plain": [
       "HBox(children=(FloatProgress(value=0.0, description='#3', max=1160.0, style=ProgressStyle(description_width='i…"
      ]
     },
     "metadata": {
      "tags": []
     },
     "output_type": "display_data"
    },
    {
     "name": "stdout",
     "output_type": "stream",
     "text": [
      "\n",
      "\n",
      "\n",
      "\n"
     ]
    }
   ],
   "source": [
    "common_voice_train = common_voice_train.map(resample, num_proc=4)\n",
    "#common_voice_valid = common_voice_valid.map(resample, num_proc=8)\n",
    "common_voice_test = common_voice_test.map(resample, num_proc=4)"
   ]
  },
  {
   "cell_type": "code",
   "execution_count": 26,
   "metadata": {
    "colab": {
     "base_uri": "https://localhost:8080/",
     "height": 61
    },
    "id": "dueM6U7Ev0OA",
    "outputId": "52ff442e-f09b-4ae2-bd9d-50d743e91f54"
   },
   "outputs": [
    {
     "data": {
      "text/html": [
       "\n",
       "                <audio controls=\"controls\" autoplay=\"autoplay\">\n",
       "                    <source src=\"data:audio/wav;base64,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\" type=\"audio/wav\" />\n",
       "                    Your browser does not support the audio element.\n",
       "                </audio>\n",
       "              "
      ],
      "text/plain": [
       "<IPython.lib.display.Audio object>"
      ]
     },
     "execution_count": 26,
     "metadata": {
      "tags": []
     },
     "output_type": "execute_result"
    }
   ],
   "source": [
    "import IPython.display as ipd\n",
    "import numpy as np\n",
    "import random\n",
    "\n",
    "rand_int = random.randint(0, len(common_voice_train)-1)\n",
    "\n",
    "ipd.Audio(data=np.asarray(common_voice_train[rand_int][\"speech\"]), autoplay=True, rate=16000)"
   ]
  },
  {
   "cell_type": "code",
   "execution_count": 27,
   "metadata": {
    "colab": {
     "base_uri": "https://localhost:8080/"
    },
    "id": "1Po2g7YPuRTx",
    "outputId": "a88da179-be6d-4233-8579-e569b2043796"
   },
   "outputs": [
    {
     "name": "stdout",
     "output_type": "stream",
     "text": [
      "Target text: seus registros estavam incompletos \n",
      "Input array shape: (65280,)\n",
      "Sampling rate: 16000\n"
     ]
    }
   ],
   "source": [
    "rand_int = random.randint(0, len(common_voice_train)-1)\n",
    "\n",
    "print(\"Target text:\", common_voice_train[rand_int][\"target_text\"])\n",
    "print(\"Input array shape:\", np.asarray(common_voice_train[rand_int][\"speech\"]).shape)\n",
    "print(\"Sampling rate:\", common_voice_train[rand_int][\"sampling_rate\"])"
   ]
  },
  {
   "cell_type": "code",
   "execution_count": 28,
   "metadata": {
    "id": "eJY7I0XAwe9p"
   },
   "outputs": [],
   "source": [
    "def prepare_dataset(batch):\n",
    "    # check that all files have the correct sampling rate\n",
    "    assert (\n",
    "        len(set(batch[\"sampling_rate\"])) == 1\n",
    "    ), f\"Make sure all inputs have the same sampling rate of {processor.feature_extractor.sampling_rate}.\"\n",
    "\n",
    "    batch[\"input_values\"] = processor(batch[\"speech\"], sampling_rate=batch[\"sampling_rate\"][0]).input_values\n",
    "    \n",
    "    with processor.as_target_processor():\n",
    "        batch[\"labels\"] = processor(batch[\"target_text\"]).input_ids\n",
    "    return batch"
   ]
  },
  {
   "cell_type": "code",
   "execution_count": 29,
   "metadata": {
    "colab": {
     "base_uri": "https://localhost:8080/",
     "height": 912,
     "referenced_widgets": [
      "6aa3a7ec23ac45a2be1be35320c5578d",
      "fdb7242b4c5b44569114ff828415aff0",
      "d6a28d75badc4604a151cd299d743289",
      "e311116e5b9b4453b67250bf5af98482",
      "1bdfd3fe66144aacbf086b6ad84bda8a",
      "1915300fc674486292edd8d79d62bece",
      "4124a88fdb6e43c1adfe15e8bfff34a7",
      "707be538cdd646cab0d2f6f2f28cfb4b",
      "89a7968110c645e29061a7a7000a9913",
      "09b1cb512e6f4133892f90aa26ca047d",
      "aa38a66e6c6c49c595d6602cdd95b80c",
      "f52698c9b53d41c2bde7043e1f47a4f1",
      "39c55ee4e290494b8d19c5b5e9274799",
      "e3e5c30afd1b4c16984d3fb3a040f635",
      "7f721b9baee64233afcacdba7be4f70b",
      "41e46f0f84654c869269cbbfd46dd469",
      "48bfd13266b64ddc8fa9daa4e5543167",
      "13cef2a6b3744b09a2d11a8dd20ff345",
      "686307a50fcb4b138c9285d805b7a9d2",
      "4a262dc9ed2b4fed959f2089b0357663",
      "195d4b313bfe4e00b8dc19d334cdb87e",
      "c8fbedd2b2014e608462dd6901a5b5ad",
      "d43c5124a49f446fb6e8253763c359f8",
      "7f9c4ef09ae742a19c553f348c2f9efa",
      "eda213c8db4843b395b1271d43255de8",
      "77bca1ecc14e4273a193246dee7aa45c",
      "1b1af79fa2b64791a10ac57b019cad9f",
      "51652f1208604c5f9f82d25d04a95958",
      "c12224c3a8904677a6c926098bdc87cf",
      "379b989e7bcd4144a3f076142f155af6",
      "6fe6b621ba994e049a1da3d7c537c5bb",
      "e7a37383a4cf4492baa8ef0ea17e6c97",
      "930d72f4a6dc43d5b25ae1ea132f8db2",
      "64f296b0eae94f16a47306998116b7f3",
      "68422751d15a45409354ee1d95fa4711",
      "046a523dbc174c81bd9e20f51ce413e7",
      "9a5cd00f368f478db00092bb6d608eef",
      "9b043649a23b4a44b11a50538c460880",
      "80de3a3bf7ce4f43adf0a3c03c3f2fe2",
      "4065c90dedbc4ab4878fe415b6cd28bd",
      "4fd3b53805a440d4a4b6cd9644f07b85",
      "2148e930abde4d11969c4cbb87746a76",
      "f8a3eba3388a499699dc2aab819ccf37",
      "3e86672f2c5445e78f547d0daa81130a",
      "2f7fcbf7002a47a3a12fc6e3004268e0",
      "6c4cb58b11cd4d8cb045ebc0d791af39",
      "dca3293660e54b95a688b97380a3a30f",
      "23498c1b1128476ab9b78f4b8bff4b16",
      "99f320858bac4850a917eb7770940297",
      "efdec556de8d4852917f68c1aadb7c67",
      "7374a10600a54776acc561a7ac44b31d",
      "714553d5b0664a969727a6e86effc8fb",
      "e7a9b2d247d14e47afa50529fda5754f",
      "632721fe9658454a9759a705ac201595",
      "5f81f63f230a48e9a2a47d0f34d4a3cb",
      "7cffe3c315974ac399860dc078d03e01",
      "39fa2e1eaa744cb49fcc76ae6b898f34",
      "ca1a5b8687394c0194e89718d51ffc77",
      "79fdb4eaf7124498838e15e64f7de89b",
      "7e68137830d24e31b2f9d9095ceffe22",
      "97185abb82a94dada700776a9fb576c6",
      "e6536aef5aee4e2096598f2b83dce0d2",
      "7030e10f35304651a9e08efb3d872bf8",
      "6c6b02e17c094cd48c3115b3b3e86823",
      "df8986468d8942eb8ad31ddab68b44eb",
      "068e3e8c04184b5695185364ba2d9469",
      "c6fb0bd27753406ea66878ac01d99c82",
      "7574a208545346d785d99cfeb3dccfa9",
      "6c70a8b74a9f4bb5a7f2f19bba971756",
      "7d6fc760aa0b4e33b58966aef2e1753d",
      "798ef864730b462c9614e09aa2adae1d",
      "427761e3c12f4a1db05c43b6e35ac6b1",
      "e8d50e4b7b8b436cb80c7063464d74f2",
      "5c6f6982dec74efd9b3b5581938bfe55",
      "00e32f03c22946eca1c015d10b835aa9",
      "7e4aa3ec93ab4723a5ce4d9146f9eb8a",
      "8143e162807e4c99932827eea15bddab",
      "5f07d9dcab5148a299021a4db5f7752e",
      "49ddb7b8b354477787fc0ec05a0cdb7a",
      "2ea9d0345d3b4454852b616dee893f81",
      "8c258c859b304f2ca71cdcbb6116eea2",
      "4ca63abba24e4cb4b47232fb134743e1",
      "2a0b6279771e47e0aae25672d329589a",
      "fb5341d16f904dcc9da8ffe959908e03",
      "c0278fbc7c0149c0a8c37b3acc4cad0d",
      "cb93427bcbb1417cb301b8ccaa3e09c8",
      "4857084b8222405ba846c3479e2b4378",
      "c84df49e3e464df5bf9007129ed14361",
      "62b6fadac64347a5b8759d1242e5364a",
      "a03024d9525649579c2eddaf2e1559ff",
      "82d3ce63e6814a5baf0adac5492febec",
      "9274ff1c55214e0bb81f11c132e7724a",
      "cc3d390698f1410b8aff73f5d9697c16",
      "d2d23e024de34af08b9e60798eada13c",
      "7aee8d4461e84f3bbf8a8f87cfe11566",
      "51e7ca9c6b65418db557049569079408",
      "c805f5b903cc40829748faa9861cec9c",
      "f13af0565400428cb2bb94d42538c991",
      "c1be0af7c5b846919070dda460cd6971",
      "7a29999e5cc5498d9927cba7db572298",
      "fdb754b9133049a4bc4eaaafe0a5999f",
      "b4d681317f044e5094a4e0e6fc5b6b95",
      "97f029d401a24779a9e5b4434aaf8eb1",
      "ead773298e634424a4fe645c68c91108",
      "7da57d843a2540d387c186375e60111c",
      "1066f61e8aa341b28b86a1892d901599",
      "eab6bdae04f24c03b4d65d7c6e5d0f3b",
      "f1b49d2b79f84a2e9119842ab298032f",
      "3dc451ae2a7a4c2383742e8395fdc716",
      "5ec9f70847154fa19285d5b0107e527e",
      "8c717e92c809416fa4f9a536ac2225eb",
      "b8e87aef615e467ea387a01063b7447c",
      "d778ef1df0b24c03ab0a02e89ccd4132",
      "dcb7f1c5ba7a477ea7674edf6695cdbb",
      "0510478f37774cd2a96ae904fe855428",
      "c34683259ff84b60962333f02c91289d",
      "041855ca0df4424697eab389b835503c",
      "121b868eb3a4418db794fe452f7b5b4b",
      "0c25dd8606704afbbf523b73d7557cfb",
      "4b003c4bc58c49c998be97bab78f2401",
      "a0411758be6b4638b0a9e982cf6b75f7",
      "4c625c1b6fe64be7bd52c5323f8064ec",
      "1bbb2816fdb44dc2afa39ef4c223f2c4",
      "2bc0d61c464b4089afc71fbaef5c1d13",
      "2fb03ad823ba45d2abbc3461ee46dcd1",
      "c75d75caf4714a80b86056e4744f5563",
      "97e95cb8eced4e928b0a76d404b02afe",
      "b5db828c88c2471ab20faf765d6507ab"
     ]
    },
    "id": "-np9xYK-wl8q",
    "outputId": "f584689d-bb0d-4cf2-e0e4-d3c7aff6a35e"
   },
   "outputs": [
    {
     "name": "stderr",
     "output_type": "stream",
     "text": [
      "/usr/local/lib/python3.7/dist-packages/numpy/core/_asarray.py:83: VisibleDeprecationWarning: Creating an ndarray from ragged nested sequences (which is a list-or-tuple of lists-or-tuples-or ndarrays with different lengths or shapes) is deprecated. If you meant to do this, you must specify 'dtype=object' when creating the ndarray\n",
      "  return array(a, dtype, copy=False, order=order)\n"
     ]
    },
    {
     "name": "stdout",
     "output_type": "stream",
     "text": [
      "        "
     ]
    },
    {
     "data": {
      "application/vnd.jupyter.widget-view+json": {
       "model_id": "6aa3a7ec23ac45a2be1be35320c5578d",
       "version_major": 2,
       "version_minor": 0
      },
      "text/plain": [
       "HBox(children=(FloatProgress(value=0.0, description='#1', max=174.0, style=ProgressStyle(description_width='in…"
      ]
     },
     "metadata": {
      "tags": []
     },
     "output_type": "display_data"
    },
    {
     "data": {
      "application/vnd.jupyter.widget-view+json": {
       "model_id": "89a7968110c645e29061a7a7000a9913",
       "version_major": 2,
       "version_minor": 0
      },
      "text/plain": [
       "HBox(children=(FloatProgress(value=0.0, description='#0', max=174.0, style=ProgressStyle(description_width='in…"
      ]
     },
     "metadata": {
      "tags": []
     },
     "output_type": "display_data"
    },
    {
     "data": {
      "application/vnd.jupyter.widget-view+json": {
       "model_id": "48bfd13266b64ddc8fa9daa4e5543167",
       "version_major": 2,
       "version_minor": 0
      },
      "text/plain": [
       "HBox(children=(FloatProgress(value=0.0, description='#3', max=174.0, style=ProgressStyle(description_width='in…"
      ]
     },
     "metadata": {
      "tags": []
     },
     "output_type": "display_data"
    },
    {
     "data": {
      "application/vnd.jupyter.widget-view+json": {
       "model_id": "eda213c8db4843b395b1271d43255de8",
       "version_major": 2,
       "version_minor": 0
      },
      "text/plain": [
       "HBox(children=(FloatProgress(value=0.0, description='#5', max=174.0, style=ProgressStyle(description_width='in…"
      ]
     },
     "metadata": {
      "tags": []
     },
     "output_type": "display_data"
    },
    {
     "data": {
      "application/vnd.jupyter.widget-view+json": {
       "model_id": "930d72f4a6dc43d5b25ae1ea132f8db2",
       "version_major": 2,
       "version_minor": 0
      },
      "text/plain": [
       "HBox(children=(FloatProgress(value=0.0, description='#4', max=174.0, style=ProgressStyle(description_width='in…"
      ]
     },
     "metadata": {
      "tags": []
     },
     "output_type": "display_data"
    },
    {
     "data": {
      "application/vnd.jupyter.widget-view+json": {
       "model_id": "4fd3b53805a440d4a4b6cd9644f07b85",
       "version_major": 2,
       "version_minor": 0
      },
      "text/plain": [
       "HBox(children=(FloatProgress(value=0.0, description='#2', max=174.0, style=ProgressStyle(description_width='in…"
      ]
     },
     "metadata": {
      "tags": []
     },
     "output_type": "display_data"
    },
    {
     "data": {
      "application/vnd.jupyter.widget-view+json": {
       "model_id": "99f320858bac4850a917eb7770940297",
       "version_major": 2,
       "version_minor": 0
      },
      "text/plain": [
       "HBox(children=(FloatProgress(value=0.0, description='#7', max=174.0, style=ProgressStyle(description_width='in…"
      ]
     },
     "metadata": {
      "tags": []
     },
     "output_type": "display_data"
    },
    {
     "data": {
      "application/vnd.jupyter.widget-view+json": {
       "model_id": "39fa2e1eaa744cb49fcc76ae6b898f34",
       "version_major": 2,
       "version_minor": 0
      },
      "text/plain": [
       "HBox(children=(FloatProgress(value=0.0, description='#6', max=174.0, style=ProgressStyle(description_width='in…"
      ]
     },
     "metadata": {
      "tags": []
     },
     "output_type": "display_data"
    },
    {
     "name": "stdout",
     "output_type": "stream",
     "text": [
      "\n",
      "\n",
      "\n",
      "\n",
      "\n",
      "\n",
      "\n",
      "\n",
      "        "
     ]
    },
    {
     "data": {
      "application/vnd.jupyter.widget-view+json": {
       "model_id": "df8986468d8942eb8ad31ddab68b44eb",
       "version_major": 2,
       "version_minor": 0
      },
      "text/plain": [
       "HBox(children=(FloatProgress(value=0.0, description='#0', max=73.0, style=ProgressStyle(description_width='ini…"
      ]
     },
     "metadata": {
      "tags": []
     },
     "output_type": "display_data"
    },
    {
     "data": {
      "application/vnd.jupyter.widget-view+json": {
       "model_id": "e8d50e4b7b8b436cb80c7063464d74f2",
       "version_major": 2,
       "version_minor": 0
      },
      "text/plain": [
       "HBox(children=(FloatProgress(value=0.0, description='#5', max=73.0, style=ProgressStyle(description_width='ini…"
      ]
     },
     "metadata": {
      "tags": []
     },
     "output_type": "display_data"
    },
    {
     "data": {
      "application/vnd.jupyter.widget-view+json": {
       "model_id": "8c258c859b304f2ca71cdcbb6116eea2",
       "version_major": 2,
       "version_minor": 0
      },
      "text/plain": [
       "HBox(children=(FloatProgress(value=0.0, description='#4', max=73.0, style=ProgressStyle(description_width='ini…"
      ]
     },
     "metadata": {
      "tags": []
     },
     "output_type": "display_data"
    },
    {
     "data": {
      "application/vnd.jupyter.widget-view+json": {
       "model_id": "62b6fadac64347a5b8759d1242e5364a",
       "version_major": 2,
       "version_minor": 0
      },
      "text/plain": [
       "HBox(children=(FloatProgress(value=0.0, description='#6', max=73.0, style=ProgressStyle(description_width='ini…"
      ]
     },
     "metadata": {
      "tags": []
     },
     "output_type": "display_data"
    },
    {
     "data": {
      "application/vnd.jupyter.widget-view+json": {
       "model_id": "c805f5b903cc40829748faa9861cec9c",
       "version_major": 2,
       "version_minor": 0
      },
      "text/plain": [
       "HBox(children=(FloatProgress(value=0.0, description='#3', max=73.0, style=ProgressStyle(description_width='ini…"
      ]
     },
     "metadata": {
      "tags": []
     },
     "output_type": "display_data"
    },
    {
     "data": {
      "application/vnd.jupyter.widget-view+json": {
       "model_id": "7da57d843a2540d387c186375e60111c",
       "version_major": 2,
       "version_minor": 0
      },
      "text/plain": [
       "HBox(children=(FloatProgress(value=0.0, description='#7', max=73.0, style=ProgressStyle(description_width='ini…"
      ]
     },
     "metadata": {
      "tags": []
     },
     "output_type": "display_data"
    },
    {
     "data": {
      "application/vnd.jupyter.widget-view+json": {
       "model_id": "d778ef1df0b24c03ab0a02e89ccd4132",
       "version_major": 2,
       "version_minor": 0
      },
      "text/plain": [
       "HBox(children=(FloatProgress(value=0.0, description='#2', max=73.0, style=ProgressStyle(description_width='ini…"
      ]
     },
     "metadata": {
      "tags": []
     },
     "output_type": "display_data"
    },
    {
     "data": {
      "application/vnd.jupyter.widget-view+json": {
       "model_id": "a0411758be6b4638b0a9e982cf6b75f7",
       "version_major": 2,
       "version_minor": 0
      },
      "text/plain": [
       "HBox(children=(FloatProgress(value=0.0, description='#1', max=73.0, style=ProgressStyle(description_width='ini…"
      ]
     },
     "metadata": {
      "tags": []
     },
     "output_type": "display_data"
    },
    {
     "name": "stdout",
     "output_type": "stream",
     "text": [
      "\n",
      "\n",
      "\n",
      "\n",
      "\n",
      "\n",
      "\n",
      "\n"
     ]
    }
   ],
   "source": [
    "common_voice_train = common_voice_train.map(prepare_dataset, remove_columns=common_voice_train.column_names, batch_size=8, num_proc=8, batched=True)\n",
    "#common_voice_valid = common_voice_valid.map(prepare_dataset, remove_columns=common_voice_valid.column_names, batch_size=8, num_proc=8, batched=True)\n",
    "common_voice_test = common_voice_test.map(prepare_dataset, remove_columns=common_voice_test.column_names, batch_size=8, num_proc=8, batched=True)"
   ]
  },
  {
   "cell_type": "markdown",
   "metadata": {
    "id": "gYlQkKVoRUos"
   },
   "source": [
    "## Training"
   ]
  },
  {
   "cell_type": "markdown",
   "metadata": {
    "id": "Slk403unUS91"
   },
   "source": [
    "### Set-up Trainer\n",
    "The code for the data collator was copied from [this example](https://github.com/huggingface/transformers/blob/9a06b6b11bdfc42eea08fa91d0c737d1863c99e3/examples/research_projects/wav2vec2/run_asr.py#L81)."
   ]
  },
  {
   "cell_type": "code",
   "execution_count": 30,
   "metadata": {
    "id": "tborvC9hx88e"
   },
   "outputs": [],
   "source": [
    "import torch\n",
    "\n",
    "from dataclasses import dataclass, field\n",
    "from typing import Any, Dict, List, Optional, Union\n",
    "\n",
    "@dataclass\n",
    "class DataCollatorCTCWithPadding:\n",
    "    \"\"\"\n",
    "    Data collator that will dynamically pad the inputs received.\n",
    "    Args:\n",
    "        processor (:class:`~transformers.Wav2Vec2Processor`)\n",
    "            The processor used for proccessing the data.\n",
    "        padding (:obj:`bool`, :obj:`str` or :class:`~transformers.tokenization_utils_base.PaddingStrategy`, `optional`, defaults to :obj:`True`):\n",
    "            Select a strategy to pad the returned sequences (according to the model's padding side and padding index)\n",
    "            among:\n",
    "            * :obj:`True` or :obj:`'longest'`: Pad to the longest sequence in the batch (or no padding if only a single\n",
    "              sequence if provided).\n",
    "            * :obj:`'max_length'`: Pad to a maximum length specified with the argument :obj:`max_length` or to the\n",
    "              maximum acceptable input length for the model if that argument is not provided.\n",
    "            * :obj:`False` or :obj:`'do_not_pad'` (default): No padding (i.e., can output a batch with sequences of\n",
    "              different lengths).\n",
    "        max_length (:obj:`int`, `optional`):\n",
    "            Maximum length of the ``input_values`` of the returned list and optionally padding length (see above).\n",
    "        max_length_labels (:obj:`int`, `optional`):\n",
    "            Maximum length of the ``labels`` returned list and optionally padding length (see above).\n",
    "        pad_to_multiple_of (:obj:`int`, `optional`):\n",
    "            If set will pad the sequence to a multiple of the provided value.\n",
    "            This is especially useful to enable the use of Tensor Cores on NVIDIA hardware with compute capability >=\n",
    "            7.5 (Volta).\n",
    "    \"\"\"\n",
    "\n",
    "    processor: Wav2Vec2Processor\n",
    "    padding: Union[bool, str] = True\n",
    "    max_length: Optional[int] = None\n",
    "    max_length_labels: Optional[int] = None\n",
    "    pad_to_multiple_of: Optional[int] = None\n",
    "    pad_to_multiple_of_labels: Optional[int] = None\n",
    "\n",
    "    def __call__(self, features: List[Dict[str, Union[List[int], torch.Tensor]]]) -> Dict[str, torch.Tensor]:\n",
    "        # split inputs and labels since they have to be of different lenghts and need\n",
    "        # different padding methods\n",
    "        input_features = [{\"input_values\": feature[\"input_values\"]} for feature in features]\n",
    "        label_features = [{\"input_ids\": feature[\"labels\"]} for feature in features]\n",
    "\n",
    "        batch = self.processor.pad(\n",
    "            input_features,\n",
    "            padding=self.padding,\n",
    "            max_length=self.max_length,\n",
    "            pad_to_multiple_of=self.pad_to_multiple_of,\n",
    "            return_tensors=\"pt\",\n",
    "        )\n",
    "        with self.processor.as_target_processor():\n",
    "            labels_batch = self.processor.pad(\n",
    "                label_features,\n",
    "                padding=self.padding,\n",
    "                max_length=self.max_length_labels,\n",
    "                pad_to_multiple_of=self.pad_to_multiple_of_labels,\n",
    "                return_tensors=\"pt\",\n",
    "            )\n",
    "\n",
    "        # replace padding with -100 to ignore loss correctly\n",
    "        labels = labels_batch[\"input_ids\"].masked_fill(labels_batch.attention_mask.ne(1), -100)\n",
    "\n",
    "        batch[\"labels\"] = labels\n",
    "\n",
    "        return batch"
   ]
  },
  {
   "cell_type": "code",
   "execution_count": 31,
   "metadata": {
    "id": "lbQf5GuZyQ4_"
   },
   "outputs": [],
   "source": [
    "data_collator = DataCollatorCTCWithPadding(processor=processor, padding=True)"
   ]
  },
  {
   "cell_type": "markdown",
   "metadata": {
    "id": "xO-Zdj-5cxXp"
   },
   "source": [
    "### Define WER metric"
   ]
  },
  {
   "cell_type": "code",
   "execution_count": 32,
   "metadata": {
    "colab": {
     "base_uri": "https://localhost:8080/",
     "height": 67,
     "referenced_widgets": [
      "ce643c3697b74b35881478a972fa7729",
      "89d436408c7948048306ba8f1fb940a0",
      "e5617c8c96304064967662b80ca8af50",
      "d460a596246c432a94ac33d1d864231e",
      "1282ce1aac6d44d382e914780c36b26b",
      "55bbbf54c1df45b49f1bb54302599fa2",
      "c3eb6363b68f41b1b104108b1b898dd8",
      "c33f3dfddd0d43288c0d3b2aa7fa9b31"
     ]
    },
    "id": "9Xsux2gmyXso",
    "outputId": "a7f58ed8-f265-4aaa-accf-d8338c98e897"
   },
   "outputs": [
    {
     "data": {
      "application/vnd.jupyter.widget-view+json": {
       "model_id": "ce643c3697b74b35881478a972fa7729",
       "version_major": 2,
       "version_minor": 0
      },
      "text/plain": [
       "HBox(children=(FloatProgress(value=0.0, description='Downloading', max=1764.0, style=ProgressStyle(description…"
      ]
     },
     "metadata": {
      "tags": []
     },
     "output_type": "display_data"
    },
    {
     "name": "stdout",
     "output_type": "stream",
     "text": [
      "\n"
     ]
    }
   ],
   "source": [
    "wer_metric = load_metric(\"wer\")"
   ]
  },
  {
   "cell_type": "code",
   "execution_count": 33,
   "metadata": {
    "id": "1XZ-kjweyTy_"
   },
   "outputs": [],
   "source": [
    "def compute_metrics(pred):\n",
    "    pred_logits = pred.predictions\n",
    "    pred_ids = np.argmax(pred_logits, axis=-1)\n",
    "\n",
    "    pred.label_ids[pred.label_ids == -100] = processor.tokenizer.pad_token_id\n",
    "\n",
    "    pred_str = processor.batch_decode(pred_ids)\n",
    "    # we do not want to group tokens when computing the metrics\n",
    "    label_str = processor.batch_decode(pred.label_ids, group_tokens=False)\n",
    "\n",
    "    wer = wer_metric.compute(predictions=pred_str, references=label_str)\n",
    "\n",
    "    return {\"wer\": wer}"
   ]
  },
  {
   "cell_type": "code",
   "execution_count": 77,
   "metadata": {
    "colab": {
     "base_uri": "https://localhost:8080/"
    },
    "id": "e7cqAWIayn6w",
    "outputId": "dafaae2a-1a18-4aab-c6ec-ef844be11827"
   },
   "outputs": [
    {
     "name": "stderr",
     "output_type": "stream",
     "text": [
      "Some weights of Wav2Vec2ForCTC were not initialized from the model checkpoint at facebook/wav2vec2-large-xlsr-53 and are newly initialized: ['lm_head.weight', 'lm_head.bias']\n",
      "You should probably TRAIN this model on a down-stream task to be able to use it for predictions and inference.\n"
     ]
    }
   ],
   "source": [
    "from transformers import Wav2Vec2ForCTC\n",
    "\n",
    "model = Wav2Vec2ForCTC.from_pretrained(\n",
    "    \"facebook/wav2vec2-large-xlsr-53\", \n",
    "    attention_dropout=0.1,\n",
    "    hidden_dropout=0.1,\n",
    "    feat_proj_dropout=0.0,\n",
    "    mask_time_prob=0.05,\n",
    "    layerdrop=0.1,\n",
    "    gradient_checkpointing=True, \n",
    "    ctc_loss_reduction=\"mean\", \n",
    "    pad_token_id=processor.tokenizer.pad_token_id,\n",
    "    vocab_size=len(processor.tokenizer)\n",
    ")"
   ]
  },
  {
   "cell_type": "code",
   "execution_count": 78,
   "metadata": {
    "id": "oGI8zObtZ3V0"
   },
   "outputs": [],
   "source": [
    "model.freeze_feature_extractor()"
   ]
  },
  {
   "cell_type": "code",
   "execution_count": 36,
   "metadata": {
    "id": "KbeKSV7uzGPP"
   },
   "outputs": [],
   "source": [
    "from transformers import TrainingArguments\n",
    "\n",
    "training_args = TrainingArguments(\n",
    "  output_dir=\"/content/gdrive/MyDrive/COLX585/wav2vec2_pt\",\n",
    "  # output_dir=\"./wav2vec2-large-xlsr-turkish-demo\",\n",
    "  group_by_length=True,\n",
    "  per_device_train_batch_size=16,\n",
    "  gradient_accumulation_steps=2,\n",
    "  evaluation_strategy=\"steps\",\n",
    "  num_train_epochs=30,\n",
    "  fp16=True,\n",
    "  save_steps=800,\n",
    "  eval_steps=400,\n",
    "  logging_steps=400,\n",
    "  learning_rate=3e-4,\n",
    "  warmup_steps=500,\n",
    "  save_total_limit=2,\n",
    ")"
   ]
  },
  {
   "cell_type": "code",
   "execution_count": 80,
   "metadata": {
    "id": "rY7vBmFCPFgC"
   },
   "outputs": [],
   "source": [
    "from transformers import Trainer\n",
    "\n",
    "trainer = Trainer(\n",
    "    model=model,\n",
    "    data_collator=data_collator,\n",
    "    args=training_args,\n",
    "    compute_metrics=compute_metrics,\n",
    "    train_dataset=common_voice_train,\n",
    "    eval_dataset=common_voice_test,\n",
    "    tokenizer=processor.feature_extractor,\n",
    "\n",
    ")"
   ]
  },
  {
   "cell_type": "markdown",
   "metadata": {
    "id": "rpvZHM1xReIW"
   },
   "source": [
    "### Training"
   ]
  },
  {
   "cell_type": "markdown",
   "metadata": {},
   "source": [
    "Training was interrupted at step 8800, so this shows the trainer resuming from that checkpoint."
   ]
  },
  {
   "cell_type": "code",
   "execution_count": 38,
   "metadata": {
    "colab": {
     "base_uri": "https://localhost:8080/",
     "height": 239
    },
    "id": "Ay8h3rHqBTL2",
    "outputId": "437aee36-ac6e-4c85-a09f-e0540e2743f9"
   },
   "outputs": [
    {
     "data": {
      "text/html": [
       "\n",
       "    <div>\n",
       "        <style>\n",
       "            /* Turns off some styling */\n",
       "            progress {\n",
       "                /* gets rid of default border in Firefox and Opera. */\n",
       "                border: none;\n",
       "                /* Needs to be in here for Safari polyfill so background images work as expected. */\n",
       "                background-size: auto;\n",
       "            }\n",
       "        </style>\n",
       "      \n",
       "      <progress value='10410' max='10410' style='width:300px; height:20px; vertical-align: middle;'></progress>\n",
       "      [10410/10410 3:09:29, Epoch 29/30]\n",
       "    </div>\n",
       "    <table border=\"1\" class=\"dataframe\">\n",
       "  <thead>\n",
       "    <tr style=\"text-align: left;\">\n",
       "      <th>Step</th>\n",
       "      <th>Training Loss</th>\n",
       "      <th>Validation Loss</th>\n",
       "      <th>Wer</th>\n",
       "      <th>Runtime</th>\n",
       "      <th>Samples Per Second</th>\n",
       "    </tr>\n",
       "  </thead>\n",
       "  <tbody>\n",
       "    <tr>\n",
       "      <td>9200</td>\n",
       "      <td>1.016900</td>\n",
       "      <td>0.357532</td>\n",
       "      <td>0.295837</td>\n",
       "      <td>602.957000</td>\n",
       "      <td>7.697000</td>\n",
       "    </tr>\n",
       "    <tr>\n",
       "      <td>9600</td>\n",
       "      <td>0.053300</td>\n",
       "      <td>0.331755</td>\n",
       "      <td>0.290308</td>\n",
       "      <td>610.036100</td>\n",
       "      <td>7.608000</td>\n",
       "    </tr>\n",
       "    <tr>\n",
       "      <td>10000</td>\n",
       "      <td>0.048500</td>\n",
       "      <td>0.328773</td>\n",
       "      <td>0.287160</td>\n",
       "      <td>607.344700</td>\n",
       "      <td>7.641000</td>\n",
       "    </tr>\n",
       "    <tr>\n",
       "      <td>10400</td>\n",
       "      <td>0.042700</td>\n",
       "      <td>0.326642</td>\n",
       "      <td>0.286026</td>\n",
       "      <td>609.727300</td>\n",
       "      <td>7.612000</td>\n",
       "    </tr>\n",
       "  </tbody>\n",
       "</table><p>"
      ],
      "text/plain": [
       "<IPython.core.display.HTML object>"
      ]
     },
     "metadata": {
      "tags": []
     },
     "output_type": "display_data"
    },
    {
     "data": {
      "text/plain": [
       "TrainOutput(global_step=10410, training_loss=0.044643297502332646, metrics={'train_runtime': 11660.668, 'train_samples_per_second': 0.893, 'total_flos': 4.52704787010419e+19, 'epoch': 30.0, 'init_mem_cpu_alloc_delta': 347756, 'init_mem_gpu_alloc_delta': 1261935616, 'init_mem_cpu_peaked_delta': 18306, 'init_mem_gpu_peaked_delta': 0, 'train_mem_cpu_alloc_delta': 4012356, 'train_mem_gpu_alloc_delta': 5090804736, 'train_mem_cpu_peaked_delta': 468610769, 'train_mem_gpu_peaked_delta': 7833652736})"
      ]
     },
     "execution_count": 38,
     "metadata": {
      "tags": []
     },
     "output_type": "execute_result"
    }
   ],
   "source": [
    "trainer.train(\"/content/gdrive/MyDrive/COLX585/wav2vec2_pt/checkpoint-8800\")"
   ]
  },
  {
   "cell_type": "markdown",
   "metadata": {},
   "source": [
    "#### Save model"
   ]
  },
  {
   "cell_type": "code",
   "execution_count": 43,
   "metadata": {
    "colab": {
     "base_uri": "https://localhost:8080/"
    },
    "id": "J8E8pxJ9hgZS",
    "outputId": "39dfd680-d63c-4d62-ba7d-66d9b8cbe591"
   },
   "outputs": [
    {
     "name": "stderr",
     "output_type": "stream",
     "text": [
      "Special tokens have been added in the vocabulary, make sure the associated word embedding are fine-tuned or trained.\n"
     ]
    }
   ],
   "source": [
    "model = Wav2Vec2ForCTC.from_pretrained(\"/content/gdrive/MyDrive/COLX585/wav2vec2_pt/checkpoint-10400\").to(\"cuda\")\n",
    "processor = Wav2Vec2Processor.from_pretrained(\"/content/gdrive/MyDrive/COLX585/wav2vec2_pt_processor\")"
   ]
  },
  {
   "cell_type": "markdown",
   "metadata": {
    "id": "ApS3MmN4v5P7"
   },
   "source": [
    "#### Decoding an example"
   ]
  },
  {
   "cell_type": "code",
   "execution_count": 66,
   "metadata": {
    "colab": {
     "base_uri": "https://localhost:8080/"
    },
    "id": "EA6fxk-jiHby",
    "outputId": "9e52883a-ecc9-4dfa-8cf1-2771c63ee23b"
   },
   "outputs": [
    {
     "name": "stderr",
     "output_type": "stream",
     "text": [
      "It is strongly recommended to pass the ``sampling_rate`` argument to this function.Failing to do so can result in silent errors that might be hard to debug.\n"
     ]
    }
   ],
   "source": [
    "input_dict = processor(common_voice_test[-1][\"input_values\"], return_tensors=\"pt\", padding=True)\n",
    "\n",
    "logits = model(input_dict.input_values.to(\"cuda\")).logits\n",
    "\n",
    "pred_ids = torch.argmax(logits, dim=-1)[0]"
   ]
  },
  {
   "cell_type": "code",
   "execution_count": null,
   "metadata": {
    "id": "OPqSwHRVPagn"
   },
   "outputs": [],
   "source": [
    "common_voice_test[1][\"input_values\"]"
   ]
  },
  {
   "cell_type": "code",
   "execution_count": 45,
   "metadata": {
    "colab": {
     "base_uri": "https://localhost:8080/"
    },
    "id": "8dPE2GRIgtx-",
    "outputId": "398f3533-d013-4f10-dbd1-08bce029bf9b"
   },
   "outputs": [
    {
     "name": "stderr",
     "output_type": "stream",
     "text": [
      "Couldn't find file locally at common_voice/common_voice.py, or remotely at https://raw.githubusercontent.com/huggingface/datasets/1.4.1/datasets/common_voice/common_voice.py.\n",
      "The file was picked from the master branch on github instead at https://raw.githubusercontent.com/huggingface/datasets/master/datasets/common_voice/common_voice.py.\n",
      "Using custom data configuration pt-ad9f7b76efa9f3a0\n",
      "Reusing dataset common_voice (/root/.cache/huggingface/datasets/common_voice/pt-ad9f7b76efa9f3a0/6.1.0/11f9069cb28d1e9b89bdeb4ad0aabef5bd43213b06f12f3d2349ba39d61968b0)\n"
     ]
    }
   ],
   "source": [
    "common_voice_test_transcription = load_dataset(\"common_voice\", \"pt\", data_dir=\"./cv-corpus-6.1-2020-12-11\", split=\"test\")"
   ]
  },
  {
   "cell_type": "code",
   "execution_count": 68,
   "metadata": {
    "colab": {
     "base_uri": "https://localhost:8080/"
    },
    "id": "Phqxa1O1jMDk",
    "outputId": "373f1c48-a1a0-49b4-8551-e9015e13d49b"
   },
   "outputs": [
    {
     "name": "stdout",
     "output_type": "stream",
     "text": [
      "Prediction:\n",
      "atualmente o readial não pôde encontrar simos nazaturma\n",
      "\n",
      "Reference:\n",
      "actualmente, o horário de aula não pode encontrar as informações da turma.\n"
     ]
    }
   ],
   "source": [
    "print(\"Prediction:\")\n",
    "print(processor.decode(pred_ids))\n",
    "\n",
    "print(\"\\nReference:\")\n",
    "print(common_voice_test_transcription[-1][\"sentence\"].lower())\n"
   ]
  },
  {
   "cell_type": "code",
   "execution_count": 58,
   "metadata": {
    "colab": {
     "base_uri": "https://localhost:8080/",
     "height": 36
    },
    "id": "R7ZSlUBUQztP",
    "outputId": "999eda27-06e9-4896-da79-7f611bdf2188"
   },
   "outputs": [
    {
     "data": {
      "application/vnd.google.colaboratory.intrinsic+json": {
       "type": "string"
      },
      "text/plain": [
       "'e dia genheiro emprestado das pessoas da aldeia'"
      ]
     },
     "execution_count": 58,
     "metadata": {
      "tags": []
     },
     "output_type": "execute_result"
    }
   ],
   "source": [
    "processor.decode(pred_ids)"
   ]
  },
  {
   "cell_type": "markdown",
   "metadata": {
    "id": "4n_8vhzUv7aw"
   },
   "source": [
    "### Creating the Prediction Files"
   ]
  },
  {
   "cell_type": "code",
   "execution_count": 69,
   "metadata": {
    "colab": {
     "base_uri": "https://localhost:8080/"
    },
    "id": "8vbTN6mPQ36W",
    "outputId": "a08e2ef0-1a8c-4292-9eb7-e1628f89578e"
   },
   "outputs": [
    {
     "data": {
      "text/plain": [
       "4641"
      ]
     },
     "execution_count": 69,
     "metadata": {
      "tags": []
     },
     "output_type": "execute_result"
    }
   ],
   "source": [
    "len(common_voice_test)"
   ]
  },
  {
   "cell_type": "code",
   "execution_count": null,
   "metadata": {
    "id": "XelxFtywQg_W"
   },
   "outputs": [],
   "source": [
    "with open(\"pt_preds.txt\", \"w\") as f:\n",
    "      for i in range(len(common_voice_test)):\n",
    "        input_dict = processor(common_voice_test[i][\"input_values\"], return_tensors=\"pt\", padding=True)\n",
    "        logits = model(input_dict.input_values.to(\"cuda\")).logits\n",
    "        pred_ids = torch.argmax(logits, dim=-1)[0]\n",
    "        pred = processor.decode(pred_ids)\n",
    "        f.write(pred + \"\\n\")"
   ]
  },
  {
   "cell_type": "code",
   "execution_count": 71,
   "metadata": {
    "id": "3B2wU8_9WPcs"
   },
   "outputs": [],
   "source": [
    "with open(\"pt_gold.txt\", \"w\") as f:\n",
    "      for i in range(len(common_voice_test_transcription)):\n",
    "        gold = common_voice_test_transcription[i][\"sentence\"].lower()\n",
    "        f.write(gold + \"\\n\")"
   ]
  }
 ],
 "metadata": {
  "accelerator": "GPU",
  "colab": {
   "collapsed_sections": [],
   "machine_shape": "hm",
   "name": "XLSR_Wav2Vec2.ipynb",
   "provenance": []
  },
  "kernelspec": {
   "display_name": "Python 3",
   "language": "python",
   "name": "python3"
  },
  "language_info": {
   "codemirror_mode": {
    "name": "ipython",
    "version": 3
   },
   "file_extension": ".py",
   "mimetype": "text/x-python",
   "name": "python",
   "nbconvert_exporter": "python",
   "pygments_lexer": "ipython3",
   "version": "3.8.3"
  },
  "widgets": {
   "application/vnd.jupyter.widget-state+json": {
    "00e32f03c22946eca1c015d10b835aa9": {
     "model_module": "@jupyter-widgets/controls",
     "model_name": "FloatProgressModel",
     "state": {
      "_dom_classes": [],
      "_model_module": "@jupyter-widgets/controls",
      "_model_module_version": "1.5.0",
      "_model_name": "FloatProgressModel",
      "_view_count": null,
      "_view_module": "@jupyter-widgets/controls",
      "_view_module_version": "1.5.0",
      "_view_name": "ProgressView",
      "bar_style": "success",
      "description": "#5: 100%",
      "description_tooltip": null,
      "layout": "IPY_MODEL_5f07d9dcab5148a299021a4db5f7752e",
      "max": 73,
      "min": 0,
      "orientation": "horizontal",
      "style": "IPY_MODEL_8143e162807e4c99932827eea15bddab",
      "value": 73
     }
    },
    "0211f925fac14306979702a574608e25": {
     "model_module": "@jupyter-widgets/controls",
     "model_name": "HTMLModel",
     "state": {
      "_dom_classes": [],
      "_model_module": "@jupyter-widgets/controls",
      "_model_module_version": "1.5.0",
      "_model_name": "HTMLModel",
      "_view_count": null,
      "_view_module": "@jupyter-widgets/controls",
      "_view_module_version": "1.5.0",
      "_view_name": "HTMLView",
      "description": "",
      "description_tooltip": null,
      "layout": "IPY_MODEL_b0279a68ba5842fbabf380183134b6e1",
      "placeholder": "​",
      "style": "IPY_MODEL_5af03905e6a44b94ab9383e04866d7b2",
      "value": " 4641/0 [00:00&lt;00:00, 15247.49 examples/s]"
     }
    },
    "02ee37d9319c49a4ade8836cf780dc72": {
     "model_module": "@jupyter-widgets/controls",
     "model_name": "ProgressStyleModel",
     "state": {
      "_model_module": "@jupyter-widgets/controls",
      "_model_module_version": "1.5.0",
      "_model_name": "ProgressStyleModel",
      "_view_count": null,
      "_view_module": "@jupyter-widgets/base",
      "_view_module_version": "1.2.0",
      "_view_name": "StyleView",
      "bar_color": null,
      "description_width": "initial"
     }
    },
    "02ff6b40b26f409084317a9b69a50d99": {
     "model_module": "@jupyter-widgets/controls",
     "model_name": "HTMLModel",
     "state": {
      "_dom_classes": [],
      "_model_module": "@jupyter-widgets/controls",
      "_model_module_version": "1.5.0",
      "_model_name": "HTMLModel",
      "_view_count": null,
      "_view_module": "@jupyter-widgets/controls",
      "_view_module_version": "1.5.0",
      "_view_name": "HTMLView",
      "description": "",
      "description_tooltip": null,
      "layout": "IPY_MODEL_e5b7773cebd2479f9fd96d5c7ff1ccaf",
      "placeholder": "​",
      "style": "IPY_MODEL_6886f753ef674d2aa29c9a2d328b8395",
      "value": " 4641/4641 [00:00&lt;00:00, 11655.97ex/s]"
     }
    },
    "041855ca0df4424697eab389b835503c": {
     "model_module": "@jupyter-widgets/controls",
     "model_name": "ProgressStyleModel",
     "state": {
      "_model_module": "@jupyter-widgets/controls",
      "_model_module_version": "1.5.0",
      "_model_name": "ProgressStyleModel",
      "_view_count": null,
      "_view_module": "@jupyter-widgets/base",
      "_view_module_version": "1.2.0",
      "_view_name": "StyleView",
      "bar_color": null,
      "description_width": "initial"
     }
    },
    "046a523dbc174c81bd9e20f51ce413e7": {
     "model_module": "@jupyter-widgets/controls",
     "model_name": "HTMLModel",
     "state": {
      "_dom_classes": [],
      "_model_module": "@jupyter-widgets/controls",
      "_model_module_version": "1.5.0",
      "_model_name": "HTMLModel",
      "_view_count": null,
      "_view_module": "@jupyter-widgets/controls",
      "_view_module_version": "1.5.0",
      "_view_name": "HTMLView",
      "description": "",
      "description_tooltip": null,
      "layout": "IPY_MODEL_4065c90dedbc4ab4878fe415b6cd28bd",
      "placeholder": "​",
      "style": "IPY_MODEL_80de3a3bf7ce4f43adf0a3c03c3f2fe2",
      "value": " 174/174 [02:54&lt;00:00,  1.00s/ba]"
     }
    },
    "0510478f37774cd2a96ae904fe855428": {
     "model_module": "@jupyter-widgets/controls",
     "model_name": "FloatProgressModel",
     "state": {
      "_dom_classes": [],
      "_model_module": "@jupyter-widgets/controls",
      "_model_module_version": "1.5.0",
      "_model_name": "FloatProgressModel",
      "_view_count": null,
      "_view_module": "@jupyter-widgets/controls",
      "_view_module_version": "1.5.0",
      "_view_name": "ProgressView",
      "bar_style": "success",
      "description": "#2: 100%",
      "description_tooltip": null,
      "layout": "IPY_MODEL_121b868eb3a4418db794fe452f7b5b4b",
      "max": 73,
      "min": 0,
      "orientation": "horizontal",
      "style": "IPY_MODEL_041855ca0df4424697eab389b835503c",
      "value": 73
     }
    },
    "053ea4b424de4006b89a4b8ec6ea65da": {
     "model_module": "@jupyter-widgets/base",
     "model_name": "LayoutModel",
     "state": {
      "_model_module": "@jupyter-widgets/base",
      "_model_module_version": "1.2.0",
      "_model_name": "LayoutModel",
      "_view_count": null,
      "_view_module": "@jupyter-widgets/base",
      "_view_module_version": "1.2.0",
      "_view_name": "LayoutView",
      "align_content": null,
      "align_items": null,
      "align_self": null,
      "border": null,
      "bottom": null,
      "display": null,
      "flex": null,
      "flex_flow": null,
      "grid_area": null,
      "grid_auto_columns": null,
      "grid_auto_flow": null,
      "grid_auto_rows": null,
      "grid_column": null,
      "grid_gap": null,
      "grid_row": null,
      "grid_template_areas": null,
      "grid_template_columns": null,
      "grid_template_rows": null,
      "height": null,
      "justify_content": null,
      "justify_items": null,
      "left": null,
      "margin": null,
      "max_height": null,
      "max_width": null,
      "min_height": null,
      "min_width": null,
      "object_fit": null,
      "object_position": null,
      "order": null,
      "overflow": null,
      "overflow_x": null,
      "overflow_y": null,
      "padding": null,
      "right": null,
      "top": null,
      "visibility": null,
      "width": null
     }
    },
    "056fc3b0502146c3a27c67a54b9aa29a": {
     "model_module": "@jupyter-widgets/controls",
     "model_name": "ProgressStyleModel",
     "state": {
      "_model_module": "@jupyter-widgets/controls",
      "_model_module_version": "1.5.0",
      "_model_name": "ProgressStyleModel",
      "_view_count": null,
      "_view_module": "@jupyter-widgets/base",
      "_view_module_version": "1.2.0",
      "_view_name": "StyleView",
      "bar_color": null,
      "description_width": "initial"
     }
    },
    "068e3e8c04184b5695185364ba2d9469": {
     "model_module": "@jupyter-widgets/base",
     "model_name": "LayoutModel",
     "state": {
      "_model_module": "@jupyter-widgets/base",
      "_model_module_version": "1.2.0",
      "_model_name": "LayoutModel",
      "_view_count": null,
      "_view_module": "@jupyter-widgets/base",
      "_view_module_version": "1.2.0",
      "_view_name": "LayoutView",
      "align_content": null,
      "align_items": null,
      "align_self": null,
      "border": null,
      "bottom": null,
      "display": null,
      "flex": null,
      "flex_flow": null,
      "grid_area": null,
      "grid_auto_columns": null,
      "grid_auto_flow": null,
      "grid_auto_rows": null,
      "grid_column": null,
      "grid_gap": null,
      "grid_row": null,
      "grid_template_areas": null,
      "grid_template_columns": null,
      "grid_template_rows": null,
      "height": null,
      "justify_content": null,
      "justify_items": null,
      "left": null,
      "margin": null,
      "max_height": null,
      "max_width": null,
      "min_height": null,
      "min_width": null,
      "object_fit": null,
      "object_position": null,
      "order": null,
      "overflow": null,
      "overflow_x": null,
      "overflow_y": null,
      "padding": null,
      "right": null,
      "top": null,
      "visibility": null,
      "width": null
     }
    },
    "06e0bdc6bf624d64b6b2b5ada0f49c6f": {
     "model_module": "@jupyter-widgets/base",
     "model_name": "LayoutModel",
     "state": {
      "_model_module": "@jupyter-widgets/base",
      "_model_module_version": "1.2.0",
      "_model_name": "LayoutModel",
      "_view_count": null,
      "_view_module": "@jupyter-widgets/base",
      "_view_module_version": "1.2.0",
      "_view_name": "LayoutView",
      "align_content": null,
      "align_items": null,
      "align_self": null,
      "border": null,
      "bottom": null,
      "display": null,
      "flex": null,
      "flex_flow": null,
      "grid_area": null,
      "grid_auto_columns": null,
      "grid_auto_flow": null,
      "grid_auto_rows": null,
      "grid_column": null,
      "grid_gap": null,
      "grid_row": null,
      "grid_template_areas": null,
      "grid_template_columns": null,
      "grid_template_rows": null,
      "height": null,
      "justify_content": null,
      "justify_items": null,
      "left": null,
      "margin": null,
      "max_height": null,
      "max_width": null,
      "min_height": null,
      "min_width": null,
      "object_fit": null,
      "object_position": null,
      "order": null,
      "overflow": null,
      "overflow_x": null,
      "overflow_y": null,
      "padding": null,
      "right": null,
      "top": null,
      "visibility": null,
      "width": null
     }
    },
    "06eaebeec8af4c28b969512aea7e893d": {
     "model_module": "@jupyter-widgets/base",
     "model_name": "LayoutModel",
     "state": {
      "_model_module": "@jupyter-widgets/base",
      "_model_module_version": "1.2.0",
      "_model_name": "LayoutModel",
      "_view_count": null,
      "_view_module": "@jupyter-widgets/base",
      "_view_module_version": "1.2.0",
      "_view_name": "LayoutView",
      "align_content": null,
      "align_items": null,
      "align_self": null,
      "border": null,
      "bottom": null,
      "display": null,
      "flex": null,
      "flex_flow": null,
      "grid_area": null,
      "grid_auto_columns": null,
      "grid_auto_flow": null,
      "grid_auto_rows": null,
      "grid_column": null,
      "grid_gap": null,
      "grid_row": null,
      "grid_template_areas": null,
      "grid_template_columns": null,
      "grid_template_rows": null,
      "height": null,
      "justify_content": null,
      "justify_items": null,
      "left": null,
      "margin": null,
      "max_height": null,
      "max_width": null,
      "min_height": null,
      "min_width": null,
      "object_fit": null,
      "object_position": null,
      "order": null,
      "overflow": null,
      "overflow_x": null,
      "overflow_y": null,
      "padding": null,
      "right": null,
      "top": null,
      "visibility": null,
      "width": null
     }
    },
    "09b1cb512e6f4133892f90aa26ca047d": {
     "model_module": "@jupyter-widgets/base",
     "model_name": "LayoutModel",
     "state": {
      "_model_module": "@jupyter-widgets/base",
      "_model_module_version": "1.2.0",
      "_model_name": "LayoutModel",
      "_view_count": null,
      "_view_module": "@jupyter-widgets/base",
      "_view_module_version": "1.2.0",
      "_view_name": "LayoutView",
      "align_content": null,
      "align_items": null,
      "align_self": null,
      "border": null,
      "bottom": null,
      "display": null,
      "flex": null,
      "flex_flow": null,
      "grid_area": null,
      "grid_auto_columns": null,
      "grid_auto_flow": null,
      "grid_auto_rows": null,
      "grid_column": null,
      "grid_gap": null,
      "grid_row": null,
      "grid_template_areas": null,
      "grid_template_columns": null,
      "grid_template_rows": null,
      "height": null,
      "justify_content": null,
      "justify_items": null,
      "left": null,
      "margin": null,
      "max_height": null,
      "max_width": null,
      "min_height": null,
      "min_width": null,
      "object_fit": null,
      "object_position": null,
      "order": null,
      "overflow": null,
      "overflow_x": null,
      "overflow_y": null,
      "padding": null,
      "right": null,
      "top": null,
      "visibility": null,
      "width": null
     }
    },
    "0b134cf6742f4833a4fce1d98e70aa90": {
     "model_module": "@jupyter-widgets/base",
     "model_name": "LayoutModel",
     "state": {
      "_model_module": "@jupyter-widgets/base",
      "_model_module_version": "1.2.0",
      "_model_name": "LayoutModel",
      "_view_count": null,
      "_view_module": "@jupyter-widgets/base",
      "_view_module_version": "1.2.0",
      "_view_name": "LayoutView",
      "align_content": null,
      "align_items": null,
      "align_self": null,
      "border": null,
      "bottom": null,
      "display": null,
      "flex": null,
      "flex_flow": null,
      "grid_area": null,
      "grid_auto_columns": null,
      "grid_auto_flow": null,
      "grid_auto_rows": null,
      "grid_column": null,
      "grid_gap": null,
      "grid_row": null,
      "grid_template_areas": null,
      "grid_template_columns": null,
      "grid_template_rows": null,
      "height": null,
      "justify_content": null,
      "justify_items": null,
      "left": null,
      "margin": null,
      "max_height": null,
      "max_width": null,
      "min_height": null,
      "min_width": null,
      "object_fit": null,
      "object_position": null,
      "order": null,
      "overflow": null,
      "overflow_x": null,
      "overflow_y": null,
      "padding": null,
      "right": null,
      "top": null,
      "visibility": null,
      "width": null
     }
    },
    "0bb448fe5dd047269553e1b756f9e03b": {
     "model_module": "@jupyter-widgets/controls",
     "model_name": "ProgressStyleModel",
     "state": {
      "_model_module": "@jupyter-widgets/controls",
      "_model_module_version": "1.5.0",
      "_model_name": "ProgressStyleModel",
      "_view_count": null,
      "_view_module": "@jupyter-widgets/base",
      "_view_module_version": "1.2.0",
      "_view_name": "StyleView",
      "bar_color": null,
      "description_width": "initial"
     }
    },
    "0c25dd8606704afbbf523b73d7557cfb": {
     "model_module": "@jupyter-widgets/controls",
     "model_name": "DescriptionStyleModel",
     "state": {
      "_model_module": "@jupyter-widgets/controls",
      "_model_module_version": "1.5.0",
      "_model_name": "DescriptionStyleModel",
      "_view_count": null,
      "_view_module": "@jupyter-widgets/base",
      "_view_module_version": "1.2.0",
      "_view_name": "StyleView",
      "description_width": ""
     }
    },
    "0d7b9d88ed5a45018f5fc9de0580627e": {
     "model_module": "@jupyter-widgets/controls",
     "model_name": "DescriptionStyleModel",
     "state": {
      "_model_module": "@jupyter-widgets/controls",
      "_model_module_version": "1.5.0",
      "_model_name": "DescriptionStyleModel",
      "_view_count": null,
      "_view_module": "@jupyter-widgets/base",
      "_view_module_version": "1.2.0",
      "_view_name": "StyleView",
      "description_width": ""
     }
    },
    "0d8b3abfdc07423785f6511b70b7fa82": {
     "model_module": "@jupyter-widgets/controls",
     "model_name": "DescriptionStyleModel",
     "state": {
      "_model_module": "@jupyter-widgets/controls",
      "_model_module_version": "1.5.0",
      "_model_name": "DescriptionStyleModel",
      "_view_count": null,
      "_view_module": "@jupyter-widgets/base",
      "_view_module_version": "1.2.0",
      "_view_name": "StyleView",
      "description_width": ""
     }
    },
    "1066f61e8aa341b28b86a1892d901599": {
     "model_module": "@jupyter-widgets/base",
     "model_name": "LayoutModel",
     "state": {
      "_model_module": "@jupyter-widgets/base",
      "_model_module_version": "1.2.0",
      "_model_name": "LayoutModel",
      "_view_count": null,
      "_view_module": "@jupyter-widgets/base",
      "_view_module_version": "1.2.0",
      "_view_name": "LayoutView",
      "align_content": null,
      "align_items": null,
      "align_self": null,
      "border": null,
      "bottom": null,
      "display": null,
      "flex": null,
      "flex_flow": null,
      "grid_area": null,
      "grid_auto_columns": null,
      "grid_auto_flow": null,
      "grid_auto_rows": null,
      "grid_column": null,
      "grid_gap": null,
      "grid_row": null,
      "grid_template_areas": null,
      "grid_template_columns": null,
      "grid_template_rows": null,
      "height": null,
      "justify_content": null,
      "justify_items": null,
      "left": null,
      "margin": null,
      "max_height": null,
      "max_width": null,
      "min_height": null,
      "min_width": null,
      "object_fit": null,
      "object_position": null,
      "order": null,
      "overflow": null,
      "overflow_x": null,
      "overflow_y": null,
      "padding": null,
      "right": null,
      "top": null,
      "visibility": null,
      "width": null
     }
    },
    "10951393b1964fb79378adc0ac56a477": {
     "model_module": "@jupyter-widgets/base",
     "model_name": "LayoutModel",
     "state": {
      "_model_module": "@jupyter-widgets/base",
      "_model_module_version": "1.2.0",
      "_model_name": "LayoutModel",
      "_view_count": null,
      "_view_module": "@jupyter-widgets/base",
      "_view_module_version": "1.2.0",
      "_view_name": "LayoutView",
      "align_content": null,
      "align_items": null,
      "align_self": null,
      "border": null,
      "bottom": null,
      "display": null,
      "flex": null,
      "flex_flow": null,
      "grid_area": null,
      "grid_auto_columns": null,
      "grid_auto_flow": null,
      "grid_auto_rows": null,
      "grid_column": null,
      "grid_gap": null,
      "grid_row": null,
      "grid_template_areas": null,
      "grid_template_columns": null,
      "grid_template_rows": null,
      "height": null,
      "justify_content": null,
      "justify_items": null,
      "left": null,
      "margin": null,
      "max_height": null,
      "max_width": null,
      "min_height": null,
      "min_width": null,
      "object_fit": null,
      "object_position": null,
      "order": null,
      "overflow": null,
      "overflow_x": null,
      "overflow_y": null,
      "padding": null,
      "right": null,
      "top": null,
      "visibility": null,
      "width": null
     }
    },
    "109884b49ad74a429c29c5ee5ff28fe9": {
     "model_module": "@jupyter-widgets/controls",
     "model_name": "FloatProgressModel",
     "state": {
      "_dom_classes": [],
      "_model_module": "@jupyter-widgets/controls",
      "_model_module_version": "1.5.0",
      "_model_name": "FloatProgressModel",
      "_view_count": null,
      "_view_module": "@jupyter-widgets/controls",
      "_view_module_version": "1.5.0",
      "_view_name": "ProgressView",
      "bar_style": "success",
      "description": "100%",
      "description_tooltip": null,
      "layout": "IPY_MODEL_ccd45af89c8e48b8b29d16f496426365",
      "max": 4641,
      "min": 0,
      "orientation": "horizontal",
      "style": "IPY_MODEL_ffc63ab2f6cc4acebd38a9362ee727db",
      "value": 4641
     }
    },
    "11e81925426c4c689bc60635a0059497": {
     "model_module": "@jupyter-widgets/base",
     "model_name": "LayoutModel",
     "state": {
      "_model_module": "@jupyter-widgets/base",
      "_model_module_version": "1.2.0",
      "_model_name": "LayoutModel",
      "_view_count": null,
      "_view_module": "@jupyter-widgets/base",
      "_view_module_version": "1.2.0",
      "_view_name": "LayoutView",
      "align_content": null,
      "align_items": null,
      "align_self": null,
      "border": null,
      "bottom": null,
      "display": null,
      "flex": null,
      "flex_flow": null,
      "grid_area": null,
      "grid_auto_columns": null,
      "grid_auto_flow": null,
      "grid_auto_rows": null,
      "grid_column": null,
      "grid_gap": null,
      "grid_row": null,
      "grid_template_areas": null,
      "grid_template_columns": null,
      "grid_template_rows": null,
      "height": null,
      "justify_content": null,
      "justify_items": null,
      "left": null,
      "margin": null,
      "max_height": null,
      "max_width": null,
      "min_height": null,
      "min_width": null,
      "object_fit": null,
      "object_position": null,
      "order": null,
      "overflow": null,
      "overflow_x": null,
      "overflow_y": null,
      "padding": null,
      "right": null,
      "top": null,
      "visibility": null,
      "width": null
     }
    },
    "121b868eb3a4418db794fe452f7b5b4b": {
     "model_module": "@jupyter-widgets/base",
     "model_name": "LayoutModel",
     "state": {
      "_model_module": "@jupyter-widgets/base",
      "_model_module_version": "1.2.0",
      "_model_name": "LayoutModel",
      "_view_count": null,
      "_view_module": "@jupyter-widgets/base",
      "_view_module_version": "1.2.0",
      "_view_name": "LayoutView",
      "align_content": null,
      "align_items": null,
      "align_self": null,
      "border": null,
      "bottom": null,
      "display": null,
      "flex": null,
      "flex_flow": null,
      "grid_area": null,
      "grid_auto_columns": null,
      "grid_auto_flow": null,
      "grid_auto_rows": null,
      "grid_column": null,
      "grid_gap": null,
      "grid_row": null,
      "grid_template_areas": null,
      "grid_template_columns": null,
      "grid_template_rows": null,
      "height": null,
      "justify_content": null,
      "justify_items": null,
      "left": null,
      "margin": null,
      "max_height": null,
      "max_width": null,
      "min_height": null,
      "min_width": null,
      "object_fit": null,
      "object_position": null,
      "order": null,
      "overflow": null,
      "overflow_x": null,
      "overflow_y": null,
      "padding": null,
      "right": null,
      "top": null,
      "visibility": null,
      "width": null
     }
    },
    "1282ce1aac6d44d382e914780c36b26b": {
     "model_module": "@jupyter-widgets/controls",
     "model_name": "ProgressStyleModel",
     "state": {
      "_model_module": "@jupyter-widgets/controls",
      "_model_module_version": "1.5.0",
      "_model_name": "ProgressStyleModel",
      "_view_count": null,
      "_view_module": "@jupyter-widgets/base",
      "_view_module_version": "1.2.0",
      "_view_name": "StyleView",
      "bar_color": null,
      "description_width": "initial"
     }
    },
    "131e6d9086ef4f9f8b58486445f3fb44": {
     "model_module": "@jupyter-widgets/base",
     "model_name": "LayoutModel",
     "state": {
      "_model_module": "@jupyter-widgets/base",
      "_model_module_version": "1.2.0",
      "_model_name": "LayoutModel",
      "_view_count": null,
      "_view_module": "@jupyter-widgets/base",
      "_view_module_version": "1.2.0",
      "_view_name": "LayoutView",
      "align_content": null,
      "align_items": null,
      "align_self": null,
      "border": null,
      "bottom": null,
      "display": null,
      "flex": null,
      "flex_flow": null,
      "grid_area": null,
      "grid_auto_columns": null,
      "grid_auto_flow": null,
      "grid_auto_rows": null,
      "grid_column": null,
      "grid_gap": null,
      "grid_row": null,
      "grid_template_areas": null,
      "grid_template_columns": null,
      "grid_template_rows": null,
      "height": null,
      "justify_content": null,
      "justify_items": null,
      "left": null,
      "margin": null,
      "max_height": null,
      "max_width": null,
      "min_height": null,
      "min_width": null,
      "object_fit": null,
      "object_position": null,
      "order": null,
      "overflow": null,
      "overflow_x": null,
      "overflow_y": null,
      "padding": null,
      "right": null,
      "top": null,
      "visibility": null,
      "width": null
     }
    },
    "137179809de441dd873c57e3dc780cf0": {
     "model_module": "@jupyter-widgets/controls",
     "model_name": "HTMLModel",
     "state": {
      "_dom_classes": [],
      "_model_module": "@jupyter-widgets/controls",
      "_model_module_version": "1.5.0",
      "_model_name": "HTMLModel",
      "_view_count": null,
      "_view_module": "@jupyter-widgets/controls",
      "_view_module_version": "1.5.0",
      "_view_name": "HTMLView",
      "description": "",
      "description_tooltip": null,
      "layout": "IPY_MODEL_71e27c89d8af4c47aa0c8b09409d3077",
      "placeholder": "​",
      "style": "IPY_MODEL_7ffd6e061dab442e9260bbaf298bf77a",
      "value": " 153k/? [00:00&lt;00:00, 2.74MB/s]"
     }
    },
    "13cef2a6b3744b09a2d11a8dd20ff345": {
     "model_module": "@jupyter-widgets/base",
     "model_name": "LayoutModel",
     "state": {
      "_model_module": "@jupyter-widgets/base",
      "_model_module_version": "1.2.0",
      "_model_name": "LayoutModel",
      "_view_count": null,
      "_view_module": "@jupyter-widgets/base",
      "_view_module_version": "1.2.0",
      "_view_name": "LayoutView",
      "align_content": null,
      "align_items": null,
      "align_self": null,
      "border": null,
      "bottom": null,
      "display": null,
      "flex": null,
      "flex_flow": null,
      "grid_area": null,
      "grid_auto_columns": null,
      "grid_auto_flow": null,
      "grid_auto_rows": null,
      "grid_column": null,
      "grid_gap": null,
      "grid_row": null,
      "grid_template_areas": null,
      "grid_template_columns": null,
      "grid_template_rows": null,
      "height": null,
      "justify_content": null,
      "justify_items": null,
      "left": null,
      "margin": null,
      "max_height": null,
      "max_width": null,
      "min_height": null,
      "min_width": null,
      "object_fit": null,
      "object_position": null,
      "order": null,
      "overflow": null,
      "overflow_x": null,
      "overflow_y": null,
      "padding": null,
      "right": null,
      "top": null,
      "visibility": null,
      "width": null
     }
    },
    "16999f20e38943bb9a23ab571771e09b": {
     "model_module": "@jupyter-widgets/base",
     "model_name": "LayoutModel",
     "state": {
      "_model_module": "@jupyter-widgets/base",
      "_model_module_version": "1.2.0",
      "_model_name": "LayoutModel",
      "_view_count": null,
      "_view_module": "@jupyter-widgets/base",
      "_view_module_version": "1.2.0",
      "_view_name": "LayoutView",
      "align_content": null,
      "align_items": null,
      "align_self": null,
      "border": null,
      "bottom": null,
      "display": null,
      "flex": null,
      "flex_flow": null,
      "grid_area": null,
      "grid_auto_columns": null,
      "grid_auto_flow": null,
      "grid_auto_rows": null,
      "grid_column": null,
      "grid_gap": null,
      "grid_row": null,
      "grid_template_areas": null,
      "grid_template_columns": null,
      "grid_template_rows": null,
      "height": null,
      "justify_content": null,
      "justify_items": null,
      "left": null,
      "margin": null,
      "max_height": null,
      "max_width": null,
      "min_height": null,
      "min_width": null,
      "object_fit": null,
      "object_position": null,
      "order": null,
      "overflow": null,
      "overflow_x": null,
      "overflow_y": null,
      "padding": null,
      "right": null,
      "top": null,
      "visibility": null,
      "width": null
     }
    },
    "170165209cf84177a43cbc53acbb1b49": {
     "model_module": "@jupyter-widgets/controls",
     "model_name": "HTMLModel",
     "state": {
      "_dom_classes": [],
      "_model_module": "@jupyter-widgets/controls",
      "_model_module_version": "1.5.0",
      "_model_name": "HTMLModel",
      "_view_count": null,
      "_view_module": "@jupyter-widgets/controls",
      "_view_module_version": "1.5.0",
      "_view_name": "HTMLView",
      "description": "",
      "description_tooltip": null,
      "layout": "IPY_MODEL_724c305991b84ac795263c42158ddb0f",
      "placeholder": "​",
      "style": "IPY_MODEL_1dd8055bb1a6484c81bfd3821495dc90",
      "value": " 8390/0 [00:00&lt;00:00, 15655.41 examples/s]"
     }
    },
    "170c295057f04477af9f9d0a7c3d9a62": {
     "model_module": "@jupyter-widgets/controls",
     "model_name": "FloatProgressModel",
     "state": {
      "_dom_classes": [],
      "_model_module": "@jupyter-widgets/controls",
      "_model_module_version": "1.5.0",
      "_model_name": "FloatProgressModel",
      "_view_count": null,
      "_view_module": "@jupyter-widgets/controls",
      "_view_module_version": "1.5.0",
      "_view_name": "ProgressView",
      "bar_style": "info",
      "description": "",
      "description_tooltip": null,
      "layout": "IPY_MODEL_aac4eef516d546bc814bee2b2ad0a1c4",
      "max": 1,
      "min": 0,
      "orientation": "horizontal",
      "style": "IPY_MODEL_67fcc2d5bf57490c958c026364a80332",
      "value": 1
     }
    },
    "1865931adf3f4733b6bfa7de080b611d": {
     "model_module": "@jupyter-widgets/controls",
     "model_name": "FloatProgressModel",
     "state": {
      "_dom_classes": [],
      "_model_module": "@jupyter-widgets/controls",
      "_model_module_version": "1.5.0",
      "_model_name": "FloatProgressModel",
      "_view_count": null,
      "_view_module": "@jupyter-widgets/controls",
      "_view_module_version": "1.5.0",
      "_view_name": "ProgressView",
      "bar_style": "success",
      "description": "100%",
      "description_tooltip": null,
      "layout": "IPY_MODEL_a62cb01b0dd243fa9222c4fc285bc465",
      "max": 11106,
      "min": 0,
      "orientation": "horizontal",
      "style": "IPY_MODEL_e638ee8b272640cdb7640aa73128fcdc",
      "value": 11106
     }
    },
    "1915300fc674486292edd8d79d62bece": {
     "model_module": "@jupyter-widgets/base",
     "model_name": "LayoutModel",
     "state": {
      "_model_module": "@jupyter-widgets/base",
      "_model_module_version": "1.2.0",
      "_model_name": "LayoutModel",
      "_view_count": null,
      "_view_module": "@jupyter-widgets/base",
      "_view_module_version": "1.2.0",
      "_view_name": "LayoutView",
      "align_content": null,
      "align_items": null,
      "align_self": null,
      "border": null,
      "bottom": null,
      "display": null,
      "flex": null,
      "flex_flow": null,
      "grid_area": null,
      "grid_auto_columns": null,
      "grid_auto_flow": null,
      "grid_auto_rows": null,
      "grid_column": null,
      "grid_gap": null,
      "grid_row": null,
      "grid_template_areas": null,
      "grid_template_columns": null,
      "grid_template_rows": null,
      "height": null,
      "justify_content": null,
      "justify_items": null,
      "left": null,
      "margin": null,
      "max_height": null,
      "max_width": null,
      "min_height": null,
      "min_width": null,
      "object_fit": null,
      "object_position": null,
      "order": null,
      "overflow": null,
      "overflow_x": null,
      "overflow_y": null,
      "padding": null,
      "right": null,
      "top": null,
      "visibility": null,
      "width": null
     }
    },
    "195d4b313bfe4e00b8dc19d334cdb87e": {
     "model_module": "@jupyter-widgets/controls",
     "model_name": "ProgressStyleModel",
     "state": {
      "_model_module": "@jupyter-widgets/controls",
      "_model_module_version": "1.5.0",
      "_model_name": "ProgressStyleModel",
      "_view_count": null,
      "_view_module": "@jupyter-widgets/base",
      "_view_module_version": "1.2.0",
      "_view_name": "StyleView",
      "bar_color": null,
      "description_width": "initial"
     }
    },
    "1b1af79fa2b64791a10ac57b019cad9f": {
     "model_module": "@jupyter-widgets/controls",
     "model_name": "FloatProgressModel",
     "state": {
      "_dom_classes": [],
      "_model_module": "@jupyter-widgets/controls",
      "_model_module_version": "1.5.0",
      "_model_name": "FloatProgressModel",
      "_view_count": null,
      "_view_module": "@jupyter-widgets/controls",
      "_view_module_version": "1.5.0",
      "_view_name": "ProgressView",
      "bar_style": "success",
      "description": "#5: 100%",
      "description_tooltip": null,
      "layout": "IPY_MODEL_379b989e7bcd4144a3f076142f155af6",
      "max": 174,
      "min": 0,
      "orientation": "horizontal",
      "style": "IPY_MODEL_c12224c3a8904677a6c926098bdc87cf",
      "value": 174
     }
    },
    "1bbb2816fdb44dc2afa39ef4c223f2c4": {
     "model_module": "@jupyter-widgets/controls",
     "model_name": "FloatProgressModel",
     "state": {
      "_dom_classes": [],
      "_model_module": "@jupyter-widgets/controls",
      "_model_module_version": "1.5.0",
      "_model_name": "FloatProgressModel",
      "_view_count": null,
      "_view_module": "@jupyter-widgets/controls",
      "_view_module_version": "1.5.0",
      "_view_name": "ProgressView",
      "bar_style": "success",
      "description": "#1: 100%",
      "description_tooltip": null,
      "layout": "IPY_MODEL_c75d75caf4714a80b86056e4744f5563",
      "max": 73,
      "min": 0,
      "orientation": "horizontal",
      "style": "IPY_MODEL_2fb03ad823ba45d2abbc3461ee46dcd1",
      "value": 73
     }
    },
    "1bdfd3fe66144aacbf086b6ad84bda8a": {
     "model_module": "@jupyter-widgets/controls",
     "model_name": "ProgressStyleModel",
     "state": {
      "_model_module": "@jupyter-widgets/controls",
      "_model_module_version": "1.5.0",
      "_model_name": "ProgressStyleModel",
      "_view_count": null,
      "_view_module": "@jupyter-widgets/base",
      "_view_module_version": "1.2.0",
      "_view_name": "StyleView",
      "bar_color": null,
      "description_width": "initial"
     }
    },
    "1be5ea6ee8cd4b6298fce2cd5b1ee921": {
     "model_module": "@jupyter-widgets/controls",
     "model_name": "HBoxModel",
     "state": {
      "_dom_classes": [],
      "_model_module": "@jupyter-widgets/controls",
      "_model_module_version": "1.5.0",
      "_model_name": "HBoxModel",
      "_view_count": null,
      "_view_module": "@jupyter-widgets/controls",
      "_view_module_version": "1.5.0",
      "_view_name": "HBoxView",
      "box_style": "",
      "children": [
       "IPY_MODEL_170c295057f04477af9f9d0a7c3d9a62",
       "IPY_MODEL_d5b36026883f49ed915c705a89971c28"
      ],
      "layout": "IPY_MODEL_56f82d6983d74abb9f6de6b4c7b89a08"
     }
    },
    "1c856f3639b244d2bcdda3a15ea55c85": {
     "model_module": "@jupyter-widgets/controls",
     "model_name": "HBoxModel",
     "state": {
      "_dom_classes": [],
      "_model_module": "@jupyter-widgets/controls",
      "_model_module_version": "1.5.0",
      "_model_name": "HBoxModel",
      "_view_count": null,
      "_view_module": "@jupyter-widgets/controls",
      "_view_module_version": "1.5.0",
      "_view_name": "HBoxView",
      "box_style": "",
      "children": [
       "IPY_MODEL_3c679e9d45a146afb6b7ff1106f74dcf",
       "IPY_MODEL_d80270a1885045b9a1687063fd8d18b9"
      ],
      "layout": "IPY_MODEL_aac1921a297d4979867fbe1d78096f89"
     }
    },
    "1dbc682150374e1eb505234bb2dfae6d": {
     "model_module": "@jupyter-widgets/base",
     "model_name": "LayoutModel",
     "state": {
      "_model_module": "@jupyter-widgets/base",
      "_model_module_version": "1.2.0",
      "_model_name": "LayoutModel",
      "_view_count": null,
      "_view_module": "@jupyter-widgets/base",
      "_view_module_version": "1.2.0",
      "_view_name": "LayoutView",
      "align_content": null,
      "align_items": null,
      "align_self": null,
      "border": null,
      "bottom": null,
      "display": null,
      "flex": null,
      "flex_flow": null,
      "grid_area": null,
      "grid_auto_columns": null,
      "grid_auto_flow": null,
      "grid_auto_rows": null,
      "grid_column": null,
      "grid_gap": null,
      "grid_row": null,
      "grid_template_areas": null,
      "grid_template_columns": null,
      "grid_template_rows": null,
      "height": null,
      "justify_content": null,
      "justify_items": null,
      "left": null,
      "margin": null,
      "max_height": null,
      "max_width": null,
      "min_height": null,
      "min_width": null,
      "object_fit": null,
      "object_position": null,
      "order": null,
      "overflow": null,
      "overflow_x": null,
      "overflow_y": null,
      "padding": null,
      "right": null,
      "top": null,
      "visibility": null,
      "width": null
     }
    },
    "1dd8055bb1a6484c81bfd3821495dc90": {
     "model_module": "@jupyter-widgets/controls",
     "model_name": "DescriptionStyleModel",
     "state": {
      "_model_module": "@jupyter-widgets/controls",
      "_model_module_version": "1.5.0",
      "_model_name": "DescriptionStyleModel",
      "_view_count": null,
      "_view_module": "@jupyter-widgets/base",
      "_view_module_version": "1.2.0",
      "_view_name": "StyleView",
      "description_width": ""
     }
    },
    "1ee4463e465143bd9dbaaa60c0882e69": {
     "model_module": "@jupyter-widgets/base",
     "model_name": "LayoutModel",
     "state": {
      "_model_module": "@jupyter-widgets/base",
      "_model_module_version": "1.2.0",
      "_model_name": "LayoutModel",
      "_view_count": null,
      "_view_module": "@jupyter-widgets/base",
      "_view_module_version": "1.2.0",
      "_view_name": "LayoutView",
      "align_content": null,
      "align_items": null,
      "align_self": null,
      "border": null,
      "bottom": null,
      "display": null,
      "flex": null,
      "flex_flow": null,
      "grid_area": null,
      "grid_auto_columns": null,
      "grid_auto_flow": null,
      "grid_auto_rows": null,
      "grid_column": null,
      "grid_gap": null,
      "grid_row": null,
      "grid_template_areas": null,
      "grid_template_columns": null,
      "grid_template_rows": null,
      "height": null,
      "justify_content": null,
      "justify_items": null,
      "left": null,
      "margin": null,
      "max_height": null,
      "max_width": null,
      "min_height": null,
      "min_width": null,
      "object_fit": null,
      "object_position": null,
      "order": null,
      "overflow": null,
      "overflow_x": null,
      "overflow_y": null,
      "padding": null,
      "right": null,
      "top": null,
      "visibility": null,
      "width": null
     }
    },
    "20dccbbb6166445bb84ecdebf643aa1e": {
     "model_module": "@jupyter-widgets/base",
     "model_name": "LayoutModel",
     "state": {
      "_model_module": "@jupyter-widgets/base",
      "_model_module_version": "1.2.0",
      "_model_name": "LayoutModel",
      "_view_count": null,
      "_view_module": "@jupyter-widgets/base",
      "_view_module_version": "1.2.0",
      "_view_name": "LayoutView",
      "align_content": null,
      "align_items": null,
      "align_self": null,
      "border": null,
      "bottom": null,
      "display": null,
      "flex": null,
      "flex_flow": null,
      "grid_area": null,
      "grid_auto_columns": null,
      "grid_auto_flow": null,
      "grid_auto_rows": null,
      "grid_column": null,
      "grid_gap": null,
      "grid_row": null,
      "grid_template_areas": null,
      "grid_template_columns": null,
      "grid_template_rows": null,
      "height": null,
      "justify_content": null,
      "justify_items": null,
      "left": null,
      "margin": null,
      "max_height": null,
      "max_width": null,
      "min_height": null,
      "min_width": null,
      "object_fit": null,
      "object_position": null,
      "order": null,
      "overflow": null,
      "overflow_x": null,
      "overflow_y": null,
      "padding": null,
      "right": null,
      "top": null,
      "visibility": null,
      "width": null
     }
    },
    "2148e930abde4d11969c4cbb87746a76": {
     "model_module": "@jupyter-widgets/base",
     "model_name": "LayoutModel",
     "state": {
      "_model_module": "@jupyter-widgets/base",
      "_model_module_version": "1.2.0",
      "_model_name": "LayoutModel",
      "_view_count": null,
      "_view_module": "@jupyter-widgets/base",
      "_view_module_version": "1.2.0",
      "_view_name": "LayoutView",
      "align_content": null,
      "align_items": null,
      "align_self": null,
      "border": null,
      "bottom": null,
      "display": null,
      "flex": null,
      "flex_flow": null,
      "grid_area": null,
      "grid_auto_columns": null,
      "grid_auto_flow": null,
      "grid_auto_rows": null,
      "grid_column": null,
      "grid_gap": null,
      "grid_row": null,
      "grid_template_areas": null,
      "grid_template_columns": null,
      "grid_template_rows": null,
      "height": null,
      "justify_content": null,
      "justify_items": null,
      "left": null,
      "margin": null,
      "max_height": null,
      "max_width": null,
      "min_height": null,
      "min_width": null,
      "object_fit": null,
      "object_position": null,
      "order": null,
      "overflow": null,
      "overflow_x": null,
      "overflow_y": null,
      "padding": null,
      "right": null,
      "top": null,
      "visibility": null,
      "width": null
     }
    },
    "21bfdeb85bcb4a03933d1e5f64596528": {
     "model_module": "@jupyter-widgets/controls",
     "model_name": "DescriptionStyleModel",
     "state": {
      "_model_module": "@jupyter-widgets/controls",
      "_model_module_version": "1.5.0",
      "_model_name": "DescriptionStyleModel",
      "_view_count": null,
      "_view_module": "@jupyter-widgets/base",
      "_view_module_version": "1.2.0",
      "_view_name": "StyleView",
      "description_width": ""
     }
    },
    "22a3f98eec234ca395dd23c4ffa68e88": {
     "model_module": "@jupyter-widgets/controls",
     "model_name": "FloatProgressModel",
     "state": {
      "_dom_classes": [],
      "_model_module": "@jupyter-widgets/controls",
      "_model_module_version": "1.5.0",
      "_model_name": "FloatProgressModel",
      "_view_count": null,
      "_view_module": "@jupyter-widgets/controls",
      "_view_module_version": "1.5.0",
      "_view_name": "ProgressView",
      "bar_style": "success",
      "description": "100%",
      "description_tooltip": null,
      "layout": "IPY_MODEL_24f0eca1877b42e7a712063dc32cd199",
      "max": 4641,
      "min": 0,
      "orientation": "horizontal",
      "style": "IPY_MODEL_d1158cbe2f14470099a1100e5a826c01",
      "value": 4641
     }
    },
    "22f0fb84f8b64520a0bf57fbcc3f4df1": {
     "model_module": "@jupyter-widgets/controls",
     "model_name": "FloatProgressModel",
     "state": {
      "_dom_classes": [],
      "_model_module": "@jupyter-widgets/controls",
      "_model_module_version": "1.5.0",
      "_model_name": "FloatProgressModel",
      "_view_count": null,
      "_view_module": "@jupyter-widgets/controls",
      "_view_module_version": "1.5.0",
      "_view_name": "ProgressView",
      "bar_style": "success",
      "description": "100%",
      "description_tooltip": null,
      "layout": "IPY_MODEL_e5a8b82b178944b1a6da0b5824de4ac0",
      "max": 11106,
      "min": 0,
      "orientation": "horizontal",
      "style": "IPY_MODEL_a1b6985ecadc4afa857ef4095dd18b24",
      "value": 11106
     }
    },
    "23498c1b1128476ab9b78f4b8bff4b16": {
     "model_module": "@jupyter-widgets/base",
     "model_name": "LayoutModel",
     "state": {
      "_model_module": "@jupyter-widgets/base",
      "_model_module_version": "1.2.0",
      "_model_name": "LayoutModel",
      "_view_count": null,
      "_view_module": "@jupyter-widgets/base",
      "_view_module_version": "1.2.0",
      "_view_name": "LayoutView",
      "align_content": null,
      "align_items": null,
      "align_self": null,
      "border": null,
      "bottom": null,
      "display": null,
      "flex": null,
      "flex_flow": null,
      "grid_area": null,
      "grid_auto_columns": null,
      "grid_auto_flow": null,
      "grid_auto_rows": null,
      "grid_column": null,
      "grid_gap": null,
      "grid_row": null,
      "grid_template_areas": null,
      "grid_template_columns": null,
      "grid_template_rows": null,
      "height": null,
      "justify_content": null,
      "justify_items": null,
      "left": null,
      "margin": null,
      "max_height": null,
      "max_width": null,
      "min_height": null,
      "min_width": null,
      "object_fit": null,
      "object_position": null,
      "order": null,
      "overflow": null,
      "overflow_x": null,
      "overflow_y": null,
      "padding": null,
      "right": null,
      "top": null,
      "visibility": null,
      "width": null
     }
    },
    "2444bc34e1e8454095d80ccbb2bded10": {
     "model_module": "@jupyter-widgets/base",
     "model_name": "LayoutModel",
     "state": {
      "_model_module": "@jupyter-widgets/base",
      "_model_module_version": "1.2.0",
      "_model_name": "LayoutModel",
      "_view_count": null,
      "_view_module": "@jupyter-widgets/base",
      "_view_module_version": "1.2.0",
      "_view_name": "LayoutView",
      "align_content": null,
      "align_items": null,
      "align_self": null,
      "border": null,
      "bottom": null,
      "display": null,
      "flex": null,
      "flex_flow": null,
      "grid_area": null,
      "grid_auto_columns": null,
      "grid_auto_flow": null,
      "grid_auto_rows": null,
      "grid_column": null,
      "grid_gap": null,
      "grid_row": null,
      "grid_template_areas": null,
      "grid_template_columns": null,
      "grid_template_rows": null,
      "height": null,
      "justify_content": null,
      "justify_items": null,
      "left": null,
      "margin": null,
      "max_height": null,
      "max_width": null,
      "min_height": null,
      "min_width": null,
      "object_fit": null,
      "object_position": null,
      "order": null,
      "overflow": null,
      "overflow_x": null,
      "overflow_y": null,
      "padding": null,
      "right": null,
      "top": null,
      "visibility": null,
      "width": null
     }
    },
    "24f0eca1877b42e7a712063dc32cd199": {
     "model_module": "@jupyter-widgets/base",
     "model_name": "LayoutModel",
     "state": {
      "_model_module": "@jupyter-widgets/base",
      "_model_module_version": "1.2.0",
      "_model_name": "LayoutModel",
      "_view_count": null,
      "_view_module": "@jupyter-widgets/base",
      "_view_module_version": "1.2.0",
      "_view_name": "LayoutView",
      "align_content": null,
      "align_items": null,
      "align_self": null,
      "border": null,
      "bottom": null,
      "display": null,
      "flex": null,
      "flex_flow": null,
      "grid_area": null,
      "grid_auto_columns": null,
      "grid_auto_flow": null,
      "grid_auto_rows": null,
      "grid_column": null,
      "grid_gap": null,
      "grid_row": null,
      "grid_template_areas": null,
      "grid_template_columns": null,
      "grid_template_rows": null,
      "height": null,
      "justify_content": null,
      "justify_items": null,
      "left": null,
      "margin": null,
      "max_height": null,
      "max_width": null,
      "min_height": null,
      "min_width": null,
      "object_fit": null,
      "object_position": null,
      "order": null,
      "overflow": null,
      "overflow_x": null,
      "overflow_y": null,
      "padding": null,
      "right": null,
      "top": null,
      "visibility": null,
      "width": null
     }
    },
    "24f3447527434fe2ab0e2e55e1a86700": {
     "model_module": "@jupyter-widgets/base",
     "model_name": "LayoutModel",
     "state": {
      "_model_module": "@jupyter-widgets/base",
      "_model_module_version": "1.2.0",
      "_model_name": "LayoutModel",
      "_view_count": null,
      "_view_module": "@jupyter-widgets/base",
      "_view_module_version": "1.2.0",
      "_view_name": "LayoutView",
      "align_content": null,
      "align_items": null,
      "align_self": null,
      "border": null,
      "bottom": null,
      "display": null,
      "flex": null,
      "flex_flow": null,
      "grid_area": null,
      "grid_auto_columns": null,
      "grid_auto_flow": null,
      "grid_auto_rows": null,
      "grid_column": null,
      "grid_gap": null,
      "grid_row": null,
      "grid_template_areas": null,
      "grid_template_columns": null,
      "grid_template_rows": null,
      "height": null,
      "justify_content": null,
      "justify_items": null,
      "left": null,
      "margin": null,
      "max_height": null,
      "max_width": null,
      "min_height": null,
      "min_width": null,
      "object_fit": null,
      "object_position": null,
      "order": null,
      "overflow": null,
      "overflow_x": null,
      "overflow_y": null,
      "padding": null,
      "right": null,
      "top": null,
      "visibility": null,
      "width": null
     }
    },
    "27277fe881d04e31b8b232dc783586a3": {
     "model_module": "@jupyter-widgets/base",
     "model_name": "LayoutModel",
     "state": {
      "_model_module": "@jupyter-widgets/base",
      "_model_module_version": "1.2.0",
      "_model_name": "LayoutModel",
      "_view_count": null,
      "_view_module": "@jupyter-widgets/base",
      "_view_module_version": "1.2.0",
      "_view_name": "LayoutView",
      "align_content": null,
      "align_items": null,
      "align_self": null,
      "border": null,
      "bottom": null,
      "display": null,
      "flex": null,
      "flex_flow": null,
      "grid_area": null,
      "grid_auto_columns": null,
      "grid_auto_flow": null,
      "grid_auto_rows": null,
      "grid_column": null,
      "grid_gap": null,
      "grid_row": null,
      "grid_template_areas": null,
      "grid_template_columns": null,
      "grid_template_rows": null,
      "height": null,
      "justify_content": null,
      "justify_items": null,
      "left": null,
      "margin": null,
      "max_height": null,
      "max_width": null,
      "min_height": null,
      "min_width": null,
      "object_fit": null,
      "object_position": null,
      "order": null,
      "overflow": null,
      "overflow_x": null,
      "overflow_y": null,
      "padding": null,
      "right": null,
      "top": null,
      "visibility": null,
      "width": null
     }
    },
    "2764e83e477647d6a38ce6c37f287a33": {
     "model_module": "@jupyter-widgets/controls",
     "model_name": "ProgressStyleModel",
     "state": {
      "_model_module": "@jupyter-widgets/controls",
      "_model_module_version": "1.5.0",
      "_model_name": "ProgressStyleModel",
      "_view_count": null,
      "_view_module": "@jupyter-widgets/base",
      "_view_module_version": "1.2.0",
      "_view_name": "StyleView",
      "bar_color": null,
      "description_width": "initial"
     }
    },
    "27a744f5ee3443329bfb8f1ee8f5199f": {
     "model_module": "@jupyter-widgets/controls",
     "model_name": "ProgressStyleModel",
     "state": {
      "_model_module": "@jupyter-widgets/controls",
      "_model_module_version": "1.5.0",
      "_model_name": "ProgressStyleModel",
      "_view_count": null,
      "_view_module": "@jupyter-widgets/base",
      "_view_module_version": "1.2.0",
      "_view_name": "StyleView",
      "bar_color": null,
      "description_width": "initial"
     }
    },
    "2a00bc67e46446078f1d82c9aacaf019": {
     "model_module": "@jupyter-widgets/controls",
     "model_name": "HTMLModel",
     "state": {
      "_dom_classes": [],
      "_model_module": "@jupyter-widgets/controls",
      "_model_module_version": "1.5.0",
      "_model_name": "HTMLModel",
      "_view_count": null,
      "_view_module": "@jupyter-widgets/controls",
      "_view_module_version": "1.5.0",
      "_view_name": "HTMLView",
      "description": "",
      "description_tooltip": null,
      "layout": "IPY_MODEL_8bb266a80ad84650aa5e3d9f1416c6cf",
      "placeholder": "​",
      "style": "IPY_MODEL_79a66d5b4c5d49eab2ab54c75a7f542e",
      "value": " 22.0k/? [00:45&lt;00:00, 486B/s]"
     }
    },
    "2a0b6279771e47e0aae25672d329589a": {
     "model_module": "@jupyter-widgets/controls",
     "model_name": "FloatProgressModel",
     "state": {
      "_dom_classes": [],
      "_model_module": "@jupyter-widgets/controls",
      "_model_module_version": "1.5.0",
      "_model_name": "FloatProgressModel",
      "_view_count": null,
      "_view_module": "@jupyter-widgets/controls",
      "_view_module_version": "1.5.0",
      "_view_name": "ProgressView",
      "bar_style": "success",
      "description": "#4: 100%",
      "description_tooltip": null,
      "layout": "IPY_MODEL_cb93427bcbb1417cb301b8ccaa3e09c8",
      "max": 73,
      "min": 0,
      "orientation": "horizontal",
      "style": "IPY_MODEL_c0278fbc7c0149c0a8c37b3acc4cad0d",
      "value": 73
     }
    },
    "2a525c72bd6e41af935faf888e336af0": {
     "model_module": "@jupyter-widgets/base",
     "model_name": "LayoutModel",
     "state": {
      "_model_module": "@jupyter-widgets/base",
      "_model_module_version": "1.2.0",
      "_model_name": "LayoutModel",
      "_view_count": null,
      "_view_module": "@jupyter-widgets/base",
      "_view_module_version": "1.2.0",
      "_view_name": "LayoutView",
      "align_content": null,
      "align_items": null,
      "align_self": null,
      "border": null,
      "bottom": null,
      "display": null,
      "flex": null,
      "flex_flow": null,
      "grid_area": null,
      "grid_auto_columns": null,
      "grid_auto_flow": null,
      "grid_auto_rows": null,
      "grid_column": null,
      "grid_gap": null,
      "grid_row": null,
      "grid_template_areas": null,
      "grid_template_columns": null,
      "grid_template_rows": null,
      "height": null,
      "justify_content": null,
      "justify_items": null,
      "left": null,
      "margin": null,
      "max_height": null,
      "max_width": null,
      "min_height": null,
      "min_width": null,
      "object_fit": null,
      "object_position": null,
      "order": null,
      "overflow": null,
      "overflow_x": null,
      "overflow_y": null,
      "padding": null,
      "right": null,
      "top": null,
      "visibility": null,
      "width": null
     }
    },
    "2bc0d61c464b4089afc71fbaef5c1d13": {
     "model_module": "@jupyter-widgets/controls",
     "model_name": "HTMLModel",
     "state": {
      "_dom_classes": [],
      "_model_module": "@jupyter-widgets/controls",
      "_model_module_version": "1.5.0",
      "_model_name": "HTMLModel",
      "_view_count": null,
      "_view_module": "@jupyter-widgets/controls",
      "_view_module_version": "1.5.0",
      "_view_name": "HTMLView",
      "description": "",
      "description_tooltip": null,
      "layout": "IPY_MODEL_b5db828c88c2471ab20faf765d6507ab",
      "placeholder": "​",
      "style": "IPY_MODEL_97e95cb8eced4e928b0a76d404b02afe",
      "value": " 73/73 [01:24&lt;00:00,  1.15s/ba]"
     }
    },
    "2cb4fcf7229f47458fd039b852a99ca4": {
     "model_module": "@jupyter-widgets/base",
     "model_name": "LayoutModel",
     "state": {
      "_model_module": "@jupyter-widgets/base",
      "_model_module_version": "1.2.0",
      "_model_name": "LayoutModel",
      "_view_count": null,
      "_view_module": "@jupyter-widgets/base",
      "_view_module_version": "1.2.0",
      "_view_name": "LayoutView",
      "align_content": null,
      "align_items": null,
      "align_self": null,
      "border": null,
      "bottom": null,
      "display": null,
      "flex": null,
      "flex_flow": null,
      "grid_area": null,
      "grid_auto_columns": null,
      "grid_auto_flow": null,
      "grid_auto_rows": null,
      "grid_column": null,
      "grid_gap": null,
      "grid_row": null,
      "grid_template_areas": null,
      "grid_template_columns": null,
      "grid_template_rows": null,
      "height": null,
      "justify_content": null,
      "justify_items": null,
      "left": null,
      "margin": null,
      "max_height": null,
      "max_width": null,
      "min_height": null,
      "min_width": null,
      "object_fit": null,
      "object_position": null,
      "order": null,
      "overflow": null,
      "overflow_x": null,
      "overflow_y": null,
      "padding": null,
      "right": null,
      "top": null,
      "visibility": null,
      "width": null
     }
    },
    "2ea9d0345d3b4454852b616dee893f81": {
     "model_module": "@jupyter-widgets/base",
     "model_name": "LayoutModel",
     "state": {
      "_model_module": "@jupyter-widgets/base",
      "_model_module_version": "1.2.0",
      "_model_name": "LayoutModel",
      "_view_count": null,
      "_view_module": "@jupyter-widgets/base",
      "_view_module_version": "1.2.0",
      "_view_name": "LayoutView",
      "align_content": null,
      "align_items": null,
      "align_self": null,
      "border": null,
      "bottom": null,
      "display": null,
      "flex": null,
      "flex_flow": null,
      "grid_area": null,
      "grid_auto_columns": null,
      "grid_auto_flow": null,
      "grid_auto_rows": null,
      "grid_column": null,
      "grid_gap": null,
      "grid_row": null,
      "grid_template_areas": null,
      "grid_template_columns": null,
      "grid_template_rows": null,
      "height": null,
      "justify_content": null,
      "justify_items": null,
      "left": null,
      "margin": null,
      "max_height": null,
      "max_width": null,
      "min_height": null,
      "min_width": null,
      "object_fit": null,
      "object_position": null,
      "order": null,
      "overflow": null,
      "overflow_x": null,
      "overflow_y": null,
      "padding": null,
      "right": null,
      "top": null,
      "visibility": null,
      "width": null
     }
    },
    "2f7fcbf7002a47a3a12fc6e3004268e0": {
     "model_module": "@jupyter-widgets/controls",
     "model_name": "ProgressStyleModel",
     "state": {
      "_model_module": "@jupyter-widgets/controls",
      "_model_module_version": "1.5.0",
      "_model_name": "ProgressStyleModel",
      "_view_count": null,
      "_view_module": "@jupyter-widgets/base",
      "_view_module_version": "1.2.0",
      "_view_name": "StyleView",
      "bar_color": null,
      "description_width": "initial"
     }
    },
    "2fb03ad823ba45d2abbc3461ee46dcd1": {
     "model_module": "@jupyter-widgets/controls",
     "model_name": "ProgressStyleModel",
     "state": {
      "_model_module": "@jupyter-widgets/controls",
      "_model_module_version": "1.5.0",
      "_model_name": "ProgressStyleModel",
      "_view_count": null,
      "_view_module": "@jupyter-widgets/base",
      "_view_module_version": "1.2.0",
      "_view_name": "StyleView",
      "bar_color": null,
      "description_width": "initial"
     }
    },
    "313a0b51e7bc4e42a21b62f52170a34f": {
     "model_module": "@jupyter-widgets/base",
     "model_name": "LayoutModel",
     "state": {
      "_model_module": "@jupyter-widgets/base",
      "_model_module_version": "1.2.0",
      "_model_name": "LayoutModel",
      "_view_count": null,
      "_view_module": "@jupyter-widgets/base",
      "_view_module_version": "1.2.0",
      "_view_name": "LayoutView",
      "align_content": null,
      "align_items": null,
      "align_self": null,
      "border": null,
      "bottom": null,
      "display": null,
      "flex": null,
      "flex_flow": null,
      "grid_area": null,
      "grid_auto_columns": null,
      "grid_auto_flow": null,
      "grid_auto_rows": null,
      "grid_column": null,
      "grid_gap": null,
      "grid_row": null,
      "grid_template_areas": null,
      "grid_template_columns": null,
      "grid_template_rows": null,
      "height": null,
      "justify_content": null,
      "justify_items": null,
      "left": null,
      "margin": null,
      "max_height": null,
      "max_width": null,
      "min_height": null,
      "min_width": null,
      "object_fit": null,
      "object_position": null,
      "order": null,
      "overflow": null,
      "overflow_x": null,
      "overflow_y": null,
      "padding": null,
      "right": null,
      "top": null,
      "visibility": null,
      "width": null
     }
    },
    "31e78b1a1c9b43c9869ad78f7383ae94": {
     "model_module": "@jupyter-widgets/controls",
     "model_name": "HBoxModel",
     "state": {
      "_dom_classes": [],
      "_model_module": "@jupyter-widgets/controls",
      "_model_module_version": "1.5.0",
      "_model_name": "HBoxModel",
      "_view_count": null,
      "_view_module": "@jupyter-widgets/controls",
      "_view_module_version": "1.5.0",
      "_view_name": "HBoxView",
      "box_style": "",
      "children": [
       "IPY_MODEL_50dda37c065b46149f053d4256573454",
       "IPY_MODEL_170165209cf84177a43cbc53acbb1b49"
      ],
      "layout": "IPY_MODEL_8d7738f16b13479c8eef713563c8a1ac"
     }
    },
    "33f9de9d929749aca20d4c6c65eaef19": {
     "model_module": "@jupyter-widgets/controls",
     "model_name": "DescriptionStyleModel",
     "state": {
      "_model_module": "@jupyter-widgets/controls",
      "_model_module_version": "1.5.0",
      "_model_name": "DescriptionStyleModel",
      "_view_count": null,
      "_view_module": "@jupyter-widgets/base",
      "_view_module_version": "1.2.0",
      "_view_name": "StyleView",
      "description_width": ""
     }
    },
    "379b989e7bcd4144a3f076142f155af6": {
     "model_module": "@jupyter-widgets/base",
     "model_name": "LayoutModel",
     "state": {
      "_model_module": "@jupyter-widgets/base",
      "_model_module_version": "1.2.0",
      "_model_name": "LayoutModel",
      "_view_count": null,
      "_view_module": "@jupyter-widgets/base",
      "_view_module_version": "1.2.0",
      "_view_name": "LayoutView",
      "align_content": null,
      "align_items": null,
      "align_self": null,
      "border": null,
      "bottom": null,
      "display": null,
      "flex": null,
      "flex_flow": null,
      "grid_area": null,
      "grid_auto_columns": null,
      "grid_auto_flow": null,
      "grid_auto_rows": null,
      "grid_column": null,
      "grid_gap": null,
      "grid_row": null,
      "grid_template_areas": null,
      "grid_template_columns": null,
      "grid_template_rows": null,
      "height": null,
      "justify_content": null,
      "justify_items": null,
      "left": null,
      "margin": null,
      "max_height": null,
      "max_width": null,
      "min_height": null,
      "min_width": null,
      "object_fit": null,
      "object_position": null,
      "order": null,
      "overflow": null,
      "overflow_x": null,
      "overflow_y": null,
      "padding": null,
      "right": null,
      "top": null,
      "visibility": null,
      "width": null
     }
    },
    "39c55ee4e290494b8d19c5b5e9274799": {
     "model_module": "@jupyter-widgets/controls",
     "model_name": "ProgressStyleModel",
     "state": {
      "_model_module": "@jupyter-widgets/controls",
      "_model_module_version": "1.5.0",
      "_model_name": "ProgressStyleModel",
      "_view_count": null,
      "_view_module": "@jupyter-widgets/base",
      "_view_module_version": "1.2.0",
      "_view_name": "StyleView",
      "bar_color": null,
      "description_width": "initial"
     }
    },
    "39fa2e1eaa744cb49fcc76ae6b898f34": {
     "model_module": "@jupyter-widgets/controls",
     "model_name": "HBoxModel",
     "state": {
      "_dom_classes": [],
      "_model_module": "@jupyter-widgets/controls",
      "_model_module_version": "1.5.0",
      "_model_name": "HBoxModel",
      "_view_count": null,
      "_view_module": "@jupyter-widgets/controls",
      "_view_module_version": "1.5.0",
      "_view_name": "HBoxView",
      "box_style": "",
      "children": [
       "IPY_MODEL_79fdb4eaf7124498838e15e64f7de89b",
       "IPY_MODEL_7e68137830d24e31b2f9d9095ceffe22"
      ],
      "layout": "IPY_MODEL_ca1a5b8687394c0194e89718d51ffc77"
     }
    },
    "3beab25e69894d099486d0df08153091": {
     "model_module": "@jupyter-widgets/base",
     "model_name": "LayoutModel",
     "state": {
      "_model_module": "@jupyter-widgets/base",
      "_model_module_version": "1.2.0",
      "_model_name": "LayoutModel",
      "_view_count": null,
      "_view_module": "@jupyter-widgets/base",
      "_view_module_version": "1.2.0",
      "_view_name": "LayoutView",
      "align_content": null,
      "align_items": null,
      "align_self": null,
      "border": null,
      "bottom": null,
      "display": null,
      "flex": null,
      "flex_flow": null,
      "grid_area": null,
      "grid_auto_columns": null,
      "grid_auto_flow": null,
      "grid_auto_rows": null,
      "grid_column": null,
      "grid_gap": null,
      "grid_row": null,
      "grid_template_areas": null,
      "grid_template_columns": null,
      "grid_template_rows": null,
      "height": null,
      "justify_content": null,
      "justify_items": null,
      "left": null,
      "margin": null,
      "max_height": null,
      "max_width": null,
      "min_height": null,
      "min_width": null,
      "object_fit": null,
      "object_position": null,
      "order": null,
      "overflow": null,
      "overflow_x": null,
      "overflow_y": null,
      "padding": null,
      "right": null,
      "top": null,
      "visibility": null,
      "width": null
     }
    },
    "3c4b1113b6f84343b267592bc37e4e48": {
     "model_module": "@jupyter-widgets/controls",
     "model_name": "HTMLModel",
     "state": {
      "_dom_classes": [],
      "_model_module": "@jupyter-widgets/controls",
      "_model_module_version": "1.5.0",
      "_model_name": "HTMLModel",
      "_view_count": null,
      "_view_module": "@jupyter-widgets/controls",
      "_view_module_version": "1.5.0",
      "_view_name": "HTMLView",
      "description": "",
      "description_tooltip": null,
      "layout": "IPY_MODEL_053ea4b424de4006b89a4b8ec6ea65da",
      "placeholder": "​",
      "style": "IPY_MODEL_72e4c9e3b97843bd9590c3b2f7fe028d",
      "value": " 2777/2777 [16:54&lt;00:00,  2.74ex/s]"
     }
    },
    "3c679e9d45a146afb6b7ff1106f74dcf": {
     "model_module": "@jupyter-widgets/controls",
     "model_name": "FloatProgressModel",
     "state": {
      "_dom_classes": [],
      "_model_module": "@jupyter-widgets/controls",
      "_model_module_version": "1.5.0",
      "_model_name": "FloatProgressModel",
      "_view_count": null,
      "_view_module": "@jupyter-widgets/controls",
      "_view_module_version": "1.5.0",
      "_view_name": "ProgressView",
      "bar_style": "info",
      "description": "",
      "description_tooltip": null,
      "layout": "IPY_MODEL_24f3447527434fe2ab0e2e55e1a86700",
      "max": 1,
      "min": 0,
      "orientation": "horizontal",
      "style": "IPY_MODEL_2764e83e477647d6a38ce6c37f287a33",
      "value": 1
     }
    },
    "3dc451ae2a7a4c2383742e8395fdc716": {
     "model_module": "@jupyter-widgets/controls",
     "model_name": "ProgressStyleModel",
     "state": {
      "_model_module": "@jupyter-widgets/controls",
      "_model_module_version": "1.5.0",
      "_model_name": "ProgressStyleModel",
      "_view_count": null,
      "_view_module": "@jupyter-widgets/base",
      "_view_module_version": "1.2.0",
      "_view_name": "StyleView",
      "bar_color": null,
      "description_width": "initial"
     }
    },
    "3e86672f2c5445e78f547d0daa81130a": {
     "model_module": "@jupyter-widgets/controls",
     "model_name": "HTMLModel",
     "state": {
      "_dom_classes": [],
      "_model_module": "@jupyter-widgets/controls",
      "_model_module_version": "1.5.0",
      "_model_name": "HTMLModel",
      "_view_count": null,
      "_view_module": "@jupyter-widgets/controls",
      "_view_module_version": "1.5.0",
      "_view_name": "HTMLView",
      "description": "",
      "description_tooltip": null,
      "layout": "IPY_MODEL_23498c1b1128476ab9b78f4b8bff4b16",
      "placeholder": "​",
      "style": "IPY_MODEL_dca3293660e54b95a688b97380a3a30f",
      "value": " 174/174 [02:56&lt;00:00,  1.02s/ba]"
     }
    },
    "4065c90dedbc4ab4878fe415b6cd28bd": {
     "model_module": "@jupyter-widgets/base",
     "model_name": "LayoutModel",
     "state": {
      "_model_module": "@jupyter-widgets/base",
      "_model_module_version": "1.2.0",
      "_model_name": "LayoutModel",
      "_view_count": null,
      "_view_module": "@jupyter-widgets/base",
      "_view_module_version": "1.2.0",
      "_view_name": "LayoutView",
      "align_content": null,
      "align_items": null,
      "align_self": null,
      "border": null,
      "bottom": null,
      "display": null,
      "flex": null,
      "flex_flow": null,
      "grid_area": null,
      "grid_auto_columns": null,
      "grid_auto_flow": null,
      "grid_auto_rows": null,
      "grid_column": null,
      "grid_gap": null,
      "grid_row": null,
      "grid_template_areas": null,
      "grid_template_columns": null,
      "grid_template_rows": null,
      "height": null,
      "justify_content": null,
      "justify_items": null,
      "left": null,
      "margin": null,
      "max_height": null,
      "max_width": null,
      "min_height": null,
      "min_width": null,
      "object_fit": null,
      "object_position": null,
      "order": null,
      "overflow": null,
      "overflow_x": null,
      "overflow_y": null,
      "padding": null,
      "right": null,
      "top": null,
      "visibility": null,
      "width": null
     }
    },
    "4124a88fdb6e43c1adfe15e8bfff34a7": {
     "model_module": "@jupyter-widgets/controls",
     "model_name": "DescriptionStyleModel",
     "state": {
      "_model_module": "@jupyter-widgets/controls",
      "_model_module_version": "1.5.0",
      "_model_name": "DescriptionStyleModel",
      "_view_count": null,
      "_view_module": "@jupyter-widgets/base",
      "_view_module_version": "1.2.0",
      "_view_name": "StyleView",
      "description_width": ""
     }
    },
    "41e46f0f84654c869269cbbfd46dd469": {
     "model_module": "@jupyter-widgets/base",
     "model_name": "LayoutModel",
     "state": {
      "_model_module": "@jupyter-widgets/base",
      "_model_module_version": "1.2.0",
      "_model_name": "LayoutModel",
      "_view_count": null,
      "_view_module": "@jupyter-widgets/base",
      "_view_module_version": "1.2.0",
      "_view_name": "LayoutView",
      "align_content": null,
      "align_items": null,
      "align_self": null,
      "border": null,
      "bottom": null,
      "display": null,
      "flex": null,
      "flex_flow": null,
      "grid_area": null,
      "grid_auto_columns": null,
      "grid_auto_flow": null,
      "grid_auto_rows": null,
      "grid_column": null,
      "grid_gap": null,
      "grid_row": null,
      "grid_template_areas": null,
      "grid_template_columns": null,
      "grid_template_rows": null,
      "height": null,
      "justify_content": null,
      "justify_items": null,
      "left": null,
      "margin": null,
      "max_height": null,
      "max_width": null,
      "min_height": null,
      "min_width": null,
      "object_fit": null,
      "object_position": null,
      "order": null,
      "overflow": null,
      "overflow_x": null,
      "overflow_y": null,
      "padding": null,
      "right": null,
      "top": null,
      "visibility": null,
      "width": null
     }
    },
    "427761e3c12f4a1db05c43b6e35ac6b1": {
     "model_module": "@jupyter-widgets/base",
     "model_name": "LayoutModel",
     "state": {
      "_model_module": "@jupyter-widgets/base",
      "_model_module_version": "1.2.0",
      "_model_name": "LayoutModel",
      "_view_count": null,
      "_view_module": "@jupyter-widgets/base",
      "_view_module_version": "1.2.0",
      "_view_name": "LayoutView",
      "align_content": null,
      "align_items": null,
      "align_self": null,
      "border": null,
      "bottom": null,
      "display": null,
      "flex": null,
      "flex_flow": null,
      "grid_area": null,
      "grid_auto_columns": null,
      "grid_auto_flow": null,
      "grid_auto_rows": null,
      "grid_column": null,
      "grid_gap": null,
      "grid_row": null,
      "grid_template_areas": null,
      "grid_template_columns": null,
      "grid_template_rows": null,
      "height": null,
      "justify_content": null,
      "justify_items": null,
      "left": null,
      "margin": null,
      "max_height": null,
      "max_width": null,
      "min_height": null,
      "min_width": null,
      "object_fit": null,
      "object_position": null,
      "order": null,
      "overflow": null,
      "overflow_x": null,
      "overflow_y": null,
      "padding": null,
      "right": null,
      "top": null,
      "visibility": null,
      "width": null
     }
    },
    "429a0dbd76014106920809948c927997": {
     "model_module": "@jupyter-widgets/controls",
     "model_name": "FloatProgressModel",
     "state": {
      "_dom_classes": [],
      "_model_module": "@jupyter-widgets/controls",
      "_model_module_version": "1.5.0",
      "_model_name": "FloatProgressModel",
      "_view_count": null,
      "_view_module": "@jupyter-widgets/controls",
      "_view_module_version": "1.5.0",
      "_view_name": "ProgressView",
      "bar_style": "success",
      "description": "#2: 100%",
      "description_tooltip": null,
      "layout": "IPY_MODEL_be99af66f2874688bf11e350d1496bd8",
      "max": 2776,
      "min": 0,
      "orientation": "horizontal",
      "style": "IPY_MODEL_901ecd15da2e4b85973788bf5576e563",
      "value": 2776
     }
    },
    "457c829df4064e1db571f4b028ab37dc": {
     "model_module": "@jupyter-widgets/controls",
     "model_name": "DescriptionStyleModel",
     "state": {
      "_model_module": "@jupyter-widgets/controls",
      "_model_module_version": "1.5.0",
      "_model_name": "DescriptionStyleModel",
      "_view_count": null,
      "_view_module": "@jupyter-widgets/base",
      "_view_module_version": "1.2.0",
      "_view_name": "StyleView",
      "description_width": ""
     }
    },
    "45b284528cf7490b89e23d50404f8fcd": {
     "model_module": "@jupyter-widgets/base",
     "model_name": "LayoutModel",
     "state": {
      "_model_module": "@jupyter-widgets/base",
      "_model_module_version": "1.2.0",
      "_model_name": "LayoutModel",
      "_view_count": null,
      "_view_module": "@jupyter-widgets/base",
      "_view_module_version": "1.2.0",
      "_view_name": "LayoutView",
      "align_content": null,
      "align_items": null,
      "align_self": null,
      "border": null,
      "bottom": null,
      "display": null,
      "flex": null,
      "flex_flow": null,
      "grid_area": null,
      "grid_auto_columns": null,
      "grid_auto_flow": null,
      "grid_auto_rows": null,
      "grid_column": null,
      "grid_gap": null,
      "grid_row": null,
      "grid_template_areas": null,
      "grid_template_columns": null,
      "grid_template_rows": null,
      "height": null,
      "justify_content": null,
      "justify_items": null,
      "left": null,
      "margin": null,
      "max_height": null,
      "max_width": null,
      "min_height": null,
      "min_width": null,
      "object_fit": null,
      "object_position": null,
      "order": null,
      "overflow": null,
      "overflow_x": null,
      "overflow_y": null,
      "padding": null,
      "right": null,
      "top": null,
      "visibility": null,
      "width": null
     }
    },
    "463c138211b54bf9afc59a786a8f71d0": {
     "model_module": "@jupyter-widgets/controls",
     "model_name": "FloatProgressModel",
     "state": {
      "_dom_classes": [],
      "_model_module": "@jupyter-widgets/controls",
      "_model_module_version": "1.5.0",
      "_model_name": "FloatProgressModel",
      "_view_count": null,
      "_view_module": "@jupyter-widgets/controls",
      "_view_module_version": "1.5.0",
      "_view_name": "ProgressView",
      "bar_style": "success",
      "description": "#3: 100%",
      "description_tooltip": null,
      "layout": "IPY_MODEL_45b284528cf7490b89e23d50404f8fcd",
      "max": 1160,
      "min": 0,
      "orientation": "horizontal",
      "style": "IPY_MODEL_9045d89df1ad4018b6d2906ed700a67d",
      "value": 1160
     }
    },
    "46fa8660fe724525b7253158bdc4d57f": {
     "model_module": "@jupyter-widgets/controls",
     "model_name": "HBoxModel",
     "state": {
      "_dom_classes": [],
      "_model_module": "@jupyter-widgets/controls",
      "_model_module_version": "1.5.0",
      "_model_name": "HBoxModel",
      "_view_count": null,
      "_view_module": "@jupyter-widgets/controls",
      "_view_module_version": "1.5.0",
      "_view_name": "HBoxView",
      "box_style": "",
      "children": [
       "IPY_MODEL_90fcab19221a49c4a3466608ccbb0afb",
       "IPY_MODEL_ca9356d55db2405b9220527c1a5959e6"
      ],
      "layout": "IPY_MODEL_3beab25e69894d099486d0df08153091"
     }
    },
    "47be32815c9c484cbee9968e785aeb74": {
     "model_module": "@jupyter-widgets/controls",
     "model_name": "HTMLModel",
     "state": {
      "_dom_classes": [],
      "_model_module": "@jupyter-widgets/controls",
      "_model_module_version": "1.5.0",
      "_model_name": "HTMLModel",
      "_view_count": null,
      "_view_module": "@jupyter-widgets/controls",
      "_view_module_version": "1.5.0",
      "_view_name": "HTMLView",
      "description": "",
      "description_tooltip": null,
      "layout": "IPY_MODEL_1ee4463e465143bd9dbaaa60c0882e69",
      "placeholder": "​",
      "style": "IPY_MODEL_70bdd670c7ba42be9074570c92ece79f",
      "value": " 1/1 [00:00&lt;00:00,  9.20ba/s]"
     }
    },
    "4857084b8222405ba846c3479e2b4378": {
     "model_module": "@jupyter-widgets/controls",
     "model_name": "DescriptionStyleModel",
     "state": {
      "_model_module": "@jupyter-widgets/controls",
      "_model_module_version": "1.5.0",
      "_model_name": "DescriptionStyleModel",
      "_view_count": null,
      "_view_module": "@jupyter-widgets/base",
      "_view_module_version": "1.2.0",
      "_view_name": "StyleView",
      "description_width": ""
     }
    },
    "48bfd13266b64ddc8fa9daa4e5543167": {
     "model_module": "@jupyter-widgets/controls",
     "model_name": "HBoxModel",
     "state": {
      "_dom_classes": [],
      "_model_module": "@jupyter-widgets/controls",
      "_model_module_version": "1.5.0",
      "_model_name": "HBoxModel",
      "_view_count": null,
      "_view_module": "@jupyter-widgets/controls",
      "_view_module_version": "1.5.0",
      "_view_name": "HBoxView",
      "box_style": "",
      "children": [
       "IPY_MODEL_686307a50fcb4b138c9285d805b7a9d2",
       "IPY_MODEL_4a262dc9ed2b4fed959f2089b0357663"
      ],
      "layout": "IPY_MODEL_13cef2a6b3744b09a2d11a8dd20ff345"
     }
    },
    "49ddb7b8b354477787fc0ec05a0cdb7a": {
     "model_module": "@jupyter-widgets/controls",
     "model_name": "DescriptionStyleModel",
     "state": {
      "_model_module": "@jupyter-widgets/controls",
      "_model_module_version": "1.5.0",
      "_model_name": "DescriptionStyleModel",
      "_view_count": null,
      "_view_module": "@jupyter-widgets/base",
      "_view_module_version": "1.2.0",
      "_view_name": "StyleView",
      "description_width": ""
     }
    },
    "4a262dc9ed2b4fed959f2089b0357663": {
     "model_module": "@jupyter-widgets/controls",
     "model_name": "HTMLModel",
     "state": {
      "_dom_classes": [],
      "_model_module": "@jupyter-widgets/controls",
      "_model_module_version": "1.5.0",
      "_model_name": "HTMLModel",
      "_view_count": null,
      "_view_module": "@jupyter-widgets/controls",
      "_view_module_version": "1.5.0",
      "_view_name": "HTMLView",
      "description": "",
      "description_tooltip": null,
      "layout": "IPY_MODEL_7f9c4ef09ae742a19c553f348c2f9efa",
      "placeholder": "​",
      "style": "IPY_MODEL_d43c5124a49f446fb6e8253763c359f8",
      "value": " 174/174 [03:02&lt;00:00,  1.05s/ba]"
     }
    },
    "4a3fbab97ad9473fa65414ce8d01f94c": {
     "model_module": "@jupyter-widgets/base",
     "model_name": "LayoutModel",
     "state": {
      "_model_module": "@jupyter-widgets/base",
      "_model_module_version": "1.2.0",
      "_model_name": "LayoutModel",
      "_view_count": null,
      "_view_module": "@jupyter-widgets/base",
      "_view_module_version": "1.2.0",
      "_view_name": "LayoutView",
      "align_content": null,
      "align_items": null,
      "align_self": null,
      "border": null,
      "bottom": null,
      "display": null,
      "flex": null,
      "flex_flow": null,
      "grid_area": null,
      "grid_auto_columns": null,
      "grid_auto_flow": null,
      "grid_auto_rows": null,
      "grid_column": null,
      "grid_gap": null,
      "grid_row": null,
      "grid_template_areas": null,
      "grid_template_columns": null,
      "grid_template_rows": null,
      "height": null,
      "justify_content": null,
      "justify_items": null,
      "left": null,
      "margin": null,
      "max_height": null,
      "max_width": null,
      "min_height": null,
      "min_width": null,
      "object_fit": null,
      "object_position": null,
      "order": null,
      "overflow": null,
      "overflow_x": null,
      "overflow_y": null,
      "padding": null,
      "right": null,
      "top": null,
      "visibility": null,
      "width": null
     }
    },
    "4b003c4bc58c49c998be97bab78f2401": {
     "model_module": "@jupyter-widgets/base",
     "model_name": "LayoutModel",
     "state": {
      "_model_module": "@jupyter-widgets/base",
      "_model_module_version": "1.2.0",
      "_model_name": "LayoutModel",
      "_view_count": null,
      "_view_module": "@jupyter-widgets/base",
      "_view_module_version": "1.2.0",
      "_view_name": "LayoutView",
      "align_content": null,
      "align_items": null,
      "align_self": null,
      "border": null,
      "bottom": null,
      "display": null,
      "flex": null,
      "flex_flow": null,
      "grid_area": null,
      "grid_auto_columns": null,
      "grid_auto_flow": null,
      "grid_auto_rows": null,
      "grid_column": null,
      "grid_gap": null,
      "grid_row": null,
      "grid_template_areas": null,
      "grid_template_columns": null,
      "grid_template_rows": null,
      "height": null,
      "justify_content": null,
      "justify_items": null,
      "left": null,
      "margin": null,
      "max_height": null,
      "max_width": null,
      "min_height": null,
      "min_width": null,
      "object_fit": null,
      "object_position": null,
      "order": null,
      "overflow": null,
      "overflow_x": null,
      "overflow_y": null,
      "padding": null,
      "right": null,
      "top": null,
      "visibility": null,
      "width": null
     }
    },
    "4b58171ea1334fa5a97dcf47eb936638": {
     "model_module": "@jupyter-widgets/base",
     "model_name": "LayoutModel",
     "state": {
      "_model_module": "@jupyter-widgets/base",
      "_model_module_version": "1.2.0",
      "_model_name": "LayoutModel",
      "_view_count": null,
      "_view_module": "@jupyter-widgets/base",
      "_view_module_version": "1.2.0",
      "_view_name": "LayoutView",
      "align_content": null,
      "align_items": null,
      "align_self": null,
      "border": null,
      "bottom": null,
      "display": null,
      "flex": null,
      "flex_flow": null,
      "grid_area": null,
      "grid_auto_columns": null,
      "grid_auto_flow": null,
      "grid_auto_rows": null,
      "grid_column": null,
      "grid_gap": null,
      "grid_row": null,
      "grid_template_areas": null,
      "grid_template_columns": null,
      "grid_template_rows": null,
      "height": null,
      "justify_content": null,
      "justify_items": null,
      "left": null,
      "margin": null,
      "max_height": null,
      "max_width": null,
      "min_height": null,
      "min_width": null,
      "object_fit": null,
      "object_position": null,
      "order": null,
      "overflow": null,
      "overflow_x": null,
      "overflow_y": null,
      "padding": null,
      "right": null,
      "top": null,
      "visibility": null,
      "width": null
     }
    },
    "4bc5c13b3bbb43e487d1c19f1c783134": {
     "model_module": "@jupyter-widgets/controls",
     "model_name": "HBoxModel",
     "state": {
      "_dom_classes": [],
      "_model_module": "@jupyter-widgets/controls",
      "_model_module_version": "1.5.0",
      "_model_name": "HBoxModel",
      "_view_count": null,
      "_view_module": "@jupyter-widgets/controls",
      "_view_module_version": "1.5.0",
      "_view_name": "HBoxView",
      "box_style": "",
      "children": [
       "IPY_MODEL_b3bfba718cc44d41bf4c98733bf4375a",
       "IPY_MODEL_5214264b16cd48e391db9c84114700d9"
      ],
      "layout": "IPY_MODEL_06e0bdc6bf624d64b6b2b5ada0f49c6f"
     }
    },
    "4c625c1b6fe64be7bd52c5323f8064ec": {
     "model_module": "@jupyter-widgets/base",
     "model_name": "LayoutModel",
     "state": {
      "_model_module": "@jupyter-widgets/base",
      "_model_module_version": "1.2.0",
      "_model_name": "LayoutModel",
      "_view_count": null,
      "_view_module": "@jupyter-widgets/base",
      "_view_module_version": "1.2.0",
      "_view_name": "LayoutView",
      "align_content": null,
      "align_items": null,
      "align_self": null,
      "border": null,
      "bottom": null,
      "display": null,
      "flex": null,
      "flex_flow": null,
      "grid_area": null,
      "grid_auto_columns": null,
      "grid_auto_flow": null,
      "grid_auto_rows": null,
      "grid_column": null,
      "grid_gap": null,
      "grid_row": null,
      "grid_template_areas": null,
      "grid_template_columns": null,
      "grid_template_rows": null,
      "height": null,
      "justify_content": null,
      "justify_items": null,
      "left": null,
      "margin": null,
      "max_height": null,
      "max_width": null,
      "min_height": null,
      "min_width": null,
      "object_fit": null,
      "object_position": null,
      "order": null,
      "overflow": null,
      "overflow_x": null,
      "overflow_y": null,
      "padding": null,
      "right": null,
      "top": null,
      "visibility": null,
      "width": null
     }
    },
    "4ca63abba24e4cb4b47232fb134743e1": {
     "model_module": "@jupyter-widgets/base",
     "model_name": "LayoutModel",
     "state": {
      "_model_module": "@jupyter-widgets/base",
      "_model_module_version": "1.2.0",
      "_model_name": "LayoutModel",
      "_view_count": null,
      "_view_module": "@jupyter-widgets/base",
      "_view_module_version": "1.2.0",
      "_view_name": "LayoutView",
      "align_content": null,
      "align_items": null,
      "align_self": null,
      "border": null,
      "bottom": null,
      "display": null,
      "flex": null,
      "flex_flow": null,
      "grid_area": null,
      "grid_auto_columns": null,
      "grid_auto_flow": null,
      "grid_auto_rows": null,
      "grid_column": null,
      "grid_gap": null,
      "grid_row": null,
      "grid_template_areas": null,
      "grid_template_columns": null,
      "grid_template_rows": null,
      "height": null,
      "justify_content": null,
      "justify_items": null,
      "left": null,
      "margin": null,
      "max_height": null,
      "max_width": null,
      "min_height": null,
      "min_width": null,
      "object_fit": null,
      "object_position": null,
      "order": null,
      "overflow": null,
      "overflow_x": null,
      "overflow_y": null,
      "padding": null,
      "right": null,
      "top": null,
      "visibility": null,
      "width": null
     }
    },
    "4d87c657d53349f3995e81619d121deb": {
     "model_module": "@jupyter-widgets/controls",
     "model_name": "HTMLModel",
     "state": {
      "_dom_classes": [],
      "_model_module": "@jupyter-widgets/controls",
      "_model_module_version": "1.5.0",
      "_model_name": "HTMLModel",
      "_view_count": null,
      "_view_module": "@jupyter-widgets/controls",
      "_view_module_version": "1.5.0",
      "_view_name": "HTMLView",
      "description": "",
      "description_tooltip": null,
      "layout": "IPY_MODEL_1dbc682150374e1eb505234bb2dfae6d",
      "placeholder": "​",
      "style": "IPY_MODEL_81bb00417b654aa7b722783e8b412240",
      "value": " 4641/4641 [02:09&lt;00:00, 35.89ex/s]"
     }
    },
    "4dd25806e824496d913aefd0e2581cd8": {
     "model_module": "@jupyter-widgets/controls",
     "model_name": "ProgressStyleModel",
     "state": {
      "_model_module": "@jupyter-widgets/controls",
      "_model_module_version": "1.5.0",
      "_model_name": "ProgressStyleModel",
      "_view_count": null,
      "_view_module": "@jupyter-widgets/base",
      "_view_module_version": "1.2.0",
      "_view_name": "StyleView",
      "bar_color": null,
      "description_width": "initial"
     }
    },
    "4def1eec79e54545ae930710f5bde71f": {
     "model_module": "@jupyter-widgets/controls",
     "model_name": "DescriptionStyleModel",
     "state": {
      "_model_module": "@jupyter-widgets/controls",
      "_model_module_version": "1.5.0",
      "_model_name": "DescriptionStyleModel",
      "_view_count": null,
      "_view_module": "@jupyter-widgets/base",
      "_view_module_version": "1.2.0",
      "_view_name": "StyleView",
      "description_width": ""
     }
    },
    "4e82be6a08854acfa9998f919d2aa0b1": {
     "model_module": "@jupyter-widgets/base",
     "model_name": "LayoutModel",
     "state": {
      "_model_module": "@jupyter-widgets/base",
      "_model_module_version": "1.2.0",
      "_model_name": "LayoutModel",
      "_view_count": null,
      "_view_module": "@jupyter-widgets/base",
      "_view_module_version": "1.2.0",
      "_view_name": "LayoutView",
      "align_content": null,
      "align_items": null,
      "align_self": null,
      "border": null,
      "bottom": null,
      "display": null,
      "flex": null,
      "flex_flow": null,
      "grid_area": null,
      "grid_auto_columns": null,
      "grid_auto_flow": null,
      "grid_auto_rows": null,
      "grid_column": null,
      "grid_gap": null,
      "grid_row": null,
      "grid_template_areas": null,
      "grid_template_columns": null,
      "grid_template_rows": null,
      "height": null,
      "justify_content": null,
      "justify_items": null,
      "left": null,
      "margin": null,
      "max_height": null,
      "max_width": null,
      "min_height": null,
      "min_width": null,
      "object_fit": null,
      "object_position": null,
      "order": null,
      "overflow": null,
      "overflow_x": null,
      "overflow_y": null,
      "padding": null,
      "right": null,
      "top": null,
      "visibility": null,
      "width": null
     }
    },
    "4fd3b53805a440d4a4b6cd9644f07b85": {
     "model_module": "@jupyter-widgets/controls",
     "model_name": "HBoxModel",
     "state": {
      "_dom_classes": [],
      "_model_module": "@jupyter-widgets/controls",
      "_model_module_version": "1.5.0",
      "_model_name": "HBoxModel",
      "_view_count": null,
      "_view_module": "@jupyter-widgets/controls",
      "_view_module_version": "1.5.0",
      "_view_name": "HBoxView",
      "box_style": "",
      "children": [
       "IPY_MODEL_f8a3eba3388a499699dc2aab819ccf37",
       "IPY_MODEL_3e86672f2c5445e78f547d0daa81130a"
      ],
      "layout": "IPY_MODEL_2148e930abde4d11969c4cbb87746a76"
     }
    },
    "50dda37c065b46149f053d4256573454": {
     "model_module": "@jupyter-widgets/controls",
     "model_name": "FloatProgressModel",
     "state": {
      "_dom_classes": [],
      "_model_module": "@jupyter-widgets/controls",
      "_model_module_version": "1.5.0",
      "_model_name": "FloatProgressModel",
      "_view_count": null,
      "_view_module": "@jupyter-widgets/controls",
      "_view_module_version": "1.5.0",
      "_view_name": "ProgressView",
      "bar_style": "info",
      "description": "",
      "description_tooltip": null,
      "layout": "IPY_MODEL_27277fe881d04e31b8b232dc783586a3",
      "max": 1,
      "min": 0,
      "orientation": "horizontal",
      "style": "IPY_MODEL_27a744f5ee3443329bfb8f1ee8f5199f",
      "value": 1
     }
    },
    "51652f1208604c5f9f82d25d04a95958": {
     "model_module": "@jupyter-widgets/controls",
     "model_name": "HTMLModel",
     "state": {
      "_dom_classes": [],
      "_model_module": "@jupyter-widgets/controls",
      "_model_module_version": "1.5.0",
      "_model_name": "HTMLModel",
      "_view_count": null,
      "_view_module": "@jupyter-widgets/controls",
      "_view_module_version": "1.5.0",
      "_view_name": "HTMLView",
      "description": "",
      "description_tooltip": null,
      "layout": "IPY_MODEL_e7a37383a4cf4492baa8ef0ea17e6c97",
      "placeholder": "​",
      "style": "IPY_MODEL_6fe6b621ba994e049a1da3d7c537c5bb",
      "value": " 174/174 [02:58&lt;00:00,  1.02s/ba]"
     }
    },
    "51e7ca9c6b65418db557049569079408": {
     "model_module": "@jupyter-widgets/base",
     "model_name": "LayoutModel",
     "state": {
      "_model_module": "@jupyter-widgets/base",
      "_model_module_version": "1.2.0",
      "_model_name": "LayoutModel",
      "_view_count": null,
      "_view_module": "@jupyter-widgets/base",
      "_view_module_version": "1.2.0",
      "_view_name": "LayoutView",
      "align_content": null,
      "align_items": null,
      "align_self": null,
      "border": null,
      "bottom": null,
      "display": null,
      "flex": null,
      "flex_flow": null,
      "grid_area": null,
      "grid_auto_columns": null,
      "grid_auto_flow": null,
      "grid_auto_rows": null,
      "grid_column": null,
      "grid_gap": null,
      "grid_row": null,
      "grid_template_areas": null,
      "grid_template_columns": null,
      "grid_template_rows": null,
      "height": null,
      "justify_content": null,
      "justify_items": null,
      "left": null,
      "margin": null,
      "max_height": null,
      "max_width": null,
      "min_height": null,
      "min_width": null,
      "object_fit": null,
      "object_position": null,
      "order": null,
      "overflow": null,
      "overflow_x": null,
      "overflow_y": null,
      "padding": null,
      "right": null,
      "top": null,
      "visibility": null,
      "width": null
     }
    },
    "5214264b16cd48e391db9c84114700d9": {
     "model_module": "@jupyter-widgets/controls",
     "model_name": "HTMLModel",
     "state": {
      "_dom_classes": [],
      "_model_module": "@jupyter-widgets/controls",
      "_model_module_version": "1.5.0",
      "_model_name": "HTMLModel",
      "_view_count": null,
      "_view_module": "@jupyter-widgets/controls",
      "_view_module_version": "1.5.0",
      "_view_name": "HTMLView",
      "description": "",
      "description_tooltip": null,
      "layout": "IPY_MODEL_53463de23a36461eafb5986f5d45daac",
      "placeholder": "​",
      "style": "IPY_MODEL_4def1eec79e54545ae930710f5bde71f",
      "value": " 2777/2777 [17:32&lt;00:00,  2.64ex/s]"
     }
    },
    "533cd219bbb64a42942f9ba9af3da408": {
     "model_module": "@jupyter-widgets/base",
     "model_name": "LayoutModel",
     "state": {
      "_model_module": "@jupyter-widgets/base",
      "_model_module_version": "1.2.0",
      "_model_name": "LayoutModel",
      "_view_count": null,
      "_view_module": "@jupyter-widgets/base",
      "_view_module_version": "1.2.0",
      "_view_name": "LayoutView",
      "align_content": null,
      "align_items": null,
      "align_self": null,
      "border": null,
      "bottom": null,
      "display": null,
      "flex": null,
      "flex_flow": null,
      "grid_area": null,
      "grid_auto_columns": null,
      "grid_auto_flow": null,
      "grid_auto_rows": null,
      "grid_column": null,
      "grid_gap": null,
      "grid_row": null,
      "grid_template_areas": null,
      "grid_template_columns": null,
      "grid_template_rows": null,
      "height": null,
      "justify_content": null,
      "justify_items": null,
      "left": null,
      "margin": null,
      "max_height": null,
      "max_width": null,
      "min_height": null,
      "min_width": null,
      "object_fit": null,
      "object_position": null,
      "order": null,
      "overflow": null,
      "overflow_x": null,
      "overflow_y": null,
      "padding": null,
      "right": null,
      "top": null,
      "visibility": null,
      "width": null
     }
    },
    "533e021b7e52471f9b4f49c55b20bfe0": {
     "model_module": "@jupyter-widgets/base",
     "model_name": "LayoutModel",
     "state": {
      "_model_module": "@jupyter-widgets/base",
      "_model_module_version": "1.2.0",
      "_model_name": "LayoutModel",
      "_view_count": null,
      "_view_module": "@jupyter-widgets/base",
      "_view_module_version": "1.2.0",
      "_view_name": "LayoutView",
      "align_content": null,
      "align_items": null,
      "align_self": null,
      "border": null,
      "bottom": null,
      "display": null,
      "flex": null,
      "flex_flow": null,
      "grid_area": null,
      "grid_auto_columns": null,
      "grid_auto_flow": null,
      "grid_auto_rows": null,
      "grid_column": null,
      "grid_gap": null,
      "grid_row": null,
      "grid_template_areas": null,
      "grid_template_columns": null,
      "grid_template_rows": null,
      "height": null,
      "justify_content": null,
      "justify_items": null,
      "left": null,
      "margin": null,
      "max_height": null,
      "max_width": null,
      "min_height": null,
      "min_width": null,
      "object_fit": null,
      "object_position": null,
      "order": null,
      "overflow": null,
      "overflow_x": null,
      "overflow_y": null,
      "padding": null,
      "right": null,
      "top": null,
      "visibility": null,
      "width": null
     }
    },
    "53463de23a36461eafb5986f5d45daac": {
     "model_module": "@jupyter-widgets/base",
     "model_name": "LayoutModel",
     "state": {
      "_model_module": "@jupyter-widgets/base",
      "_model_module_version": "1.2.0",
      "_model_name": "LayoutModel",
      "_view_count": null,
      "_view_module": "@jupyter-widgets/base",
      "_view_module_version": "1.2.0",
      "_view_name": "LayoutView",
      "align_content": null,
      "align_items": null,
      "align_self": null,
      "border": null,
      "bottom": null,
      "display": null,
      "flex": null,
      "flex_flow": null,
      "grid_area": null,
      "grid_auto_columns": null,
      "grid_auto_flow": null,
      "grid_auto_rows": null,
      "grid_column": null,
      "grid_gap": null,
      "grid_row": null,
      "grid_template_areas": null,
      "grid_template_columns": null,
      "grid_template_rows": null,
      "height": null,
      "justify_content": null,
      "justify_items": null,
      "left": null,
      "margin": null,
      "max_height": null,
      "max_width": null,
      "min_height": null,
      "min_width": null,
      "object_fit": null,
      "object_position": null,
      "order": null,
      "overflow": null,
      "overflow_x": null,
      "overflow_y": null,
      "padding": null,
      "right": null,
      "top": null,
      "visibility": null,
      "width": null
     }
    },
    "55bbbf54c1df45b49f1bb54302599fa2": {
     "model_module": "@jupyter-widgets/base",
     "model_name": "LayoutModel",
     "state": {
      "_model_module": "@jupyter-widgets/base",
      "_model_module_version": "1.2.0",
      "_model_name": "LayoutModel",
      "_view_count": null,
      "_view_module": "@jupyter-widgets/base",
      "_view_module_version": "1.2.0",
      "_view_name": "LayoutView",
      "align_content": null,
      "align_items": null,
      "align_self": null,
      "border": null,
      "bottom": null,
      "display": null,
      "flex": null,
      "flex_flow": null,
      "grid_area": null,
      "grid_auto_columns": null,
      "grid_auto_flow": null,
      "grid_auto_rows": null,
      "grid_column": null,
      "grid_gap": null,
      "grid_row": null,
      "grid_template_areas": null,
      "grid_template_columns": null,
      "grid_template_rows": null,
      "height": null,
      "justify_content": null,
      "justify_items": null,
      "left": null,
      "margin": null,
      "max_height": null,
      "max_width": null,
      "min_height": null,
      "min_width": null,
      "object_fit": null,
      "object_position": null,
      "order": null,
      "overflow": null,
      "overflow_x": null,
      "overflow_y": null,
      "padding": null,
      "right": null,
      "top": null,
      "visibility": null,
      "width": null
     }
    },
    "56f82d6983d74abb9f6de6b4c7b89a08": {
     "model_module": "@jupyter-widgets/base",
     "model_name": "LayoutModel",
     "state": {
      "_model_module": "@jupyter-widgets/base",
      "_model_module_version": "1.2.0",
      "_model_name": "LayoutModel",
      "_view_count": null,
      "_view_module": "@jupyter-widgets/base",
      "_view_module_version": "1.2.0",
      "_view_name": "LayoutView",
      "align_content": null,
      "align_items": null,
      "align_self": null,
      "border": null,
      "bottom": null,
      "display": null,
      "flex": null,
      "flex_flow": null,
      "grid_area": null,
      "grid_auto_columns": null,
      "grid_auto_flow": null,
      "grid_auto_rows": null,
      "grid_column": null,
      "grid_gap": null,
      "grid_row": null,
      "grid_template_areas": null,
      "grid_template_columns": null,
      "grid_template_rows": null,
      "height": null,
      "justify_content": null,
      "justify_items": null,
      "left": null,
      "margin": null,
      "max_height": null,
      "max_width": null,
      "min_height": null,
      "min_width": null,
      "object_fit": null,
      "object_position": null,
      "order": null,
      "overflow": null,
      "overflow_x": null,
      "overflow_y": null,
      "padding": null,
      "right": null,
      "top": null,
      "visibility": null,
      "width": null
     }
    },
    "57ede039e1804781baff6e1c821fb2ef": {
     "model_module": "@jupyter-widgets/controls",
     "model_name": "HTMLModel",
     "state": {
      "_dom_classes": [],
      "_model_module": "@jupyter-widgets/controls",
      "_model_module_version": "1.5.0",
      "_model_name": "HTMLModel",
      "_view_count": null,
      "_view_module": "@jupyter-widgets/controls",
      "_view_module_version": "1.5.0",
      "_view_name": "HTMLView",
      "description": "",
      "description_tooltip": null,
      "layout": "IPY_MODEL_533e021b7e52471f9b4f49c55b20bfe0",
      "placeholder": "​",
      "style": "IPY_MODEL_21bfdeb85bcb4a03933d1e5f64596528",
      "value": " 1160/1160 [07:38&lt;00:00,  2.53ex/s]"
     }
    },
    "5960c124cb904f4fa576d58d4f9f0aae": {
     "model_module": "@jupyter-widgets/base",
     "model_name": "LayoutModel",
     "state": {
      "_model_module": "@jupyter-widgets/base",
      "_model_module_version": "1.2.0",
      "_model_name": "LayoutModel",
      "_view_count": null,
      "_view_module": "@jupyter-widgets/base",
      "_view_module_version": "1.2.0",
      "_view_name": "LayoutView",
      "align_content": null,
      "align_items": null,
      "align_self": null,
      "border": null,
      "bottom": null,
      "display": null,
      "flex": null,
      "flex_flow": null,
      "grid_area": null,
      "grid_auto_columns": null,
      "grid_auto_flow": null,
      "grid_auto_rows": null,
      "grid_column": null,
      "grid_gap": null,
      "grid_row": null,
      "grid_template_areas": null,
      "grid_template_columns": null,
      "grid_template_rows": null,
      "height": null,
      "justify_content": null,
      "justify_items": null,
      "left": null,
      "margin": null,
      "max_height": null,
      "max_width": null,
      "min_height": null,
      "min_width": null,
      "object_fit": null,
      "object_position": null,
      "order": null,
      "overflow": null,
      "overflow_x": null,
      "overflow_y": null,
      "padding": null,
      "right": null,
      "top": null,
      "visibility": null,
      "width": null
     }
    },
    "5af03905e6a44b94ab9383e04866d7b2": {
     "model_module": "@jupyter-widgets/controls",
     "model_name": "DescriptionStyleModel",
     "state": {
      "_model_module": "@jupyter-widgets/controls",
      "_model_module_version": "1.5.0",
      "_model_name": "DescriptionStyleModel",
      "_view_count": null,
      "_view_module": "@jupyter-widgets/base",
      "_view_module_version": "1.2.0",
      "_view_name": "StyleView",
      "description_width": ""
     }
    },
    "5b079938fa8540d281f957d9e2ebfcb7": {
     "model_module": "@jupyter-widgets/controls",
     "model_name": "HBoxModel",
     "state": {
      "_dom_classes": [],
      "_model_module": "@jupyter-widgets/controls",
      "_model_module_version": "1.5.0",
      "_model_name": "HBoxModel",
      "_view_count": null,
      "_view_module": "@jupyter-widgets/controls",
      "_view_module_version": "1.5.0",
      "_view_name": "HBoxView",
      "box_style": "",
      "children": [
       "IPY_MODEL_22a3f98eec234ca395dd23c4ffa68e88",
       "IPY_MODEL_02ff6b40b26f409084317a9b69a50d99"
      ],
      "layout": "IPY_MODEL_b6458e35b3c74c6e9e702fe7ade7136e"
     }
    },
    "5b165a31180c4c24a636367c4b8a2ee4": {
     "model_module": "@jupyter-widgets/base",
     "model_name": "LayoutModel",
     "state": {
      "_model_module": "@jupyter-widgets/base",
      "_model_module_version": "1.2.0",
      "_model_name": "LayoutModel",
      "_view_count": null,
      "_view_module": "@jupyter-widgets/base",
      "_view_module_version": "1.2.0",
      "_view_name": "LayoutView",
      "align_content": null,
      "align_items": null,
      "align_self": null,
      "border": null,
      "bottom": null,
      "display": null,
      "flex": null,
      "flex_flow": null,
      "grid_area": null,
      "grid_auto_columns": null,
      "grid_auto_flow": null,
      "grid_auto_rows": null,
      "grid_column": null,
      "grid_gap": null,
      "grid_row": null,
      "grid_template_areas": null,
      "grid_template_columns": null,
      "grid_template_rows": null,
      "height": null,
      "justify_content": null,
      "justify_items": null,
      "left": null,
      "margin": null,
      "max_height": null,
      "max_width": null,
      "min_height": null,
      "min_width": null,
      "object_fit": null,
      "object_position": null,
      "order": null,
      "overflow": null,
      "overflow_x": null,
      "overflow_y": null,
      "padding": null,
      "right": null,
      "top": null,
      "visibility": null,
      "width": null
     }
    },
    "5c6f6982dec74efd9b3b5581938bfe55": {
     "model_module": "@jupyter-widgets/base",
     "model_name": "LayoutModel",
     "state": {
      "_model_module": "@jupyter-widgets/base",
      "_model_module_version": "1.2.0",
      "_model_name": "LayoutModel",
      "_view_count": null,
      "_view_module": "@jupyter-widgets/base",
      "_view_module_version": "1.2.0",
      "_view_name": "LayoutView",
      "align_content": null,
      "align_items": null,
      "align_self": null,
      "border": null,
      "bottom": null,
      "display": null,
      "flex": null,
      "flex_flow": null,
      "grid_area": null,
      "grid_auto_columns": null,
      "grid_auto_flow": null,
      "grid_auto_rows": null,
      "grid_column": null,
      "grid_gap": null,
      "grid_row": null,
      "grid_template_areas": null,
      "grid_template_columns": null,
      "grid_template_rows": null,
      "height": null,
      "justify_content": null,
      "justify_items": null,
      "left": null,
      "margin": null,
      "max_height": null,
      "max_width": null,
      "min_height": null,
      "min_width": null,
      "object_fit": null,
      "object_position": null,
      "order": null,
      "overflow": null,
      "overflow_x": null,
      "overflow_y": null,
      "padding": null,
      "right": null,
      "top": null,
      "visibility": null,
      "width": null
     }
    },
    "5c76272aeb904a3fad564eb88b4525e7": {
     "model_module": "@jupyter-widgets/base",
     "model_name": "LayoutModel",
     "state": {
      "_model_module": "@jupyter-widgets/base",
      "_model_module_version": "1.2.0",
      "_model_name": "LayoutModel",
      "_view_count": null,
      "_view_module": "@jupyter-widgets/base",
      "_view_module_version": "1.2.0",
      "_view_name": "LayoutView",
      "align_content": null,
      "align_items": null,
      "align_self": null,
      "border": null,
      "bottom": null,
      "display": null,
      "flex": null,
      "flex_flow": null,
      "grid_area": null,
      "grid_auto_columns": null,
      "grid_auto_flow": null,
      "grid_auto_rows": null,
      "grid_column": null,
      "grid_gap": null,
      "grid_row": null,
      "grid_template_areas": null,
      "grid_template_columns": null,
      "grid_template_rows": null,
      "height": null,
      "justify_content": null,
      "justify_items": null,
      "left": null,
      "margin": null,
      "max_height": null,
      "max_width": null,
      "min_height": null,
      "min_width": null,
      "object_fit": null,
      "object_position": null,
      "order": null,
      "overflow": null,
      "overflow_x": null,
      "overflow_y": null,
      "padding": null,
      "right": null,
      "top": null,
      "visibility": null,
      "width": null
     }
    },
    "5d05f5aaaa0c45c0af72bf0c04466729": {
     "model_module": "@jupyter-widgets/controls",
     "model_name": "HBoxModel",
     "state": {
      "_dom_classes": [],
      "_model_module": "@jupyter-widgets/controls",
      "_model_module_version": "1.5.0",
      "_model_name": "HBoxModel",
      "_view_count": null,
      "_view_module": "@jupyter-widgets/controls",
      "_view_module_version": "1.5.0",
      "_view_name": "HBoxView",
      "box_style": "",
      "children": [
       "IPY_MODEL_7dd17ca0ffba48a9a71d09aac1f151dd",
       "IPY_MODEL_2a00bc67e46446078f1d82c9aacaf019"
      ],
      "layout": "IPY_MODEL_2444bc34e1e8454095d80ccbb2bded10"
     }
    },
    "5ec9f70847154fa19285d5b0107e527e": {
     "model_module": "@jupyter-widgets/base",
     "model_name": "LayoutModel",
     "state": {
      "_model_module": "@jupyter-widgets/base",
      "_model_module_version": "1.2.0",
      "_model_name": "LayoutModel",
      "_view_count": null,
      "_view_module": "@jupyter-widgets/base",
      "_view_module_version": "1.2.0",
      "_view_name": "LayoutView",
      "align_content": null,
      "align_items": null,
      "align_self": null,
      "border": null,
      "bottom": null,
      "display": null,
      "flex": null,
      "flex_flow": null,
      "grid_area": null,
      "grid_auto_columns": null,
      "grid_auto_flow": null,
      "grid_auto_rows": null,
      "grid_column": null,
      "grid_gap": null,
      "grid_row": null,
      "grid_template_areas": null,
      "grid_template_columns": null,
      "grid_template_rows": null,
      "height": null,
      "justify_content": null,
      "justify_items": null,
      "left": null,
      "margin": null,
      "max_height": null,
      "max_width": null,
      "min_height": null,
      "min_width": null,
      "object_fit": null,
      "object_position": null,
      "order": null,
      "overflow": null,
      "overflow_x": null,
      "overflow_y": null,
      "padding": null,
      "right": null,
      "top": null,
      "visibility": null,
      "width": null
     }
    },
    "5f07d9dcab5148a299021a4db5f7752e": {
     "model_module": "@jupyter-widgets/base",
     "model_name": "LayoutModel",
     "state": {
      "_model_module": "@jupyter-widgets/base",
      "_model_module_version": "1.2.0",
      "_model_name": "LayoutModel",
      "_view_count": null,
      "_view_module": "@jupyter-widgets/base",
      "_view_module_version": "1.2.0",
      "_view_name": "LayoutView",
      "align_content": null,
      "align_items": null,
      "align_self": null,
      "border": null,
      "bottom": null,
      "display": null,
      "flex": null,
      "flex_flow": null,
      "grid_area": null,
      "grid_auto_columns": null,
      "grid_auto_flow": null,
      "grid_auto_rows": null,
      "grid_column": null,
      "grid_gap": null,
      "grid_row": null,
      "grid_template_areas": null,
      "grid_template_columns": null,
      "grid_template_rows": null,
      "height": null,
      "justify_content": null,
      "justify_items": null,
      "left": null,
      "margin": null,
      "max_height": null,
      "max_width": null,
      "min_height": null,
      "min_width": null,
      "object_fit": null,
      "object_position": null,
      "order": null,
      "overflow": null,
      "overflow_x": null,
      "overflow_y": null,
      "padding": null,
      "right": null,
      "top": null,
      "visibility": null,
      "width": null
     }
    },
    "5f81f63f230a48e9a2a47d0f34d4a3cb": {
     "model_module": "@jupyter-widgets/controls",
     "model_name": "DescriptionStyleModel",
     "state": {
      "_model_module": "@jupyter-widgets/controls",
      "_model_module_version": "1.5.0",
      "_model_name": "DescriptionStyleModel",
      "_view_count": null,
      "_view_module": "@jupyter-widgets/base",
      "_view_module_version": "1.2.0",
      "_view_name": "StyleView",
      "description_width": ""
     }
    },
    "61a3193dfdf2476e9481b01c9aab69ee": {
     "model_module": "@jupyter-widgets/controls",
     "model_name": "HTMLModel",
     "state": {
      "_dom_classes": [],
      "_model_module": "@jupyter-widgets/controls",
      "_model_module_version": "1.5.0",
      "_model_name": "HTMLModel",
      "_view_count": null,
      "_view_module": "@jupyter-widgets/controls",
      "_view_module_version": "1.5.0",
      "_view_name": "HTMLView",
      "description": "",
      "description_tooltip": null,
      "layout": "IPY_MODEL_a9308cbca1a444bf8eb76ccb4e062a1e",
      "placeholder": "​",
      "style": "IPY_MODEL_aba023d9cec441549f1b622b79bba2ca",
      "value": " 11106/11106 [06:45&lt;00:00, 27.39ex/s]"
     }
    },
    "62b6fadac64347a5b8759d1242e5364a": {
     "model_module": "@jupyter-widgets/controls",
     "model_name": "HBoxModel",
     "state": {
      "_dom_classes": [],
      "_model_module": "@jupyter-widgets/controls",
      "_model_module_version": "1.5.0",
      "_model_name": "HBoxModel",
      "_view_count": null,
      "_view_module": "@jupyter-widgets/controls",
      "_view_module_version": "1.5.0",
      "_view_name": "HBoxView",
      "box_style": "",
      "children": [
       "IPY_MODEL_82d3ce63e6814a5baf0adac5492febec",
       "IPY_MODEL_9274ff1c55214e0bb81f11c132e7724a"
      ],
      "layout": "IPY_MODEL_a03024d9525649579c2eddaf2e1559ff"
     }
    },
    "632721fe9658454a9759a705ac201595": {
     "model_module": "@jupyter-widgets/base",
     "model_name": "LayoutModel",
     "state": {
      "_model_module": "@jupyter-widgets/base",
      "_model_module_version": "1.2.0",
      "_model_name": "LayoutModel",
      "_view_count": null,
      "_view_module": "@jupyter-widgets/base",
      "_view_module_version": "1.2.0",
      "_view_name": "LayoutView",
      "align_content": null,
      "align_items": null,
      "align_self": null,
      "border": null,
      "bottom": null,
      "display": null,
      "flex": null,
      "flex_flow": null,
      "grid_area": null,
      "grid_auto_columns": null,
      "grid_auto_flow": null,
      "grid_auto_rows": null,
      "grid_column": null,
      "grid_gap": null,
      "grid_row": null,
      "grid_template_areas": null,
      "grid_template_columns": null,
      "grid_template_rows": null,
      "height": null,
      "justify_content": null,
      "justify_items": null,
      "left": null,
      "margin": null,
      "max_height": null,
      "max_width": null,
      "min_height": null,
      "min_width": null,
      "object_fit": null,
      "object_position": null,
      "order": null,
      "overflow": null,
      "overflow_x": null,
      "overflow_y": null,
      "padding": null,
      "right": null,
      "top": null,
      "visibility": null,
      "width": null
     }
    },
    "64cd2abc47d14ce1ad1cad2d89447091": {
     "model_module": "@jupyter-widgets/controls",
     "model_name": "ProgressStyleModel",
     "state": {
      "_model_module": "@jupyter-widgets/controls",
      "_model_module_version": "1.5.0",
      "_model_name": "ProgressStyleModel",
      "_view_count": null,
      "_view_module": "@jupyter-widgets/base",
      "_view_module_version": "1.2.0",
      "_view_name": "StyleView",
      "bar_color": null,
      "description_width": "initial"
     }
    },
    "64f296b0eae94f16a47306998116b7f3": {
     "model_module": "@jupyter-widgets/base",
     "model_name": "LayoutModel",
     "state": {
      "_model_module": "@jupyter-widgets/base",
      "_model_module_version": "1.2.0",
      "_model_name": "LayoutModel",
      "_view_count": null,
      "_view_module": "@jupyter-widgets/base",
      "_view_module_version": "1.2.0",
      "_view_name": "LayoutView",
      "align_content": null,
      "align_items": null,
      "align_self": null,
      "border": null,
      "bottom": null,
      "display": null,
      "flex": null,
      "flex_flow": null,
      "grid_area": null,
      "grid_auto_columns": null,
      "grid_auto_flow": null,
      "grid_auto_rows": null,
      "grid_column": null,
      "grid_gap": null,
      "grid_row": null,
      "grid_template_areas": null,
      "grid_template_columns": null,
      "grid_template_rows": null,
      "height": null,
      "justify_content": null,
      "justify_items": null,
      "left": null,
      "margin": null,
      "max_height": null,
      "max_width": null,
      "min_height": null,
      "min_width": null,
      "object_fit": null,
      "object_position": null,
      "order": null,
      "overflow": null,
      "overflow_x": null,
      "overflow_y": null,
      "padding": null,
      "right": null,
      "top": null,
      "visibility": null,
      "width": null
     }
    },
    "67fcc2d5bf57490c958c026364a80332": {
     "model_module": "@jupyter-widgets/controls",
     "model_name": "ProgressStyleModel",
     "state": {
      "_model_module": "@jupyter-widgets/controls",
      "_model_module_version": "1.5.0",
      "_model_name": "ProgressStyleModel",
      "_view_count": null,
      "_view_module": "@jupyter-widgets/base",
      "_view_module_version": "1.2.0",
      "_view_name": "StyleView",
      "bar_color": null,
      "description_width": "initial"
     }
    },
    "680f19fd255544bc8dd6700422fdad68": {
     "model_module": "@jupyter-widgets/controls",
     "model_name": "FloatProgressModel",
     "state": {
      "_dom_classes": [],
      "_model_module": "@jupyter-widgets/controls",
      "_model_module_version": "1.5.0",
      "_model_name": "FloatProgressModel",
      "_view_count": null,
      "_view_module": "@jupyter-widgets/controls",
      "_view_module_version": "1.5.0",
      "_view_name": "ProgressView",
      "bar_style": "success",
      "description": "#0: 100%",
      "description_tooltip": null,
      "layout": "IPY_MODEL_76b8e10f48804a7a8eef3119f355c4fa",
      "max": 1161,
      "min": 0,
      "orientation": "horizontal",
      "style": "IPY_MODEL_056fc3b0502146c3a27c67a54b9aa29a",
      "value": 1161
     }
    },
    "68422751d15a45409354ee1d95fa4711": {
     "model_module": "@jupyter-widgets/controls",
     "model_name": "FloatProgressModel",
     "state": {
      "_dom_classes": [],
      "_model_module": "@jupyter-widgets/controls",
      "_model_module_version": "1.5.0",
      "_model_name": "FloatProgressModel",
      "_view_count": null,
      "_view_module": "@jupyter-widgets/controls",
      "_view_module_version": "1.5.0",
      "_view_name": "ProgressView",
      "bar_style": "success",
      "description": "#4: 100%",
      "description_tooltip": null,
      "layout": "IPY_MODEL_9b043649a23b4a44b11a50538c460880",
      "max": 174,
      "min": 0,
      "orientation": "horizontal",
      "style": "IPY_MODEL_9a5cd00f368f478db00092bb6d608eef",
      "value": 174
     }
    },
    "686307a50fcb4b138c9285d805b7a9d2": {
     "model_module": "@jupyter-widgets/controls",
     "model_name": "FloatProgressModel",
     "state": {
      "_dom_classes": [],
      "_model_module": "@jupyter-widgets/controls",
      "_model_module_version": "1.5.0",
      "_model_name": "FloatProgressModel",
      "_view_count": null,
      "_view_module": "@jupyter-widgets/controls",
      "_view_module_version": "1.5.0",
      "_view_name": "ProgressView",
      "bar_style": "success",
      "description": "#3: 100%",
      "description_tooltip": null,
      "layout": "IPY_MODEL_c8fbedd2b2014e608462dd6901a5b5ad",
      "max": 174,
      "min": 0,
      "orientation": "horizontal",
      "style": "IPY_MODEL_195d4b313bfe4e00b8dc19d334cdb87e",
      "value": 174
     }
    },
    "6886f753ef674d2aa29c9a2d328b8395": {
     "model_module": "@jupyter-widgets/controls",
     "model_name": "DescriptionStyleModel",
     "state": {
      "_model_module": "@jupyter-widgets/controls",
      "_model_module_version": "1.5.0",
      "_model_name": "DescriptionStyleModel",
      "_view_count": null,
      "_view_module": "@jupyter-widgets/base",
      "_view_module_version": "1.2.0",
      "_view_name": "StyleView",
      "description_width": ""
     }
    },
    "68d76c56fec648b98e56792536130eb1": {
     "model_module": "@jupyter-widgets/controls",
     "model_name": "ProgressStyleModel",
     "state": {
      "_model_module": "@jupyter-widgets/controls",
      "_model_module_version": "1.5.0",
      "_model_name": "ProgressStyleModel",
      "_view_count": null,
      "_view_module": "@jupyter-widgets/base",
      "_view_module_version": "1.2.0",
      "_view_name": "StyleView",
      "bar_color": null,
      "description_width": "initial"
     }
    },
    "6aa3a7ec23ac45a2be1be35320c5578d": {
     "model_module": "@jupyter-widgets/controls",
     "model_name": "HBoxModel",
     "state": {
      "_dom_classes": [],
      "_model_module": "@jupyter-widgets/controls",
      "_model_module_version": "1.5.0",
      "_model_name": "HBoxModel",
      "_view_count": null,
      "_view_module": "@jupyter-widgets/controls",
      "_view_module_version": "1.5.0",
      "_view_name": "HBoxView",
      "box_style": "",
      "children": [
       "IPY_MODEL_d6a28d75badc4604a151cd299d743289",
       "IPY_MODEL_e311116e5b9b4453b67250bf5af98482"
      ],
      "layout": "IPY_MODEL_fdb7242b4c5b44569114ff828415aff0"
     }
    },
    "6bbc9cd3c2ea4fef80700f52183e3062": {
     "model_module": "@jupyter-widgets/controls",
     "model_name": "ProgressStyleModel",
     "state": {
      "_model_module": "@jupyter-widgets/controls",
      "_model_module_version": "1.5.0",
      "_model_name": "ProgressStyleModel",
      "_view_count": null,
      "_view_module": "@jupyter-widgets/base",
      "_view_module_version": "1.2.0",
      "_view_name": "StyleView",
      "bar_color": null,
      "description_width": "initial"
     }
    },
    "6c4cb58b11cd4d8cb045ebc0d791af39": {
     "model_module": "@jupyter-widgets/base",
     "model_name": "LayoutModel",
     "state": {
      "_model_module": "@jupyter-widgets/base",
      "_model_module_version": "1.2.0",
      "_model_name": "LayoutModel",
      "_view_count": null,
      "_view_module": "@jupyter-widgets/base",
      "_view_module_version": "1.2.0",
      "_view_name": "LayoutView",
      "align_content": null,
      "align_items": null,
      "align_self": null,
      "border": null,
      "bottom": null,
      "display": null,
      "flex": null,
      "flex_flow": null,
      "grid_area": null,
      "grid_auto_columns": null,
      "grid_auto_flow": null,
      "grid_auto_rows": null,
      "grid_column": null,
      "grid_gap": null,
      "grid_row": null,
      "grid_template_areas": null,
      "grid_template_columns": null,
      "grid_template_rows": null,
      "height": null,
      "justify_content": null,
      "justify_items": null,
      "left": null,
      "margin": null,
      "max_height": null,
      "max_width": null,
      "min_height": null,
      "min_width": null,
      "object_fit": null,
      "object_position": null,
      "order": null,
      "overflow": null,
      "overflow_x": null,
      "overflow_y": null,
      "padding": null,
      "right": null,
      "top": null,
      "visibility": null,
      "width": null
     }
    },
    "6c6b02e17c094cd48c3115b3b3e86823": {
     "model_module": "@jupyter-widgets/base",
     "model_name": "LayoutModel",
     "state": {
      "_model_module": "@jupyter-widgets/base",
      "_model_module_version": "1.2.0",
      "_model_name": "LayoutModel",
      "_view_count": null,
      "_view_module": "@jupyter-widgets/base",
      "_view_module_version": "1.2.0",
      "_view_name": "LayoutView",
      "align_content": null,
      "align_items": null,
      "align_self": null,
      "border": null,
      "bottom": null,
      "display": null,
      "flex": null,
      "flex_flow": null,
      "grid_area": null,
      "grid_auto_columns": null,
      "grid_auto_flow": null,
      "grid_auto_rows": null,
      "grid_column": null,
      "grid_gap": null,
      "grid_row": null,
      "grid_template_areas": null,
      "grid_template_columns": null,
      "grid_template_rows": null,
      "height": null,
      "justify_content": null,
      "justify_items": null,
      "left": null,
      "margin": null,
      "max_height": null,
      "max_width": null,
      "min_height": null,
      "min_width": null,
      "object_fit": null,
      "object_position": null,
      "order": null,
      "overflow": null,
      "overflow_x": null,
      "overflow_y": null,
      "padding": null,
      "right": null,
      "top": null,
      "visibility": null,
      "width": null
     }
    },
    "6c70a8b74a9f4bb5a7f2f19bba971756": {
     "model_module": "@jupyter-widgets/controls",
     "model_name": "ProgressStyleModel",
     "state": {
      "_model_module": "@jupyter-widgets/controls",
      "_model_module_version": "1.5.0",
      "_model_name": "ProgressStyleModel",
      "_view_count": null,
      "_view_module": "@jupyter-widgets/base",
      "_view_module_version": "1.2.0",
      "_view_name": "StyleView",
      "bar_color": null,
      "description_width": "initial"
     }
    },
    "6cf737c6d2fe4834b8b80235fc47eb4d": {
     "model_module": "@jupyter-widgets/base",
     "model_name": "LayoutModel",
     "state": {
      "_model_module": "@jupyter-widgets/base",
      "_model_module_version": "1.2.0",
      "_model_name": "LayoutModel",
      "_view_count": null,
      "_view_module": "@jupyter-widgets/base",
      "_view_module_version": "1.2.0",
      "_view_name": "LayoutView",
      "align_content": null,
      "align_items": null,
      "align_self": null,
      "border": null,
      "bottom": null,
      "display": null,
      "flex": null,
      "flex_flow": null,
      "grid_area": null,
      "grid_auto_columns": null,
      "grid_auto_flow": null,
      "grid_auto_rows": null,
      "grid_column": null,
      "grid_gap": null,
      "grid_row": null,
      "grid_template_areas": null,
      "grid_template_columns": null,
      "grid_template_rows": null,
      "height": null,
      "justify_content": null,
      "justify_items": null,
      "left": null,
      "margin": null,
      "max_height": null,
      "max_width": null,
      "min_height": null,
      "min_width": null,
      "object_fit": null,
      "object_position": null,
      "order": null,
      "overflow": null,
      "overflow_x": null,
      "overflow_y": null,
      "padding": null,
      "right": null,
      "top": null,
      "visibility": null,
      "width": null
     }
    },
    "6e0d812f2b3e43b9882301f0fb1c968d": {
     "model_module": "@jupyter-widgets/controls",
     "model_name": "HBoxModel",
     "state": {
      "_dom_classes": [],
      "_model_module": "@jupyter-widgets/controls",
      "_model_module_version": "1.5.0",
      "_model_name": "HBoxModel",
      "_view_count": null,
      "_view_module": "@jupyter-widgets/controls",
      "_view_module_version": "1.5.0",
      "_view_name": "HBoxView",
      "box_style": "",
      "children": [
       "IPY_MODEL_463c138211b54bf9afc59a786a8f71d0",
       "IPY_MODEL_79983a1406da48368c1d66da841bad8e"
      ],
      "layout": "IPY_MODEL_b5983dec6de5409e9b89dce25ec65a47"
     }
    },
    "6fe6b621ba994e049a1da3d7c537c5bb": {
     "model_module": "@jupyter-widgets/controls",
     "model_name": "DescriptionStyleModel",
     "state": {
      "_model_module": "@jupyter-widgets/controls",
      "_model_module_version": "1.5.0",
      "_model_name": "DescriptionStyleModel",
      "_view_count": null,
      "_view_module": "@jupyter-widgets/base",
      "_view_module_version": "1.2.0",
      "_view_name": "StyleView",
      "description_width": ""
     }
    },
    "7030e10f35304651a9e08efb3d872bf8": {
     "model_module": "@jupyter-widgets/controls",
     "model_name": "DescriptionStyleModel",
     "state": {
      "_model_module": "@jupyter-widgets/controls",
      "_model_module_version": "1.5.0",
      "_model_name": "DescriptionStyleModel",
      "_view_count": null,
      "_view_module": "@jupyter-widgets/base",
      "_view_module_version": "1.2.0",
      "_view_name": "StyleView",
      "description_width": ""
     }
    },
    "707be538cdd646cab0d2f6f2f28cfb4b": {
     "model_module": "@jupyter-widgets/base",
     "model_name": "LayoutModel",
     "state": {
      "_model_module": "@jupyter-widgets/base",
      "_model_module_version": "1.2.0",
      "_model_name": "LayoutModel",
      "_view_count": null,
      "_view_module": "@jupyter-widgets/base",
      "_view_module_version": "1.2.0",
      "_view_name": "LayoutView",
      "align_content": null,
      "align_items": null,
      "align_self": null,
      "border": null,
      "bottom": null,
      "display": null,
      "flex": null,
      "flex_flow": null,
      "grid_area": null,
      "grid_auto_columns": null,
      "grid_auto_flow": null,
      "grid_auto_rows": null,
      "grid_column": null,
      "grid_gap": null,
      "grid_row": null,
      "grid_template_areas": null,
      "grid_template_columns": null,
      "grid_template_rows": null,
      "height": null,
      "justify_content": null,
      "justify_items": null,
      "left": null,
      "margin": null,
      "max_height": null,
      "max_width": null,
      "min_height": null,
      "min_width": null,
      "object_fit": null,
      "object_position": null,
      "order": null,
      "overflow": null,
      "overflow_x": null,
      "overflow_y": null,
      "padding": null,
      "right": null,
      "top": null,
      "visibility": null,
      "width": null
     }
    },
    "70a88d378d654c81b5d87d3a7f5fdc2b": {
     "model_module": "@jupyter-widgets/base",
     "model_name": "LayoutModel",
     "state": {
      "_model_module": "@jupyter-widgets/base",
      "_model_module_version": "1.2.0",
      "_model_name": "LayoutModel",
      "_view_count": null,
      "_view_module": "@jupyter-widgets/base",
      "_view_module_version": "1.2.0",
      "_view_name": "LayoutView",
      "align_content": null,
      "align_items": null,
      "align_self": null,
      "border": null,
      "bottom": null,
      "display": null,
      "flex": null,
      "flex_flow": null,
      "grid_area": null,
      "grid_auto_columns": null,
      "grid_auto_flow": null,
      "grid_auto_rows": null,
      "grid_column": null,
      "grid_gap": null,
      "grid_row": null,
      "grid_template_areas": null,
      "grid_template_columns": null,
      "grid_template_rows": null,
      "height": null,
      "justify_content": null,
      "justify_items": null,
      "left": null,
      "margin": null,
      "max_height": null,
      "max_width": null,
      "min_height": null,
      "min_width": null,
      "object_fit": null,
      "object_position": null,
      "order": null,
      "overflow": null,
      "overflow_x": null,
      "overflow_y": null,
      "padding": null,
      "right": null,
      "top": null,
      "visibility": null,
      "width": null
     }
    },
    "70bdd670c7ba42be9074570c92ece79f": {
     "model_module": "@jupyter-widgets/controls",
     "model_name": "DescriptionStyleModel",
     "state": {
      "_model_module": "@jupyter-widgets/controls",
      "_model_module_version": "1.5.0",
      "_model_name": "DescriptionStyleModel",
      "_view_count": null,
      "_view_module": "@jupyter-widgets/base",
      "_view_module_version": "1.2.0",
      "_view_name": "StyleView",
      "description_width": ""
     }
    },
    "70c1ef7ace2e4a85af7f90b2bb4a6890": {
     "model_module": "@jupyter-widgets/base",
     "model_name": "LayoutModel",
     "state": {
      "_model_module": "@jupyter-widgets/base",
      "_model_module_version": "1.2.0",
      "_model_name": "LayoutModel",
      "_view_count": null,
      "_view_module": "@jupyter-widgets/base",
      "_view_module_version": "1.2.0",
      "_view_name": "LayoutView",
      "align_content": null,
      "align_items": null,
      "align_self": null,
      "border": null,
      "bottom": null,
      "display": null,
      "flex": null,
      "flex_flow": null,
      "grid_area": null,
      "grid_auto_columns": null,
      "grid_auto_flow": null,
      "grid_auto_rows": null,
      "grid_column": null,
      "grid_gap": null,
      "grid_row": null,
      "grid_template_areas": null,
      "grid_template_columns": null,
      "grid_template_rows": null,
      "height": null,
      "justify_content": null,
      "justify_items": null,
      "left": null,
      "margin": null,
      "max_height": null,
      "max_width": null,
      "min_height": null,
      "min_width": null,
      "object_fit": null,
      "object_position": null,
      "order": null,
      "overflow": null,
      "overflow_x": null,
      "overflow_y": null,
      "padding": null,
      "right": null,
      "top": null,
      "visibility": null,
      "width": null
     }
    },
    "714553d5b0664a969727a6e86effc8fb": {
     "model_module": "@jupyter-widgets/controls",
     "model_name": "HTMLModel",
     "state": {
      "_dom_classes": [],
      "_model_module": "@jupyter-widgets/controls",
      "_model_module_version": "1.5.0",
      "_model_name": "HTMLModel",
      "_view_count": null,
      "_view_module": "@jupyter-widgets/controls",
      "_view_module_version": "1.5.0",
      "_view_name": "HTMLView",
      "description": "",
      "description_tooltip": null,
      "layout": "IPY_MODEL_7cffe3c315974ac399860dc078d03e01",
      "placeholder": "​",
      "style": "IPY_MODEL_5f81f63f230a48e9a2a47d0f34d4a3cb",
      "value": " 174/174 [02:56&lt;00:00,  1.02s/ba]"
     }
    },
    "71e27c89d8af4c47aa0c8b09409d3077": {
     "model_module": "@jupyter-widgets/base",
     "model_name": "LayoutModel",
     "state": {
      "_model_module": "@jupyter-widgets/base",
      "_model_module_version": "1.2.0",
      "_model_name": "LayoutModel",
      "_view_count": null,
      "_view_module": "@jupyter-widgets/base",
      "_view_module_version": "1.2.0",
      "_view_name": "LayoutView",
      "align_content": null,
      "align_items": null,
      "align_self": null,
      "border": null,
      "bottom": null,
      "display": null,
      "flex": null,
      "flex_flow": null,
      "grid_area": null,
      "grid_auto_columns": null,
      "grid_auto_flow": null,
      "grid_auto_rows": null,
      "grid_column": null,
      "grid_gap": null,
      "grid_row": null,
      "grid_template_areas": null,
      "grid_template_columns": null,
      "grid_template_rows": null,
      "height": null,
      "justify_content": null,
      "justify_items": null,
      "left": null,
      "margin": null,
      "max_height": null,
      "max_width": null,
      "min_height": null,
      "min_width": null,
      "object_fit": null,
      "object_position": null,
      "order": null,
      "overflow": null,
      "overflow_x": null,
      "overflow_y": null,
      "padding": null,
      "right": null,
      "top": null,
      "visibility": null,
      "width": null
     }
    },
    "724c305991b84ac795263c42158ddb0f": {
     "model_module": "@jupyter-widgets/base",
     "model_name": "LayoutModel",
     "state": {
      "_model_module": "@jupyter-widgets/base",
      "_model_module_version": "1.2.0",
      "_model_name": "LayoutModel",
      "_view_count": null,
      "_view_module": "@jupyter-widgets/base",
      "_view_module_version": "1.2.0",
      "_view_name": "LayoutView",
      "align_content": null,
      "align_items": null,
      "align_self": null,
      "border": null,
      "bottom": null,
      "display": null,
      "flex": null,
      "flex_flow": null,
      "grid_area": null,
      "grid_auto_columns": null,
      "grid_auto_flow": null,
      "grid_auto_rows": null,
      "grid_column": null,
      "grid_gap": null,
      "grid_row": null,
      "grid_template_areas": null,
      "grid_template_columns": null,
      "grid_template_rows": null,
      "height": null,
      "justify_content": null,
      "justify_items": null,
      "left": null,
      "margin": null,
      "max_height": null,
      "max_width": null,
      "min_height": null,
      "min_width": null,
      "object_fit": null,
      "object_position": null,
      "order": null,
      "overflow": null,
      "overflow_x": null,
      "overflow_y": null,
      "padding": null,
      "right": null,
      "top": null,
      "visibility": null,
      "width": null
     }
    },
    "72e4c9e3b97843bd9590c3b2f7fe028d": {
     "model_module": "@jupyter-widgets/controls",
     "model_name": "DescriptionStyleModel",
     "state": {
      "_model_module": "@jupyter-widgets/controls",
      "_model_module_version": "1.5.0",
      "_model_name": "DescriptionStyleModel",
      "_view_count": null,
      "_view_module": "@jupyter-widgets/base",
      "_view_module_version": "1.2.0",
      "_view_name": "StyleView",
      "description_width": ""
     }
    },
    "7374a10600a54776acc561a7ac44b31d": {
     "model_module": "@jupyter-widgets/controls",
     "model_name": "FloatProgressModel",
     "state": {
      "_dom_classes": [],
      "_model_module": "@jupyter-widgets/controls",
      "_model_module_version": "1.5.0",
      "_model_name": "FloatProgressModel",
      "_view_count": null,
      "_view_module": "@jupyter-widgets/controls",
      "_view_module_version": "1.5.0",
      "_view_name": "ProgressView",
      "bar_style": "success",
      "description": "#7: 100%",
      "description_tooltip": null,
      "layout": "IPY_MODEL_632721fe9658454a9759a705ac201595",
      "max": 174,
      "min": 0,
      "orientation": "horizontal",
      "style": "IPY_MODEL_e7a9b2d247d14e47afa50529fda5754f",
      "value": 174
     }
    },
    "74be14f40e2144439d37a68e22928fc5": {
     "model_module": "@jupyter-widgets/base",
     "model_name": "LayoutModel",
     "state": {
      "_model_module": "@jupyter-widgets/base",
      "_model_module_version": "1.2.0",
      "_model_name": "LayoutModel",
      "_view_count": null,
      "_view_module": "@jupyter-widgets/base",
      "_view_module_version": "1.2.0",
      "_view_name": "LayoutView",
      "align_content": null,
      "align_items": null,
      "align_self": null,
      "border": null,
      "bottom": null,
      "display": null,
      "flex": null,
      "flex_flow": null,
      "grid_area": null,
      "grid_auto_columns": null,
      "grid_auto_flow": null,
      "grid_auto_rows": null,
      "grid_column": null,
      "grid_gap": null,
      "grid_row": null,
      "grid_template_areas": null,
      "grid_template_columns": null,
      "grid_template_rows": null,
      "height": null,
      "justify_content": null,
      "justify_items": null,
      "left": null,
      "margin": null,
      "max_height": null,
      "max_width": null,
      "min_height": null,
      "min_width": null,
      "object_fit": null,
      "object_position": null,
      "order": null,
      "overflow": null,
      "overflow_x": null,
      "overflow_y": null,
      "padding": null,
      "right": null,
      "top": null,
      "visibility": null,
      "width": null
     }
    },
    "74e0984a9ce0458f871326465e17a95f": {
     "model_module": "@jupyter-widgets/base",
     "model_name": "LayoutModel",
     "state": {
      "_model_module": "@jupyter-widgets/base",
      "_model_module_version": "1.2.0",
      "_model_name": "LayoutModel",
      "_view_count": null,
      "_view_module": "@jupyter-widgets/base",
      "_view_module_version": "1.2.0",
      "_view_name": "LayoutView",
      "align_content": null,
      "align_items": null,
      "align_self": null,
      "border": null,
      "bottom": null,
      "display": null,
      "flex": null,
      "flex_flow": null,
      "grid_area": null,
      "grid_auto_columns": null,
      "grid_auto_flow": null,
      "grid_auto_rows": null,
      "grid_column": null,
      "grid_gap": null,
      "grid_row": null,
      "grid_template_areas": null,
      "grid_template_columns": null,
      "grid_template_rows": null,
      "height": null,
      "justify_content": null,
      "justify_items": null,
      "left": null,
      "margin": null,
      "max_height": null,
      "max_width": null,
      "min_height": null,
      "min_width": null,
      "object_fit": null,
      "object_position": null,
      "order": null,
      "overflow": null,
      "overflow_x": null,
      "overflow_y": null,
      "padding": null,
      "right": null,
      "top": null,
      "visibility": null,
      "width": null
     }
    },
    "7574a208545346d785d99cfeb3dccfa9": {
     "model_module": "@jupyter-widgets/controls",
     "model_name": "HTMLModel",
     "state": {
      "_dom_classes": [],
      "_model_module": "@jupyter-widgets/controls",
      "_model_module_version": "1.5.0",
      "_model_name": "HTMLModel",
      "_view_count": null,
      "_view_module": "@jupyter-widgets/controls",
      "_view_module_version": "1.5.0",
      "_view_name": "HTMLView",
      "description": "",
      "description_tooltip": null,
      "layout": "IPY_MODEL_427761e3c12f4a1db05c43b6e35ac6b1",
      "placeholder": "​",
      "style": "IPY_MODEL_798ef864730b462c9614e09aa2adae1d",
      "value": " 73/73 [01:24&lt;00:00,  1.16s/ba]"
     }
    },
    "767a2056ab6b4d899a8e0c78ee88e305": {
     "model_module": "@jupyter-widgets/controls",
     "model_name": "FloatProgressModel",
     "state": {
      "_dom_classes": [],
      "_model_module": "@jupyter-widgets/controls",
      "_model_module_version": "1.5.0",
      "_model_name": "FloatProgressModel",
      "_view_count": null,
      "_view_module": "@jupyter-widgets/controls",
      "_view_module_version": "1.5.0",
      "_view_name": "ProgressView",
      "bar_style": "info",
      "description": "",
      "description_tooltip": null,
      "layout": "IPY_MODEL_533cd219bbb64a42942f9ba9af3da408",
      "max": 1,
      "min": 0,
      "orientation": "horizontal",
      "style": "IPY_MODEL_64cd2abc47d14ce1ad1cad2d89447091",
      "value": 1
     }
    },
    "76b8e10f48804a7a8eef3119f355c4fa": {
     "model_module": "@jupyter-widgets/base",
     "model_name": "LayoutModel",
     "state": {
      "_model_module": "@jupyter-widgets/base",
      "_model_module_version": "1.2.0",
      "_model_name": "LayoutModel",
      "_view_count": null,
      "_view_module": "@jupyter-widgets/base",
      "_view_module_version": "1.2.0",
      "_view_name": "LayoutView",
      "align_content": null,
      "align_items": null,
      "align_self": null,
      "border": null,
      "bottom": null,
      "display": null,
      "flex": null,
      "flex_flow": null,
      "grid_area": null,
      "grid_auto_columns": null,
      "grid_auto_flow": null,
      "grid_auto_rows": null,
      "grid_column": null,
      "grid_gap": null,
      "grid_row": null,
      "grid_template_areas": null,
      "grid_template_columns": null,
      "grid_template_rows": null,
      "height": null,
      "justify_content": null,
      "justify_items": null,
      "left": null,
      "margin": null,
      "max_height": null,
      "max_width": null,
      "min_height": null,
      "min_width": null,
      "object_fit": null,
      "object_position": null,
      "order": null,
      "overflow": null,
      "overflow_x": null,
      "overflow_y": null,
      "padding": null,
      "right": null,
      "top": null,
      "visibility": null,
      "width": null
     }
    },
    "77bca1ecc14e4273a193246dee7aa45c": {
     "model_module": "@jupyter-widgets/base",
     "model_name": "LayoutModel",
     "state": {
      "_model_module": "@jupyter-widgets/base",
      "_model_module_version": "1.2.0",
      "_model_name": "LayoutModel",
      "_view_count": null,
      "_view_module": "@jupyter-widgets/base",
      "_view_module_version": "1.2.0",
      "_view_name": "LayoutView",
      "align_content": null,
      "align_items": null,
      "align_self": null,
      "border": null,
      "bottom": null,
      "display": null,
      "flex": null,
      "flex_flow": null,
      "grid_area": null,
      "grid_auto_columns": null,
      "grid_auto_flow": null,
      "grid_auto_rows": null,
      "grid_column": null,
      "grid_gap": null,
      "grid_row": null,
      "grid_template_areas": null,
      "grid_template_columns": null,
      "grid_template_rows": null,
      "height": null,
      "justify_content": null,
      "justify_items": null,
      "left": null,
      "margin": null,
      "max_height": null,
      "max_width": null,
      "min_height": null,
      "min_width": null,
      "object_fit": null,
      "object_position": null,
      "order": null,
      "overflow": null,
      "overflow_x": null,
      "overflow_y": null,
      "padding": null,
      "right": null,
      "top": null,
      "visibility": null,
      "width": null
     }
    },
    "798ef864730b462c9614e09aa2adae1d": {
     "model_module": "@jupyter-widgets/controls",
     "model_name": "DescriptionStyleModel",
     "state": {
      "_model_module": "@jupyter-widgets/controls",
      "_model_module_version": "1.5.0",
      "_model_name": "DescriptionStyleModel",
      "_view_count": null,
      "_view_module": "@jupyter-widgets/base",
      "_view_module_version": "1.2.0",
      "_view_name": "StyleView",
      "description_width": ""
     }
    },
    "79983a1406da48368c1d66da841bad8e": {
     "model_module": "@jupyter-widgets/controls",
     "model_name": "HTMLModel",
     "state": {
      "_dom_classes": [],
      "_model_module": "@jupyter-widgets/controls",
      "_model_module_version": "1.5.0",
      "_model_name": "HTMLModel",
      "_view_count": null,
      "_view_module": "@jupyter-widgets/controls",
      "_view_module_version": "1.5.0",
      "_view_name": "HTMLView",
      "description": "",
      "description_tooltip": null,
      "layout": "IPY_MODEL_d813a459dae4496db51f37eb96fce355",
      "placeholder": "​",
      "style": "IPY_MODEL_f182fbf41f6b42a5aa8d8aa39baac8d0",
      "value": " 1160/1160 [07:42&lt;00:00,  2.51ex/s]"
     }
    },
    "79a66d5b4c5d49eab2ab54c75a7f542e": {
     "model_module": "@jupyter-widgets/controls",
     "model_name": "DescriptionStyleModel",
     "state": {
      "_model_module": "@jupyter-widgets/controls",
      "_model_module_version": "1.5.0",
      "_model_name": "DescriptionStyleModel",
      "_view_count": null,
      "_view_module": "@jupyter-widgets/base",
      "_view_module_version": "1.2.0",
      "_view_name": "StyleView",
      "description_width": ""
     }
    },
    "79fdb4eaf7124498838e15e64f7de89b": {
     "model_module": "@jupyter-widgets/controls",
     "model_name": "FloatProgressModel",
     "state": {
      "_dom_classes": [],
      "_model_module": "@jupyter-widgets/controls",
      "_model_module_version": "1.5.0",
      "_model_name": "FloatProgressModel",
      "_view_count": null,
      "_view_module": "@jupyter-widgets/controls",
      "_view_module_version": "1.5.0",
      "_view_name": "ProgressView",
      "bar_style": "success",
      "description": "#6: 100%",
      "description_tooltip": null,
      "layout": "IPY_MODEL_e6536aef5aee4e2096598f2b83dce0d2",
      "max": 174,
      "min": 0,
      "orientation": "horizontal",
      "style": "IPY_MODEL_97185abb82a94dada700776a9fb576c6",
      "value": 174
     }
    },
    "7a29999e5cc5498d9927cba7db572298": {
     "model_module": "@jupyter-widgets/controls",
     "model_name": "HTMLModel",
     "state": {
      "_dom_classes": [],
      "_model_module": "@jupyter-widgets/controls",
      "_model_module_version": "1.5.0",
      "_model_name": "HTMLModel",
      "_view_count": null,
      "_view_module": "@jupyter-widgets/controls",
      "_view_module_version": "1.5.0",
      "_view_name": "HTMLView",
      "description": "",
      "description_tooltip": null,
      "layout": "IPY_MODEL_ead773298e634424a4fe645c68c91108",
      "placeholder": "​",
      "style": "IPY_MODEL_97f029d401a24779a9e5b4434aaf8eb1",
      "value": " 73/73 [01:24&lt;00:00,  1.15s/ba]"
     }
    },
    "7aee8d4461e84f3bbf8a8f87cfe11566": {
     "model_module": "@jupyter-widgets/controls",
     "model_name": "DescriptionStyleModel",
     "state": {
      "_model_module": "@jupyter-widgets/controls",
      "_model_module_version": "1.5.0",
      "_model_name": "DescriptionStyleModel",
      "_view_count": null,
      "_view_module": "@jupyter-widgets/base",
      "_view_module_version": "1.2.0",
      "_view_name": "StyleView",
      "description_width": ""
     }
    },
    "7bfac742a8564edb89b9d86adee1986c": {
     "model_module": "@jupyter-widgets/controls",
     "model_name": "HTMLModel",
     "state": {
      "_dom_classes": [],
      "_model_module": "@jupyter-widgets/controls",
      "_model_module_version": "1.5.0",
      "_model_name": "HTMLModel",
      "_view_count": null,
      "_view_module": "@jupyter-widgets/controls",
      "_view_module_version": "1.5.0",
      "_view_name": "HTMLView",
      "description": "",
      "description_tooltip": null,
      "layout": "IPY_MODEL_6cf737c6d2fe4834b8b80235fc47eb4d",
      "placeholder": "​",
      "style": "IPY_MODEL_0d7b9d88ed5a45018f5fc9de0580627e",
      "value": " 2776/2776 [17:04&lt;00:00,  2.71ex/s]"
     }
    },
    "7cffe3c315974ac399860dc078d03e01": {
     "model_module": "@jupyter-widgets/base",
     "model_name": "LayoutModel",
     "state": {
      "_model_module": "@jupyter-widgets/base",
      "_model_module_version": "1.2.0",
      "_model_name": "LayoutModel",
      "_view_count": null,
      "_view_module": "@jupyter-widgets/base",
      "_view_module_version": "1.2.0",
      "_view_name": "LayoutView",
      "align_content": null,
      "align_items": null,
      "align_self": null,
      "border": null,
      "bottom": null,
      "display": null,
      "flex": null,
      "flex_flow": null,
      "grid_area": null,
      "grid_auto_columns": null,
      "grid_auto_flow": null,
      "grid_auto_rows": null,
      "grid_column": null,
      "grid_gap": null,
      "grid_row": null,
      "grid_template_areas": null,
      "grid_template_columns": null,
      "grid_template_rows": null,
      "height": null,
      "justify_content": null,
      "justify_items": null,
      "left": null,
      "margin": null,
      "max_height": null,
      "max_width": null,
      "min_height": null,
      "min_width": null,
      "object_fit": null,
      "object_position": null,
      "order": null,
      "overflow": null,
      "overflow_x": null,
      "overflow_y": null,
      "padding": null,
      "right": null,
      "top": null,
      "visibility": null,
      "width": null
     }
    },
    "7d6fc760aa0b4e33b58966aef2e1753d": {
     "model_module": "@jupyter-widgets/base",
     "model_name": "LayoutModel",
     "state": {
      "_model_module": "@jupyter-widgets/base",
      "_model_module_version": "1.2.0",
      "_model_name": "LayoutModel",
      "_view_count": null,
      "_view_module": "@jupyter-widgets/base",
      "_view_module_version": "1.2.0",
      "_view_name": "LayoutView",
      "align_content": null,
      "align_items": null,
      "align_self": null,
      "border": null,
      "bottom": null,
      "display": null,
      "flex": null,
      "flex_flow": null,
      "grid_area": null,
      "grid_auto_columns": null,
      "grid_auto_flow": null,
      "grid_auto_rows": null,
      "grid_column": null,
      "grid_gap": null,
      "grid_row": null,
      "grid_template_areas": null,
      "grid_template_columns": null,
      "grid_template_rows": null,
      "height": null,
      "justify_content": null,
      "justify_items": null,
      "left": null,
      "margin": null,
      "max_height": null,
      "max_width": null,
      "min_height": null,
      "min_width": null,
      "object_fit": null,
      "object_position": null,
      "order": null,
      "overflow": null,
      "overflow_x": null,
      "overflow_y": null,
      "padding": null,
      "right": null,
      "top": null,
      "visibility": null,
      "width": null
     }
    },
    "7da57d843a2540d387c186375e60111c": {
     "model_module": "@jupyter-widgets/controls",
     "model_name": "HBoxModel",
     "state": {
      "_dom_classes": [],
      "_model_module": "@jupyter-widgets/controls",
      "_model_module_version": "1.5.0",
      "_model_name": "HBoxModel",
      "_view_count": null,
      "_view_module": "@jupyter-widgets/controls",
      "_view_module_version": "1.5.0",
      "_view_name": "HBoxView",
      "box_style": "",
      "children": [
       "IPY_MODEL_eab6bdae04f24c03b4d65d7c6e5d0f3b",
       "IPY_MODEL_f1b49d2b79f84a2e9119842ab298032f"
      ],
      "layout": "IPY_MODEL_1066f61e8aa341b28b86a1892d901599"
     }
    },
    "7dd17ca0ffba48a9a71d09aac1f151dd": {
     "model_module": "@jupyter-widgets/controls",
     "model_name": "FloatProgressModel",
     "state": {
      "_dom_classes": [],
      "_model_module": "@jupyter-widgets/controls",
      "_model_module_version": "1.5.0",
      "_model_name": "FloatProgressModel",
      "_view_count": null,
      "_view_module": "@jupyter-widgets/controls",
      "_view_module_version": "1.5.0",
      "_view_name": "ProgressView",
      "bar_style": "success",
      "description": "Downloading: ",
      "description_tooltip": null,
      "layout": "IPY_MODEL_4b58171ea1334fa5a97dcf47eb936638",
      "max": 4285,
      "min": 0,
      "orientation": "horizontal",
      "style": "IPY_MODEL_aa14d1cb70534838be11ff11244cad20",
      "value": 4285
     }
    },
    "7e4aa3ec93ab4723a5ce4d9146f9eb8a": {
     "model_module": "@jupyter-widgets/controls",
     "model_name": "HTMLModel",
     "state": {
      "_dom_classes": [],
      "_model_module": "@jupyter-widgets/controls",
      "_model_module_version": "1.5.0",
      "_model_name": "HTMLModel",
      "_view_count": null,
      "_view_module": "@jupyter-widgets/controls",
      "_view_module_version": "1.5.0",
      "_view_name": "HTMLView",
      "description": "",
      "description_tooltip": null,
      "layout": "IPY_MODEL_2ea9d0345d3b4454852b616dee893f81",
      "placeholder": "​",
      "style": "IPY_MODEL_49ddb7b8b354477787fc0ec05a0cdb7a",
      "value": " 73/73 [01:20&lt;00:00,  1.10s/ba]"
     }
    },
    "7e68137830d24e31b2f9d9095ceffe22": {
     "model_module": "@jupyter-widgets/controls",
     "model_name": "HTMLModel",
     "state": {
      "_dom_classes": [],
      "_model_module": "@jupyter-widgets/controls",
      "_model_module_version": "1.5.0",
      "_model_name": "HTMLModel",
      "_view_count": null,
      "_view_module": "@jupyter-widgets/controls",
      "_view_module_version": "1.5.0",
      "_view_name": "HTMLView",
      "description": "",
      "description_tooltip": null,
      "layout": "IPY_MODEL_6c6b02e17c094cd48c3115b3b3e86823",
      "placeholder": "​",
      "style": "IPY_MODEL_7030e10f35304651a9e08efb3d872bf8",
      "value": " 174/174 [03:01&lt;00:00,  1.04s/ba]"
     }
    },
    "7f721b9baee64233afcacdba7be4f70b": {
     "model_module": "@jupyter-widgets/controls",
     "model_name": "DescriptionStyleModel",
     "state": {
      "_model_module": "@jupyter-widgets/controls",
      "_model_module_version": "1.5.0",
      "_model_name": "DescriptionStyleModel",
      "_view_count": null,
      "_view_module": "@jupyter-widgets/base",
      "_view_module_version": "1.2.0",
      "_view_name": "StyleView",
      "description_width": ""
     }
    },
    "7f9c4ef09ae742a19c553f348c2f9efa": {
     "model_module": "@jupyter-widgets/base",
     "model_name": "LayoutModel",
     "state": {
      "_model_module": "@jupyter-widgets/base",
      "_model_module_version": "1.2.0",
      "_model_name": "LayoutModel",
      "_view_count": null,
      "_view_module": "@jupyter-widgets/base",
      "_view_module_version": "1.2.0",
      "_view_name": "LayoutView",
      "align_content": null,
      "align_items": null,
      "align_self": null,
      "border": null,
      "bottom": null,
      "display": null,
      "flex": null,
      "flex_flow": null,
      "grid_area": null,
      "grid_auto_columns": null,
      "grid_auto_flow": null,
      "grid_auto_rows": null,
      "grid_column": null,
      "grid_gap": null,
      "grid_row": null,
      "grid_template_areas": null,
      "grid_template_columns": null,
      "grid_template_rows": null,
      "height": null,
      "justify_content": null,
      "justify_items": null,
      "left": null,
      "margin": null,
      "max_height": null,
      "max_width": null,
      "min_height": null,
      "min_width": null,
      "object_fit": null,
      "object_position": null,
      "order": null,
      "overflow": null,
      "overflow_x": null,
      "overflow_y": null,
      "padding": null,
      "right": null,
      "top": null,
      "visibility": null,
      "width": null
     }
    },
    "7ffd6e061dab442e9260bbaf298bf77a": {
     "model_module": "@jupyter-widgets/controls",
     "model_name": "DescriptionStyleModel",
     "state": {
      "_model_module": "@jupyter-widgets/controls",
      "_model_module_version": "1.5.0",
      "_model_name": "DescriptionStyleModel",
      "_view_count": null,
      "_view_module": "@jupyter-widgets/base",
      "_view_module_version": "1.2.0",
      "_view_name": "StyleView",
      "description_width": ""
     }
    },
    "80de3a3bf7ce4f43adf0a3c03c3f2fe2": {
     "model_module": "@jupyter-widgets/controls",
     "model_name": "DescriptionStyleModel",
     "state": {
      "_model_module": "@jupyter-widgets/controls",
      "_model_module_version": "1.5.0",
      "_model_name": "DescriptionStyleModel",
      "_view_count": null,
      "_view_module": "@jupyter-widgets/base",
      "_view_module_version": "1.2.0",
      "_view_name": "StyleView",
      "description_width": ""
     }
    },
    "8143e162807e4c99932827eea15bddab": {
     "model_module": "@jupyter-widgets/controls",
     "model_name": "ProgressStyleModel",
     "state": {
      "_model_module": "@jupyter-widgets/controls",
      "_model_module_version": "1.5.0",
      "_model_name": "ProgressStyleModel",
      "_view_count": null,
      "_view_module": "@jupyter-widgets/base",
      "_view_module_version": "1.2.0",
      "_view_name": "StyleView",
      "bar_color": null,
      "description_width": "initial"
     }
    },
    "818276586dcb4a9298f2975c4f64eee5": {
     "model_module": "@jupyter-widgets/controls",
     "model_name": "ProgressStyleModel",
     "state": {
      "_model_module": "@jupyter-widgets/controls",
      "_model_module_version": "1.5.0",
      "_model_name": "ProgressStyleModel",
      "_view_count": null,
      "_view_module": "@jupyter-widgets/base",
      "_view_module_version": "1.2.0",
      "_view_name": "StyleView",
      "bar_color": null,
      "description_width": "initial"
     }
    },
    "81bb00417b654aa7b722783e8b412240": {
     "model_module": "@jupyter-widgets/controls",
     "model_name": "DescriptionStyleModel",
     "state": {
      "_model_module": "@jupyter-widgets/controls",
      "_model_module_version": "1.5.0",
      "_model_name": "DescriptionStyleModel",
      "_view_count": null,
      "_view_module": "@jupyter-widgets/base",
      "_view_module_version": "1.2.0",
      "_view_name": "StyleView",
      "description_width": ""
     }
    },
    "82d3ce63e6814a5baf0adac5492febec": {
     "model_module": "@jupyter-widgets/controls",
     "model_name": "FloatProgressModel",
     "state": {
      "_dom_classes": [],
      "_model_module": "@jupyter-widgets/controls",
      "_model_module_version": "1.5.0",
      "_model_name": "FloatProgressModel",
      "_view_count": null,
      "_view_module": "@jupyter-widgets/controls",
      "_view_module_version": "1.5.0",
      "_view_name": "ProgressView",
      "bar_style": "success",
      "description": "#6: 100%",
      "description_tooltip": null,
      "layout": "IPY_MODEL_d2d23e024de34af08b9e60798eada13c",
      "max": 73,
      "min": 0,
      "orientation": "horizontal",
      "style": "IPY_MODEL_cc3d390698f1410b8aff73f5d9697c16",
      "value": 73
     }
    },
    "83460f47bde34c6c83df8524025c2d8a": {
     "model_module": "@jupyter-widgets/controls",
     "model_name": "FloatProgressModel",
     "state": {
      "_dom_classes": [],
      "_model_module": "@jupyter-widgets/controls",
      "_model_module_version": "1.5.0",
      "_model_name": "FloatProgressModel",
      "_view_count": null,
      "_view_module": "@jupyter-widgets/controls",
      "_view_module_version": "1.5.0",
      "_view_name": "ProgressView",
      "bar_style": "info",
      "description": "",
      "description_tooltip": null,
      "layout": "IPY_MODEL_abf2dbe803e341b6b11cb12ee1461dfd",
      "max": 1,
      "min": 0,
      "orientation": "horizontal",
      "style": "IPY_MODEL_02ee37d9319c49a4ade8836cf780dc72",
      "value": 1
     }
    },
    "85bb6b25a666489a84501c8a60618e03": {
     "model_module": "@jupyter-widgets/controls",
     "model_name": "HBoxModel",
     "state": {
      "_dom_classes": [],
      "_model_module": "@jupyter-widgets/controls",
      "_model_module_version": "1.5.0",
      "_model_name": "HBoxModel",
      "_view_count": null,
      "_view_module": "@jupyter-widgets/controls",
      "_view_module_version": "1.5.0",
      "_view_name": "HBoxView",
      "box_style": "",
      "children": [
       "IPY_MODEL_953044c9ec1a42419cb27219b7e91643",
       "IPY_MODEL_137179809de441dd873c57e3dc780cf0"
      ],
      "layout": "IPY_MODEL_06eaebeec8af4c28b969512aea7e893d"
     }
    },
    "881d2d88bf5a484d86aa2267930545a8": {
     "model_module": "@jupyter-widgets/controls",
     "model_name": "FloatProgressModel",
     "state": {
      "_dom_classes": [],
      "_model_module": "@jupyter-widgets/controls",
      "_model_module_version": "1.5.0",
      "_model_name": "FloatProgressModel",
      "_view_count": null,
      "_view_module": "@jupyter-widgets/controls",
      "_view_module_version": "1.5.0",
      "_view_name": "ProgressView",
      "bar_style": "success",
      "description": "Downloading: 100%",
      "description_tooltip": null,
      "layout": "IPY_MODEL_ac9ad2eefbdd4c5d83debdcb2f0c88a1",
      "max": 1704252567,
      "min": 0,
      "orientation": "horizontal",
      "style": "IPY_MODEL_4dd25806e824496d913aefd0e2581cd8",
      "value": 1704252567
     }
    },
    "89a7968110c645e29061a7a7000a9913": {
     "model_module": "@jupyter-widgets/controls",
     "model_name": "HBoxModel",
     "state": {
      "_dom_classes": [],
      "_model_module": "@jupyter-widgets/controls",
      "_model_module_version": "1.5.0",
      "_model_name": "HBoxModel",
      "_view_count": null,
      "_view_module": "@jupyter-widgets/controls",
      "_view_module_version": "1.5.0",
      "_view_name": "HBoxView",
      "box_style": "",
      "children": [
       "IPY_MODEL_aa38a66e6c6c49c595d6602cdd95b80c",
       "IPY_MODEL_f52698c9b53d41c2bde7043e1f47a4f1"
      ],
      "layout": "IPY_MODEL_09b1cb512e6f4133892f90aa26ca047d"
     }
    },
    "89d436408c7948048306ba8f1fb940a0": {
     "model_module": "@jupyter-widgets/base",
     "model_name": "LayoutModel",
     "state": {
      "_model_module": "@jupyter-widgets/base",
      "_model_module_version": "1.2.0",
      "_model_name": "LayoutModel",
      "_view_count": null,
      "_view_module": "@jupyter-widgets/base",
      "_view_module_version": "1.2.0",
      "_view_name": "LayoutView",
      "align_content": null,
      "align_items": null,
      "align_self": null,
      "border": null,
      "bottom": null,
      "display": null,
      "flex": null,
      "flex_flow": null,
      "grid_area": null,
      "grid_auto_columns": null,
      "grid_auto_flow": null,
      "grid_auto_rows": null,
      "grid_column": null,
      "grid_gap": null,
      "grid_row": null,
      "grid_template_areas": null,
      "grid_template_columns": null,
      "grid_template_rows": null,
      "height": null,
      "justify_content": null,
      "justify_items": null,
      "left": null,
      "margin": null,
      "max_height": null,
      "max_width": null,
      "min_height": null,
      "min_width": null,
      "object_fit": null,
      "object_position": null,
      "order": null,
      "overflow": null,
      "overflow_x": null,
      "overflow_y": null,
      "padding": null,
      "right": null,
      "top": null,
      "visibility": null,
      "width": null
     }
    },
    "8bb266a80ad84650aa5e3d9f1416c6cf": {
     "model_module": "@jupyter-widgets/base",
     "model_name": "LayoutModel",
     "state": {
      "_model_module": "@jupyter-widgets/base",
      "_model_module_version": "1.2.0",
      "_model_name": "LayoutModel",
      "_view_count": null,
      "_view_module": "@jupyter-widgets/base",
      "_view_module_version": "1.2.0",
      "_view_name": "LayoutView",
      "align_content": null,
      "align_items": null,
      "align_self": null,
      "border": null,
      "bottom": null,
      "display": null,
      "flex": null,
      "flex_flow": null,
      "grid_area": null,
      "grid_auto_columns": null,
      "grid_auto_flow": null,
      "grid_auto_rows": null,
      "grid_column": null,
      "grid_gap": null,
      "grid_row": null,
      "grid_template_areas": null,
      "grid_template_columns": null,
      "grid_template_rows": null,
      "height": null,
      "justify_content": null,
      "justify_items": null,
      "left": null,
      "margin": null,
      "max_height": null,
      "max_width": null,
      "min_height": null,
      "min_width": null,
      "object_fit": null,
      "object_position": null,
      "order": null,
      "overflow": null,
      "overflow_x": null,
      "overflow_y": null,
      "padding": null,
      "right": null,
      "top": null,
      "visibility": null,
      "width": null
     }
    },
    "8c258c859b304f2ca71cdcbb6116eea2": {
     "model_module": "@jupyter-widgets/controls",
     "model_name": "HBoxModel",
     "state": {
      "_dom_classes": [],
      "_model_module": "@jupyter-widgets/controls",
      "_model_module_version": "1.5.0",
      "_model_name": "HBoxModel",
      "_view_count": null,
      "_view_module": "@jupyter-widgets/controls",
      "_view_module_version": "1.5.0",
      "_view_name": "HBoxView",
      "box_style": "",
      "children": [
       "IPY_MODEL_2a0b6279771e47e0aae25672d329589a",
       "IPY_MODEL_fb5341d16f904dcc9da8ffe959908e03"
      ],
      "layout": "IPY_MODEL_4ca63abba24e4cb4b47232fb134743e1"
     }
    },
    "8c717e92c809416fa4f9a536ac2225eb": {
     "model_module": "@jupyter-widgets/controls",
     "model_name": "DescriptionStyleModel",
     "state": {
      "_model_module": "@jupyter-widgets/controls",
      "_model_module_version": "1.5.0",
      "_model_name": "DescriptionStyleModel",
      "_view_count": null,
      "_view_module": "@jupyter-widgets/base",
      "_view_module_version": "1.2.0",
      "_view_name": "StyleView",
      "description_width": ""
     }
    },
    "8d7738f16b13479c8eef713563c8a1ac": {
     "model_module": "@jupyter-widgets/base",
     "model_name": "LayoutModel",
     "state": {
      "_model_module": "@jupyter-widgets/base",
      "_model_module_version": "1.2.0",
      "_model_name": "LayoutModel",
      "_view_count": null,
      "_view_module": "@jupyter-widgets/base",
      "_view_module_version": "1.2.0",
      "_view_name": "LayoutView",
      "align_content": null,
      "align_items": null,
      "align_self": null,
      "border": null,
      "bottom": null,
      "display": null,
      "flex": null,
      "flex_flow": null,
      "grid_area": null,
      "grid_auto_columns": null,
      "grid_auto_flow": null,
      "grid_auto_rows": null,
      "grid_column": null,
      "grid_gap": null,
      "grid_row": null,
      "grid_template_areas": null,
      "grid_template_columns": null,
      "grid_template_rows": null,
      "height": null,
      "justify_content": null,
      "justify_items": null,
      "left": null,
      "margin": null,
      "max_height": null,
      "max_width": null,
      "min_height": null,
      "min_width": null,
      "object_fit": null,
      "object_position": null,
      "order": null,
      "overflow": null,
      "overflow_x": null,
      "overflow_y": null,
      "padding": null,
      "right": null,
      "top": null,
      "visibility": null,
      "width": null
     }
    },
    "901ecd15da2e4b85973788bf5576e563": {
     "model_module": "@jupyter-widgets/controls",
     "model_name": "ProgressStyleModel",
     "state": {
      "_model_module": "@jupyter-widgets/controls",
      "_model_module_version": "1.5.0",
      "_model_name": "ProgressStyleModel",
      "_view_count": null,
      "_view_module": "@jupyter-widgets/base",
      "_view_module_version": "1.2.0",
      "_view_name": "StyleView",
      "bar_color": null,
      "description_width": "initial"
     }
    },
    "9045d89df1ad4018b6d2906ed700a67d": {
     "model_module": "@jupyter-widgets/controls",
     "model_name": "ProgressStyleModel",
     "state": {
      "_model_module": "@jupyter-widgets/controls",
      "_model_module_version": "1.5.0",
      "_model_name": "ProgressStyleModel",
      "_view_count": null,
      "_view_module": "@jupyter-widgets/base",
      "_view_module_version": "1.2.0",
      "_view_name": "StyleView",
      "bar_color": null,
      "description_width": "initial"
     }
    },
    "90fcab19221a49c4a3466608ccbb0afb": {
     "model_module": "@jupyter-widgets/controls",
     "model_name": "FloatProgressModel",
     "state": {
      "_dom_classes": [],
      "_model_module": "@jupyter-widgets/controls",
      "_model_module_version": "1.5.0",
      "_model_name": "FloatProgressModel",
      "_view_count": null,
      "_view_module": "@jupyter-widgets/controls",
      "_view_module_version": "1.5.0",
      "_view_name": "ProgressView",
      "bar_style": "success",
      "description": "#1: 100%",
      "description_tooltip": null,
      "layout": "IPY_MODEL_5960c124cb904f4fa576d58d4f9f0aae",
      "max": 1160,
      "min": 0,
      "orientation": "horizontal",
      "style": "IPY_MODEL_68d76c56fec648b98e56792536130eb1",
      "value": 1160
     }
    },
    "9274ff1c55214e0bb81f11c132e7724a": {
     "model_module": "@jupyter-widgets/controls",
     "model_name": "HTMLModel",
     "state": {
      "_dom_classes": [],
      "_model_module": "@jupyter-widgets/controls",
      "_model_module_version": "1.5.0",
      "_model_name": "HTMLModel",
      "_view_count": null,
      "_view_module": "@jupyter-widgets/controls",
      "_view_module_version": "1.5.0",
      "_view_name": "HTMLView",
      "description": "",
      "description_tooltip": null,
      "layout": "IPY_MODEL_51e7ca9c6b65418db557049569079408",
      "placeholder": "​",
      "style": "IPY_MODEL_7aee8d4461e84f3bbf8a8f87cfe11566",
      "value": " 73/73 [01:22&lt;00:00,  1.14s/ba]"
     }
    },
    "928969265cb444a19255e6357ad8addd": {
     "model_module": "@jupyter-widgets/controls",
     "model_name": "HBoxModel",
     "state": {
      "_dom_classes": [],
      "_model_module": "@jupyter-widgets/controls",
      "_model_module_version": "1.5.0",
      "_model_name": "HBoxModel",
      "_view_count": null,
      "_view_module": "@jupyter-widgets/controls",
      "_view_module_version": "1.5.0",
      "_view_name": "HBoxView",
      "box_style": "",
      "children": [
       "IPY_MODEL_429a0dbd76014106920809948c927997",
       "IPY_MODEL_7bfac742a8564edb89b9d86adee1986c"
      ],
      "layout": "IPY_MODEL_70a88d378d654c81b5d87d3a7f5fdc2b"
     }
    },
    "930d72f4a6dc43d5b25ae1ea132f8db2": {
     "model_module": "@jupyter-widgets/controls",
     "model_name": "HBoxModel",
     "state": {
      "_dom_classes": [],
      "_model_module": "@jupyter-widgets/controls",
      "_model_module_version": "1.5.0",
      "_model_name": "HBoxModel",
      "_view_count": null,
      "_view_module": "@jupyter-widgets/controls",
      "_view_module_version": "1.5.0",
      "_view_name": "HBoxView",
      "box_style": "",
      "children": [
       "IPY_MODEL_68422751d15a45409354ee1d95fa4711",
       "IPY_MODEL_046a523dbc174c81bd9e20f51ce413e7"
      ],
      "layout": "IPY_MODEL_64f296b0eae94f16a47306998116b7f3"
     }
    },
    "953044c9ec1a42419cb27219b7e91643": {
     "model_module": "@jupyter-widgets/controls",
     "model_name": "FloatProgressModel",
     "state": {
      "_dom_classes": [],
      "_model_module": "@jupyter-widgets/controls",
      "_model_module_version": "1.5.0",
      "_model_name": "FloatProgressModel",
      "_view_count": null,
      "_view_module": "@jupyter-widgets/controls",
      "_view_module_version": "1.5.0",
      "_view_name": "ProgressView",
      "bar_style": "success",
      "description": "Downloading: ",
      "description_tooltip": null,
      "layout": "IPY_MODEL_0b134cf6742f4833a4fce1d98e70aa90",
      "max": 9954,
      "min": 0,
      "orientation": "horizontal",
      "style": "IPY_MODEL_ac18276fb06549afb6a70a742b5b7b92",
      "value": 9954
     }
    },
    "957e3f449fed431681603916004b5a50": {
     "model_module": "@jupyter-widgets/base",
     "model_name": "LayoutModel",
     "state": {
      "_model_module": "@jupyter-widgets/base",
      "_model_module_version": "1.2.0",
      "_model_name": "LayoutModel",
      "_view_count": null,
      "_view_module": "@jupyter-widgets/base",
      "_view_module_version": "1.2.0",
      "_view_name": "LayoutView",
      "align_content": null,
      "align_items": null,
      "align_self": null,
      "border": null,
      "bottom": null,
      "display": null,
      "flex": null,
      "flex_flow": null,
      "grid_area": null,
      "grid_auto_columns": null,
      "grid_auto_flow": null,
      "grid_auto_rows": null,
      "grid_column": null,
      "grid_gap": null,
      "grid_row": null,
      "grid_template_areas": null,
      "grid_template_columns": null,
      "grid_template_rows": null,
      "height": null,
      "justify_content": null,
      "justify_items": null,
      "left": null,
      "margin": null,
      "max_height": null,
      "max_width": null,
      "min_height": null,
      "min_width": null,
      "object_fit": null,
      "object_position": null,
      "order": null,
      "overflow": null,
      "overflow_x": null,
      "overflow_y": null,
      "padding": null,
      "right": null,
      "top": null,
      "visibility": null,
      "width": null
     }
    },
    "959698f27162441a90fd7d3f8bb104c6": {
     "model_module": "@jupyter-widgets/controls",
     "model_name": "HTMLModel",
     "state": {
      "_dom_classes": [],
      "_model_module": "@jupyter-widgets/controls",
      "_model_module_version": "1.5.0",
      "_model_name": "HTMLModel",
      "_view_count": null,
      "_view_module": "@jupyter-widgets/controls",
      "_view_module_version": "1.5.0",
      "_view_name": "HTMLView",
      "description": "",
      "description_tooltip": null,
      "layout": "IPY_MODEL_11e81925426c4c689bc60635a0059497",
      "placeholder": "​",
      "style": "IPY_MODEL_b66e62af7ec748158b6f8646fc6bcac4",
      "value": " 1.70G/1.70G [00:31&lt;00:00, 54.9MB/s]"
     }
    },
    "95ac296de43a47cd8eb0f32db9a4dbd1": {
     "model_module": "@jupyter-widgets/controls",
     "model_name": "HBoxModel",
     "state": {
      "_dom_classes": [],
      "_model_module": "@jupyter-widgets/controls",
      "_model_module_version": "1.5.0",
      "_model_name": "HBoxModel",
      "_view_count": null,
      "_view_module": "@jupyter-widgets/controls",
      "_view_module_version": "1.5.0",
      "_view_name": "HBoxView",
      "box_style": "",
      "children": [
       "IPY_MODEL_109884b49ad74a429c29c5ee5ff28fe9",
       "IPY_MODEL_4d87c657d53349f3995e81619d121deb"
      ],
      "layout": "IPY_MODEL_131e6d9086ef4f9f8b58486445f3fb44"
     }
    },
    "97185abb82a94dada700776a9fb576c6": {
     "model_module": "@jupyter-widgets/controls",
     "model_name": "ProgressStyleModel",
     "state": {
      "_model_module": "@jupyter-widgets/controls",
      "_model_module_version": "1.5.0",
      "_model_name": "ProgressStyleModel",
      "_view_count": null,
      "_view_module": "@jupyter-widgets/base",
      "_view_module_version": "1.2.0",
      "_view_name": "StyleView",
      "bar_color": null,
      "description_width": "initial"
     }
    },
    "9747538cea084eafa4f56f8d137c86a7": {
     "model_module": "@jupyter-widgets/base",
     "model_name": "LayoutModel",
     "state": {
      "_model_module": "@jupyter-widgets/base",
      "_model_module_version": "1.2.0",
      "_model_name": "LayoutModel",
      "_view_count": null,
      "_view_module": "@jupyter-widgets/base",
      "_view_module_version": "1.2.0",
      "_view_name": "LayoutView",
      "align_content": null,
      "align_items": null,
      "align_self": null,
      "border": null,
      "bottom": null,
      "display": null,
      "flex": null,
      "flex_flow": null,
      "grid_area": null,
      "grid_auto_columns": null,
      "grid_auto_flow": null,
      "grid_auto_rows": null,
      "grid_column": null,
      "grid_gap": null,
      "grid_row": null,
      "grid_template_areas": null,
      "grid_template_columns": null,
      "grid_template_rows": null,
      "height": null,
      "justify_content": null,
      "justify_items": null,
      "left": null,
      "margin": null,
      "max_height": null,
      "max_width": null,
      "min_height": null,
      "min_width": null,
      "object_fit": null,
      "object_position": null,
      "order": null,
      "overflow": null,
      "overflow_x": null,
      "overflow_y": null,
      "padding": null,
      "right": null,
      "top": null,
      "visibility": null,
      "width": null
     }
    },
    "97e95cb8eced4e928b0a76d404b02afe": {
     "model_module": "@jupyter-widgets/controls",
     "model_name": "DescriptionStyleModel",
     "state": {
      "_model_module": "@jupyter-widgets/controls",
      "_model_module_version": "1.5.0",
      "_model_name": "DescriptionStyleModel",
      "_view_count": null,
      "_view_module": "@jupyter-widgets/base",
      "_view_module_version": "1.2.0",
      "_view_name": "StyleView",
      "description_width": ""
     }
    },
    "97f029d401a24779a9e5b4434aaf8eb1": {
     "model_module": "@jupyter-widgets/controls",
     "model_name": "DescriptionStyleModel",
     "state": {
      "_model_module": "@jupyter-widgets/controls",
      "_model_module_version": "1.5.0",
      "_model_name": "DescriptionStyleModel",
      "_view_count": null,
      "_view_module": "@jupyter-widgets/base",
      "_view_module_version": "1.2.0",
      "_view_name": "StyleView",
      "description_width": ""
     }
    },
    "97f07bcc8b00450997d2cb8100f5d8ec": {
     "model_module": "@jupyter-widgets/controls",
     "model_name": "HTMLModel",
     "state": {
      "_dom_classes": [],
      "_model_module": "@jupyter-widgets/controls",
      "_model_module_version": "1.5.0",
      "_model_name": "HTMLModel",
      "_view_count": null,
      "_view_module": "@jupyter-widgets/controls",
      "_view_module_version": "1.5.0",
      "_view_name": "HTMLView",
      "description": "",
      "description_tooltip": null,
      "layout": "IPY_MODEL_2cb4fcf7229f47458fd039b852a99ca4",
      "placeholder": "​",
      "style": "IPY_MODEL_a4be028f06e14359b4a2d73fa391dc21",
      "value": " 1161/1161 [07:55&lt;00:00,  2.44ex/s]"
     }
    },
    "99f320858bac4850a917eb7770940297": {
     "model_module": "@jupyter-widgets/controls",
     "model_name": "HBoxModel",
     "state": {
      "_dom_classes": [],
      "_model_module": "@jupyter-widgets/controls",
      "_model_module_version": "1.5.0",
      "_model_name": "HBoxModel",
      "_view_count": null,
      "_view_module": "@jupyter-widgets/controls",
      "_view_module_version": "1.5.0",
      "_view_name": "HBoxView",
      "box_style": "",
      "children": [
       "IPY_MODEL_7374a10600a54776acc561a7ac44b31d",
       "IPY_MODEL_714553d5b0664a969727a6e86effc8fb"
      ],
      "layout": "IPY_MODEL_efdec556de8d4852917f68c1aadb7c67"
     }
    },
    "9a5cd00f368f478db00092bb6d608eef": {
     "model_module": "@jupyter-widgets/controls",
     "model_name": "ProgressStyleModel",
     "state": {
      "_model_module": "@jupyter-widgets/controls",
      "_model_module_version": "1.5.0",
      "_model_name": "ProgressStyleModel",
      "_view_count": null,
      "_view_module": "@jupyter-widgets/base",
      "_view_module_version": "1.2.0",
      "_view_name": "StyleView",
      "bar_color": null,
      "description_width": "initial"
     }
    },
    "9b043649a23b4a44b11a50538c460880": {
     "model_module": "@jupyter-widgets/base",
     "model_name": "LayoutModel",
     "state": {
      "_model_module": "@jupyter-widgets/base",
      "_model_module_version": "1.2.0",
      "_model_name": "LayoutModel",
      "_view_count": null,
      "_view_module": "@jupyter-widgets/base",
      "_view_module_version": "1.2.0",
      "_view_name": "LayoutView",
      "align_content": null,
      "align_items": null,
      "align_self": null,
      "border": null,
      "bottom": null,
      "display": null,
      "flex": null,
      "flex_flow": null,
      "grid_area": null,
      "grid_auto_columns": null,
      "grid_auto_flow": null,
      "grid_auto_rows": null,
      "grid_column": null,
      "grid_gap": null,
      "grid_row": null,
      "grid_template_areas": null,
      "grid_template_columns": null,
      "grid_template_rows": null,
      "height": null,
      "justify_content": null,
      "justify_items": null,
      "left": null,
      "margin": null,
      "max_height": null,
      "max_width": null,
      "min_height": null,
      "min_width": null,
      "object_fit": null,
      "object_position": null,
      "order": null,
      "overflow": null,
      "overflow_x": null,
      "overflow_y": null,
      "padding": null,
      "right": null,
      "top": null,
      "visibility": null,
      "width": null
     }
    },
    "9c4e1f60fb5443dab4dc051ca8d5d29b": {
     "model_module": "@jupyter-widgets/controls",
     "model_name": "DescriptionStyleModel",
     "state": {
      "_model_module": "@jupyter-widgets/controls",
      "_model_module_version": "1.5.0",
      "_model_name": "DescriptionStyleModel",
      "_view_count": null,
      "_view_module": "@jupyter-widgets/base",
      "_view_module_version": "1.2.0",
      "_view_name": "StyleView",
      "description_width": ""
     }
    },
    "9ff8dbc9b8aa480aa9dbf9d034fa05c2": {
     "model_module": "@jupyter-widgets/controls",
     "model_name": "HBoxModel",
     "state": {
      "_dom_classes": [],
      "_model_module": "@jupyter-widgets/controls",
      "_model_module_version": "1.5.0",
      "_model_name": "HBoxModel",
      "_view_count": null,
      "_view_module": "@jupyter-widgets/controls",
      "_view_module_version": "1.5.0",
      "_view_name": "HBoxView",
      "box_style": "",
      "children": [
       "IPY_MODEL_767a2056ab6b4d899a8e0c78ee88e305",
       "IPY_MODEL_e7b7f9e12da240068002f45996439292"
      ],
      "layout": "IPY_MODEL_e8150f334a7b46fc8dfd2f86fb4bcc5f"
     }
    },
    "a03024d9525649579c2eddaf2e1559ff": {
     "model_module": "@jupyter-widgets/base",
     "model_name": "LayoutModel",
     "state": {
      "_model_module": "@jupyter-widgets/base",
      "_model_module_version": "1.2.0",
      "_model_name": "LayoutModel",
      "_view_count": null,
      "_view_module": "@jupyter-widgets/base",
      "_view_module_version": "1.2.0",
      "_view_name": "LayoutView",
      "align_content": null,
      "align_items": null,
      "align_self": null,
      "border": null,
      "bottom": null,
      "display": null,
      "flex": null,
      "flex_flow": null,
      "grid_area": null,
      "grid_auto_columns": null,
      "grid_auto_flow": null,
      "grid_auto_rows": null,
      "grid_column": null,
      "grid_gap": null,
      "grid_row": null,
      "grid_template_areas": null,
      "grid_template_columns": null,
      "grid_template_rows": null,
      "height": null,
      "justify_content": null,
      "justify_items": null,
      "left": null,
      "margin": null,
      "max_height": null,
      "max_width": null,
      "min_height": null,
      "min_width": null,
      "object_fit": null,
      "object_position": null,
      "order": null,
      "overflow": null,
      "overflow_x": null,
      "overflow_y": null,
      "padding": null,
      "right": null,
      "top": null,
      "visibility": null,
      "width": null
     }
    },
    "a0411758be6b4638b0a9e982cf6b75f7": {
     "model_module": "@jupyter-widgets/controls",
     "model_name": "HBoxModel",
     "state": {
      "_dom_classes": [],
      "_model_module": "@jupyter-widgets/controls",
      "_model_module_version": "1.5.0",
      "_model_name": "HBoxModel",
      "_view_count": null,
      "_view_module": "@jupyter-widgets/controls",
      "_view_module_version": "1.5.0",
      "_view_name": "HBoxView",
      "box_style": "",
      "children": [
       "IPY_MODEL_1bbb2816fdb44dc2afa39ef4c223f2c4",
       "IPY_MODEL_2bc0d61c464b4089afc71fbaef5c1d13"
      ],
      "layout": "IPY_MODEL_4c625c1b6fe64be7bd52c5323f8064ec"
     }
    },
    "a0e97c28096d4967a3a02aaccfee3985": {
     "model_module": "@jupyter-widgets/base",
     "model_name": "LayoutModel",
     "state": {
      "_model_module": "@jupyter-widgets/base",
      "_model_module_version": "1.2.0",
      "_model_name": "LayoutModel",
      "_view_count": null,
      "_view_module": "@jupyter-widgets/base",
      "_view_module_version": "1.2.0",
      "_view_name": "LayoutView",
      "align_content": null,
      "align_items": null,
      "align_self": null,
      "border": null,
      "bottom": null,
      "display": null,
      "flex": null,
      "flex_flow": null,
      "grid_area": null,
      "grid_auto_columns": null,
      "grid_auto_flow": null,
      "grid_auto_rows": null,
      "grid_column": null,
      "grid_gap": null,
      "grid_row": null,
      "grid_template_areas": null,
      "grid_template_columns": null,
      "grid_template_rows": null,
      "height": null,
      "justify_content": null,
      "justify_items": null,
      "left": null,
      "margin": null,
      "max_height": null,
      "max_width": null,
      "min_height": null,
      "min_width": null,
      "object_fit": null,
      "object_position": null,
      "order": null,
      "overflow": null,
      "overflow_x": null,
      "overflow_y": null,
      "padding": null,
      "right": null,
      "top": null,
      "visibility": null,
      "width": null
     }
    },
    "a1b6985ecadc4afa857ef4095dd18b24": {
     "model_module": "@jupyter-widgets/controls",
     "model_name": "ProgressStyleModel",
     "state": {
      "_model_module": "@jupyter-widgets/controls",
      "_model_module_version": "1.5.0",
      "_model_name": "ProgressStyleModel",
      "_view_count": null,
      "_view_module": "@jupyter-widgets/base",
      "_view_module_version": "1.2.0",
      "_view_name": "StyleView",
      "bar_color": null,
      "description_width": "initial"
     }
    },
    "a1dd4829ea134df68e15b4a730ff795e": {
     "model_module": "@jupyter-widgets/controls",
     "model_name": "ProgressStyleModel",
     "state": {
      "_model_module": "@jupyter-widgets/controls",
      "_model_module_version": "1.5.0",
      "_model_name": "ProgressStyleModel",
      "_view_count": null,
      "_view_module": "@jupyter-widgets/base",
      "_view_module_version": "1.2.0",
      "_view_name": "StyleView",
      "bar_color": null,
      "description_width": "initial"
     }
    },
    "a42057ef93d94f5f9be0c1789da95a48": {
     "model_module": "@jupyter-widgets/base",
     "model_name": "LayoutModel",
     "state": {
      "_model_module": "@jupyter-widgets/base",
      "_model_module_version": "1.2.0",
      "_model_name": "LayoutModel",
      "_view_count": null,
      "_view_module": "@jupyter-widgets/base",
      "_view_module_version": "1.2.0",
      "_view_name": "LayoutView",
      "align_content": null,
      "align_items": null,
      "align_self": null,
      "border": null,
      "bottom": null,
      "display": null,
      "flex": null,
      "flex_flow": null,
      "grid_area": null,
      "grid_auto_columns": null,
      "grid_auto_flow": null,
      "grid_auto_rows": null,
      "grid_column": null,
      "grid_gap": null,
      "grid_row": null,
      "grid_template_areas": null,
      "grid_template_columns": null,
      "grid_template_rows": null,
      "height": null,
      "justify_content": null,
      "justify_items": null,
      "left": null,
      "margin": null,
      "max_height": null,
      "max_width": null,
      "min_height": null,
      "min_width": null,
      "object_fit": null,
      "object_position": null,
      "order": null,
      "overflow": null,
      "overflow_x": null,
      "overflow_y": null,
      "padding": null,
      "right": null,
      "top": null,
      "visibility": null,
      "width": null
     }
    },
    "a4be028f06e14359b4a2d73fa391dc21": {
     "model_module": "@jupyter-widgets/controls",
     "model_name": "DescriptionStyleModel",
     "state": {
      "_model_module": "@jupyter-widgets/controls",
      "_model_module_version": "1.5.0",
      "_model_name": "DescriptionStyleModel",
      "_view_count": null,
      "_view_module": "@jupyter-widgets/base",
      "_view_module_version": "1.2.0",
      "_view_name": "StyleView",
      "description_width": ""
     }
    },
    "a62cb01b0dd243fa9222c4fc285bc465": {
     "model_module": "@jupyter-widgets/base",
     "model_name": "LayoutModel",
     "state": {
      "_model_module": "@jupyter-widgets/base",
      "_model_module_version": "1.2.0",
      "_model_name": "LayoutModel",
      "_view_count": null,
      "_view_module": "@jupyter-widgets/base",
      "_view_module_version": "1.2.0",
      "_view_name": "LayoutView",
      "align_content": null,
      "align_items": null,
      "align_self": null,
      "border": null,
      "bottom": null,
      "display": null,
      "flex": null,
      "flex_flow": null,
      "grid_area": null,
      "grid_auto_columns": null,
      "grid_auto_flow": null,
      "grid_auto_rows": null,
      "grid_column": null,
      "grid_gap": null,
      "grid_row": null,
      "grid_template_areas": null,
      "grid_template_columns": null,
      "grid_template_rows": null,
      "height": null,
      "justify_content": null,
      "justify_items": null,
      "left": null,
      "margin": null,
      "max_height": null,
      "max_width": null,
      "min_height": null,
      "min_width": null,
      "object_fit": null,
      "object_position": null,
      "order": null,
      "overflow": null,
      "overflow_x": null,
      "overflow_y": null,
      "padding": null,
      "right": null,
      "top": null,
      "visibility": null,
      "width": null
     }
    },
    "a9308cbca1a444bf8eb76ccb4e062a1e": {
     "model_module": "@jupyter-widgets/base",
     "model_name": "LayoutModel",
     "state": {
      "_model_module": "@jupyter-widgets/base",
      "_model_module_version": "1.2.0",
      "_model_name": "LayoutModel",
      "_view_count": null,
      "_view_module": "@jupyter-widgets/base",
      "_view_module_version": "1.2.0",
      "_view_name": "LayoutView",
      "align_content": null,
      "align_items": null,
      "align_self": null,
      "border": null,
      "bottom": null,
      "display": null,
      "flex": null,
      "flex_flow": null,
      "grid_area": null,
      "grid_auto_columns": null,
      "grid_auto_flow": null,
      "grid_auto_rows": null,
      "grid_column": null,
      "grid_gap": null,
      "grid_row": null,
      "grid_template_areas": null,
      "grid_template_columns": null,
      "grid_template_rows": null,
      "height": null,
      "justify_content": null,
      "justify_items": null,
      "left": null,
      "margin": null,
      "max_height": null,
      "max_width": null,
      "min_height": null,
      "min_width": null,
      "object_fit": null,
      "object_position": null,
      "order": null,
      "overflow": null,
      "overflow_x": null,
      "overflow_y": null,
      "padding": null,
      "right": null,
      "top": null,
      "visibility": null,
      "width": null
     }
    },
    "aa14d1cb70534838be11ff11244cad20": {
     "model_module": "@jupyter-widgets/controls",
     "model_name": "ProgressStyleModel",
     "state": {
      "_model_module": "@jupyter-widgets/controls",
      "_model_module_version": "1.5.0",
      "_model_name": "ProgressStyleModel",
      "_view_count": null,
      "_view_module": "@jupyter-widgets/base",
      "_view_module_version": "1.2.0",
      "_view_name": "StyleView",
      "bar_color": null,
      "description_width": "initial"
     }
    },
    "aa38a66e6c6c49c595d6602cdd95b80c": {
     "model_module": "@jupyter-widgets/controls",
     "model_name": "FloatProgressModel",
     "state": {
      "_dom_classes": [],
      "_model_module": "@jupyter-widgets/controls",
      "_model_module_version": "1.5.0",
      "_model_name": "FloatProgressModel",
      "_view_count": null,
      "_view_module": "@jupyter-widgets/controls",
      "_view_module_version": "1.5.0",
      "_view_name": "ProgressView",
      "bar_style": "success",
      "description": "#0: 100%",
      "description_tooltip": null,
      "layout": "IPY_MODEL_e3e5c30afd1b4c16984d3fb3a040f635",
      "max": 174,
      "min": 0,
      "orientation": "horizontal",
      "style": "IPY_MODEL_39c55ee4e290494b8d19c5b5e9274799",
      "value": 174
     }
    },
    "aa7ff94b3b724c5cbd1687ee54269b74": {
     "model_module": "@jupyter-widgets/base",
     "model_name": "LayoutModel",
     "state": {
      "_model_module": "@jupyter-widgets/base",
      "_model_module_version": "1.2.0",
      "_model_name": "LayoutModel",
      "_view_count": null,
      "_view_module": "@jupyter-widgets/base",
      "_view_module_version": "1.2.0",
      "_view_name": "LayoutView",
      "align_content": null,
      "align_items": null,
      "align_self": null,
      "border": null,
      "bottom": null,
      "display": null,
      "flex": null,
      "flex_flow": null,
      "grid_area": null,
      "grid_auto_columns": null,
      "grid_auto_flow": null,
      "grid_auto_rows": null,
      "grid_column": null,
      "grid_gap": null,
      "grid_row": null,
      "grid_template_areas": null,
      "grid_template_columns": null,
      "grid_template_rows": null,
      "height": null,
      "justify_content": null,
      "justify_items": null,
      "left": null,
      "margin": null,
      "max_height": null,
      "max_width": null,
      "min_height": null,
      "min_width": null,
      "object_fit": null,
      "object_position": null,
      "order": null,
      "overflow": null,
      "overflow_x": null,
      "overflow_y": null,
      "padding": null,
      "right": null,
      "top": null,
      "visibility": null,
      "width": null
     }
    },
    "aac1921a297d4979867fbe1d78096f89": {
     "model_module": "@jupyter-widgets/base",
     "model_name": "LayoutModel",
     "state": {
      "_model_module": "@jupyter-widgets/base",
      "_model_module_version": "1.2.0",
      "_model_name": "LayoutModel",
      "_view_count": null,
      "_view_module": "@jupyter-widgets/base",
      "_view_module_version": "1.2.0",
      "_view_name": "LayoutView",
      "align_content": null,
      "align_items": null,
      "align_self": null,
      "border": null,
      "bottom": null,
      "display": null,
      "flex": null,
      "flex_flow": null,
      "grid_area": null,
      "grid_auto_columns": null,
      "grid_auto_flow": null,
      "grid_auto_rows": null,
      "grid_column": null,
      "grid_gap": null,
      "grid_row": null,
      "grid_template_areas": null,
      "grid_template_columns": null,
      "grid_template_rows": null,
      "height": null,
      "justify_content": null,
      "justify_items": null,
      "left": null,
      "margin": null,
      "max_height": null,
      "max_width": null,
      "min_height": null,
      "min_width": null,
      "object_fit": null,
      "object_position": null,
      "order": null,
      "overflow": null,
      "overflow_x": null,
      "overflow_y": null,
      "padding": null,
      "right": null,
      "top": null,
      "visibility": null,
      "width": null
     }
    },
    "aac4eef516d546bc814bee2b2ad0a1c4": {
     "model_module": "@jupyter-widgets/base",
     "model_name": "LayoutModel",
     "state": {
      "_model_module": "@jupyter-widgets/base",
      "_model_module_version": "1.2.0",
      "_model_name": "LayoutModel",
      "_view_count": null,
      "_view_module": "@jupyter-widgets/base",
      "_view_module_version": "1.2.0",
      "_view_name": "LayoutView",
      "align_content": null,
      "align_items": null,
      "align_self": null,
      "border": null,
      "bottom": null,
      "display": null,
      "flex": null,
      "flex_flow": null,
      "grid_area": null,
      "grid_auto_columns": null,
      "grid_auto_flow": null,
      "grid_auto_rows": null,
      "grid_column": null,
      "grid_gap": null,
      "grid_row": null,
      "grid_template_areas": null,
      "grid_template_columns": null,
      "grid_template_rows": null,
      "height": null,
      "justify_content": null,
      "justify_items": null,
      "left": null,
      "margin": null,
      "max_height": null,
      "max_width": null,
      "min_height": null,
      "min_width": null,
      "object_fit": null,
      "object_position": null,
      "order": null,
      "overflow": null,
      "overflow_x": null,
      "overflow_y": null,
      "padding": null,
      "right": null,
      "top": null,
      "visibility": null,
      "width": null
     }
    },
    "aba023d9cec441549f1b622b79bba2ca": {
     "model_module": "@jupyter-widgets/controls",
     "model_name": "DescriptionStyleModel",
     "state": {
      "_model_module": "@jupyter-widgets/controls",
      "_model_module_version": "1.5.0",
      "_model_name": "DescriptionStyleModel",
      "_view_count": null,
      "_view_module": "@jupyter-widgets/base",
      "_view_module_version": "1.2.0",
      "_view_name": "StyleView",
      "description_width": ""
     }
    },
    "abf2dbe803e341b6b11cb12ee1461dfd": {
     "model_module": "@jupyter-widgets/base",
     "model_name": "LayoutModel",
     "state": {
      "_model_module": "@jupyter-widgets/base",
      "_model_module_version": "1.2.0",
      "_model_name": "LayoutModel",
      "_view_count": null,
      "_view_module": "@jupyter-widgets/base",
      "_view_module_version": "1.2.0",
      "_view_name": "LayoutView",
      "align_content": null,
      "align_items": null,
      "align_self": null,
      "border": null,
      "bottom": null,
      "display": null,
      "flex": null,
      "flex_flow": null,
      "grid_area": null,
      "grid_auto_columns": null,
      "grid_auto_flow": null,
      "grid_auto_rows": null,
      "grid_column": null,
      "grid_gap": null,
      "grid_row": null,
      "grid_template_areas": null,
      "grid_template_columns": null,
      "grid_template_rows": null,
      "height": null,
      "justify_content": null,
      "justify_items": null,
      "left": null,
      "margin": null,
      "max_height": null,
      "max_width": null,
      "min_height": null,
      "min_width": null,
      "object_fit": null,
      "object_position": null,
      "order": null,
      "overflow": null,
      "overflow_x": null,
      "overflow_y": null,
      "padding": null,
      "right": null,
      "top": null,
      "visibility": null,
      "width": null
     }
    },
    "ac18276fb06549afb6a70a742b5b7b92": {
     "model_module": "@jupyter-widgets/controls",
     "model_name": "ProgressStyleModel",
     "state": {
      "_model_module": "@jupyter-widgets/controls",
      "_model_module_version": "1.5.0",
      "_model_name": "ProgressStyleModel",
      "_view_count": null,
      "_view_module": "@jupyter-widgets/base",
      "_view_module_version": "1.2.0",
      "_view_name": "StyleView",
      "bar_color": null,
      "description_width": "initial"
     }
    },
    "ac9ad2eefbdd4c5d83debdcb2f0c88a1": {
     "model_module": "@jupyter-widgets/base",
     "model_name": "LayoutModel",
     "state": {
      "_model_module": "@jupyter-widgets/base",
      "_model_module_version": "1.2.0",
      "_model_name": "LayoutModel",
      "_view_count": null,
      "_view_module": "@jupyter-widgets/base",
      "_view_module_version": "1.2.0",
      "_view_name": "LayoutView",
      "align_content": null,
      "align_items": null,
      "align_self": null,
      "border": null,
      "bottom": null,
      "display": null,
      "flex": null,
      "flex_flow": null,
      "grid_area": null,
      "grid_auto_columns": null,
      "grid_auto_flow": null,
      "grid_auto_rows": null,
      "grid_column": null,
      "grid_gap": null,
      "grid_row": null,
      "grid_template_areas": null,
      "grid_template_columns": null,
      "grid_template_rows": null,
      "height": null,
      "justify_content": null,
      "justify_items": null,
      "left": null,
      "margin": null,
      "max_height": null,
      "max_width": null,
      "min_height": null,
      "min_width": null,
      "object_fit": null,
      "object_position": null,
      "order": null,
      "overflow": null,
      "overflow_x": null,
      "overflow_y": null,
      "padding": null,
      "right": null,
      "top": null,
      "visibility": null,
      "width": null
     }
    },
    "acecda5aa48145d2b26c80361683aabf": {
     "model_module": "@jupyter-widgets/controls",
     "model_name": "DescriptionStyleModel",
     "state": {
      "_model_module": "@jupyter-widgets/controls",
      "_model_module_version": "1.5.0",
      "_model_name": "DescriptionStyleModel",
      "_view_count": null,
      "_view_module": "@jupyter-widgets/base",
      "_view_module_version": "1.2.0",
      "_view_name": "StyleView",
      "description_width": ""
     }
    },
    "b0279a68ba5842fbabf380183134b6e1": {
     "model_module": "@jupyter-widgets/base",
     "model_name": "LayoutModel",
     "state": {
      "_model_module": "@jupyter-widgets/base",
      "_model_module_version": "1.2.0",
      "_model_name": "LayoutModel",
      "_view_count": null,
      "_view_module": "@jupyter-widgets/base",
      "_view_module_version": "1.2.0",
      "_view_name": "LayoutView",
      "align_content": null,
      "align_items": null,
      "align_self": null,
      "border": null,
      "bottom": null,
      "display": null,
      "flex": null,
      "flex_flow": null,
      "grid_area": null,
      "grid_auto_columns": null,
      "grid_auto_flow": null,
      "grid_auto_rows": null,
      "grid_column": null,
      "grid_gap": null,
      "grid_row": null,
      "grid_template_areas": null,
      "grid_template_columns": null,
      "grid_template_rows": null,
      "height": null,
      "justify_content": null,
      "justify_items": null,
      "left": null,
      "margin": null,
      "max_height": null,
      "max_width": null,
      "min_height": null,
      "min_width": null,
      "object_fit": null,
      "object_position": null,
      "order": null,
      "overflow": null,
      "overflow_x": null,
      "overflow_y": null,
      "padding": null,
      "right": null,
      "top": null,
      "visibility": null,
      "width": null
     }
    },
    "b04b6e18e2884cc1b8f00075f4aabe38": {
     "model_module": "@jupyter-widgets/controls",
     "model_name": "HTMLModel",
     "state": {
      "_dom_classes": [],
      "_model_module": "@jupyter-widgets/controls",
      "_model_module_version": "1.5.0",
      "_model_name": "HTMLModel",
      "_view_count": null,
      "_view_module": "@jupyter-widgets/controls",
      "_view_module_version": "1.5.0",
      "_view_name": "HTMLView",
      "description": "",
      "description_tooltip": null,
      "layout": "IPY_MODEL_16999f20e38943bb9a23ab571771e09b",
      "placeholder": "​",
      "style": "IPY_MODEL_33f9de9d929749aca20d4c6c65eaef19",
      "value": " 11106/11106 [06:48&lt;00:00, 27.21ex/s]"
     }
    },
    "b24ce8480f9a49bbaeda69d08b978244": {
     "model_module": "@jupyter-widgets/controls",
     "model_name": "HBoxModel",
     "state": {
      "_dom_classes": [],
      "_model_module": "@jupyter-widgets/controls",
      "_model_module_version": "1.5.0",
      "_model_name": "HBoxModel",
      "_view_count": null,
      "_view_module": "@jupyter-widgets/controls",
      "_view_module_version": "1.5.0",
      "_view_name": "HBoxView",
      "box_style": "",
      "children": [
       "IPY_MODEL_ee116bdb6b144744895500aa3bb507da",
       "IPY_MODEL_c7f123f36afe4f3893e7463cf540a009"
      ],
      "layout": "IPY_MODEL_a0e97c28096d4967a3a02aaccfee3985"
     }
    },
    "b3bfba718cc44d41bf4c98733bf4375a": {
     "model_module": "@jupyter-widgets/controls",
     "model_name": "FloatProgressModel",
     "state": {
      "_dom_classes": [],
      "_model_module": "@jupyter-widgets/controls",
      "_model_module_version": "1.5.0",
      "_model_name": "FloatProgressModel",
      "_view_count": null,
      "_view_module": "@jupyter-widgets/controls",
      "_view_module_version": "1.5.0",
      "_view_name": "ProgressView",
      "bar_style": "success",
      "description": "#1: 100%",
      "description_tooltip": null,
      "layout": "IPY_MODEL_4a3fbab97ad9473fa65414ce8d01f94c",
      "max": 2777,
      "min": 0,
      "orientation": "horizontal",
      "style": "IPY_MODEL_818276586dcb4a9298f2975c4f64eee5",
      "value": 2777
     }
    },
    "b4cf60074406436a8d4e3b8c6ac02bc9": {
     "model_module": "@jupyter-widgets/controls",
     "model_name": "FloatProgressModel",
     "state": {
      "_dom_classes": [],
      "_model_module": "@jupyter-widgets/controls",
      "_model_module_version": "1.5.0",
      "_model_name": "FloatProgressModel",
      "_view_count": null,
      "_view_module": "@jupyter-widgets/controls",
      "_view_module_version": "1.5.0",
      "_view_name": "ProgressView",
      "bar_style": "success",
      "description": "#3: 100%",
      "description_tooltip": null,
      "layout": "IPY_MODEL_2a525c72bd6e41af935faf888e336af0",
      "max": 2776,
      "min": 0,
      "orientation": "horizontal",
      "style": "IPY_MODEL_a1dd4829ea134df68e15b4a730ff795e",
      "value": 2776
     }
    },
    "b4d681317f044e5094a4e0e6fc5b6b95": {
     "model_module": "@jupyter-widgets/base",
     "model_name": "LayoutModel",
     "state": {
      "_model_module": "@jupyter-widgets/base",
      "_model_module_version": "1.2.0",
      "_model_name": "LayoutModel",
      "_view_count": null,
      "_view_module": "@jupyter-widgets/base",
      "_view_module_version": "1.2.0",
      "_view_name": "LayoutView",
      "align_content": null,
      "align_items": null,
      "align_self": null,
      "border": null,
      "bottom": null,
      "display": null,
      "flex": null,
      "flex_flow": null,
      "grid_area": null,
      "grid_auto_columns": null,
      "grid_auto_flow": null,
      "grid_auto_rows": null,
      "grid_column": null,
      "grid_gap": null,
      "grid_row": null,
      "grid_template_areas": null,
      "grid_template_columns": null,
      "grid_template_rows": null,
      "height": null,
      "justify_content": null,
      "justify_items": null,
      "left": null,
      "margin": null,
      "max_height": null,
      "max_width": null,
      "min_height": null,
      "min_width": null,
      "object_fit": null,
      "object_position": null,
      "order": null,
      "overflow": null,
      "overflow_x": null,
      "overflow_y": null,
      "padding": null,
      "right": null,
      "top": null,
      "visibility": null,
      "width": null
     }
    },
    "b5983dec6de5409e9b89dce25ec65a47": {
     "model_module": "@jupyter-widgets/base",
     "model_name": "LayoutModel",
     "state": {
      "_model_module": "@jupyter-widgets/base",
      "_model_module_version": "1.2.0",
      "_model_name": "LayoutModel",
      "_view_count": null,
      "_view_module": "@jupyter-widgets/base",
      "_view_module_version": "1.2.0",
      "_view_name": "LayoutView",
      "align_content": null,
      "align_items": null,
      "align_self": null,
      "border": null,
      "bottom": null,
      "display": null,
      "flex": null,
      "flex_flow": null,
      "grid_area": null,
      "grid_auto_columns": null,
      "grid_auto_flow": null,
      "grid_auto_rows": null,
      "grid_column": null,
      "grid_gap": null,
      "grid_row": null,
      "grid_template_areas": null,
      "grid_template_columns": null,
      "grid_template_rows": null,
      "height": null,
      "justify_content": null,
      "justify_items": null,
      "left": null,
      "margin": null,
      "max_height": null,
      "max_width": null,
      "min_height": null,
      "min_width": null,
      "object_fit": null,
      "object_position": null,
      "order": null,
      "overflow": null,
      "overflow_x": null,
      "overflow_y": null,
      "padding": null,
      "right": null,
      "top": null,
      "visibility": null,
      "width": null
     }
    },
    "b5db828c88c2471ab20faf765d6507ab": {
     "model_module": "@jupyter-widgets/base",
     "model_name": "LayoutModel",
     "state": {
      "_model_module": "@jupyter-widgets/base",
      "_model_module_version": "1.2.0",
      "_model_name": "LayoutModel",
      "_view_count": null,
      "_view_module": "@jupyter-widgets/base",
      "_view_module_version": "1.2.0",
      "_view_name": "LayoutView",
      "align_content": null,
      "align_items": null,
      "align_self": null,
      "border": null,
      "bottom": null,
      "display": null,
      "flex": null,
      "flex_flow": null,
      "grid_area": null,
      "grid_auto_columns": null,
      "grid_auto_flow": null,
      "grid_auto_rows": null,
      "grid_column": null,
      "grid_gap": null,
      "grid_row": null,
      "grid_template_areas": null,
      "grid_template_columns": null,
      "grid_template_rows": null,
      "height": null,
      "justify_content": null,
      "justify_items": null,
      "left": null,
      "margin": null,
      "max_height": null,
      "max_width": null,
      "min_height": null,
      "min_width": null,
      "object_fit": null,
      "object_position": null,
      "order": null,
      "overflow": null,
      "overflow_x": null,
      "overflow_y": null,
      "padding": null,
      "right": null,
      "top": null,
      "visibility": null,
      "width": null
     }
    },
    "b6458e35b3c74c6e9e702fe7ade7136e": {
     "model_module": "@jupyter-widgets/base",
     "model_name": "LayoutModel",
     "state": {
      "_model_module": "@jupyter-widgets/base",
      "_model_module_version": "1.2.0",
      "_model_name": "LayoutModel",
      "_view_count": null,
      "_view_module": "@jupyter-widgets/base",
      "_view_module_version": "1.2.0",
      "_view_name": "LayoutView",
      "align_content": null,
      "align_items": null,
      "align_self": null,
      "border": null,
      "bottom": null,
      "display": null,
      "flex": null,
      "flex_flow": null,
      "grid_area": null,
      "grid_auto_columns": null,
      "grid_auto_flow": null,
      "grid_auto_rows": null,
      "grid_column": null,
      "grid_gap": null,
      "grid_row": null,
      "grid_template_areas": null,
      "grid_template_columns": null,
      "grid_template_rows": null,
      "height": null,
      "justify_content": null,
      "justify_items": null,
      "left": null,
      "margin": null,
      "max_height": null,
      "max_width": null,
      "min_height": null,
      "min_width": null,
      "object_fit": null,
      "object_position": null,
      "order": null,
      "overflow": null,
      "overflow_x": null,
      "overflow_y": null,
      "padding": null,
      "right": null,
      "top": null,
      "visibility": null,
      "width": null
     }
    },
    "b66e62af7ec748158b6f8646fc6bcac4": {
     "model_module": "@jupyter-widgets/controls",
     "model_name": "DescriptionStyleModel",
     "state": {
      "_model_module": "@jupyter-widgets/controls",
      "_model_module_version": "1.5.0",
      "_model_name": "DescriptionStyleModel",
      "_view_count": null,
      "_view_module": "@jupyter-widgets/base",
      "_view_module_version": "1.2.0",
      "_view_name": "StyleView",
      "description_width": ""
     }
    },
    "b74e82110d2f4658b5fa6e620df4c096": {
     "model_module": "@jupyter-widgets/controls",
     "model_name": "HTMLModel",
     "state": {
      "_dom_classes": [],
      "_model_module": "@jupyter-widgets/controls",
      "_model_module_version": "1.5.0",
      "_model_name": "HTMLModel",
      "_view_count": null,
      "_view_module": "@jupyter-widgets/controls",
      "_view_module_version": "1.5.0",
      "_view_name": "HTMLView",
      "description": "",
      "description_tooltip": null,
      "layout": "IPY_MODEL_20dccbbb6166445bb84ecdebf643aa1e",
      "placeholder": "​",
      "style": "IPY_MODEL_0d8b3abfdc07423785f6511b70b7fa82",
      "value": " 2776/2776 [17:22&lt;00:00,  2.66ex/s]"
     }
    },
    "b8e87aef615e467ea387a01063b7447c": {
     "model_module": "@jupyter-widgets/base",
     "model_name": "LayoutModel",
     "state": {
      "_model_module": "@jupyter-widgets/base",
      "_model_module_version": "1.2.0",
      "_model_name": "LayoutModel",
      "_view_count": null,
      "_view_module": "@jupyter-widgets/base",
      "_view_module_version": "1.2.0",
      "_view_name": "LayoutView",
      "align_content": null,
      "align_items": null,
      "align_self": null,
      "border": null,
      "bottom": null,
      "display": null,
      "flex": null,
      "flex_flow": null,
      "grid_area": null,
      "grid_auto_columns": null,
      "grid_auto_flow": null,
      "grid_auto_rows": null,
      "grid_column": null,
      "grid_gap": null,
      "grid_row": null,
      "grid_template_areas": null,
      "grid_template_columns": null,
      "grid_template_rows": null,
      "height": null,
      "justify_content": null,
      "justify_items": null,
      "left": null,
      "margin": null,
      "max_height": null,
      "max_width": null,
      "min_height": null,
      "min_width": null,
      "object_fit": null,
      "object_position": null,
      "order": null,
      "overflow": null,
      "overflow_x": null,
      "overflow_y": null,
      "padding": null,
      "right": null,
      "top": null,
      "visibility": null,
      "width": null
     }
    },
    "b97f7f26b02842eb959b1b48d00230c2": {
     "model_module": "@jupyter-widgets/base",
     "model_name": "LayoutModel",
     "state": {
      "_model_module": "@jupyter-widgets/base",
      "_model_module_version": "1.2.0",
      "_model_name": "LayoutModel",
      "_view_count": null,
      "_view_module": "@jupyter-widgets/base",
      "_view_module_version": "1.2.0",
      "_view_name": "LayoutView",
      "align_content": null,
      "align_items": null,
      "align_self": null,
      "border": null,
      "bottom": null,
      "display": null,
      "flex": null,
      "flex_flow": null,
      "grid_area": null,
      "grid_auto_columns": null,
      "grid_auto_flow": null,
      "grid_auto_rows": null,
      "grid_column": null,
      "grid_gap": null,
      "grid_row": null,
      "grid_template_areas": null,
      "grid_template_columns": null,
      "grid_template_rows": null,
      "height": null,
      "justify_content": null,
      "justify_items": null,
      "left": null,
      "margin": null,
      "max_height": null,
      "max_width": null,
      "min_height": null,
      "min_width": null,
      "object_fit": null,
      "object_position": null,
      "order": null,
      "overflow": null,
      "overflow_x": null,
      "overflow_y": null,
      "padding": null,
      "right": null,
      "top": null,
      "visibility": null,
      "width": null
     }
    },
    "bd3898bfe1974e52920d263ca5a21683": {
     "model_module": "@jupyter-widgets/controls",
     "model_name": "HBoxModel",
     "state": {
      "_dom_classes": [],
      "_model_module": "@jupyter-widgets/controls",
      "_model_module_version": "1.5.0",
      "_model_name": "HBoxModel",
      "_view_count": null,
      "_view_module": "@jupyter-widgets/controls",
      "_view_module_version": "1.5.0",
      "_view_name": "HBoxView",
      "box_style": "",
      "children": [
       "IPY_MODEL_1865931adf3f4733b6bfa7de080b611d",
       "IPY_MODEL_61a3193dfdf2476e9481b01c9aab69ee"
      ],
      "layout": "IPY_MODEL_b97f7f26b02842eb959b1b48d00230c2"
     }
    },
    "be99af66f2874688bf11e350d1496bd8": {
     "model_module": "@jupyter-widgets/base",
     "model_name": "LayoutModel",
     "state": {
      "_model_module": "@jupyter-widgets/base",
      "_model_module_version": "1.2.0",
      "_model_name": "LayoutModel",
      "_view_count": null,
      "_view_module": "@jupyter-widgets/base",
      "_view_module_version": "1.2.0",
      "_view_name": "LayoutView",
      "align_content": null,
      "align_items": null,
      "align_self": null,
      "border": null,
      "bottom": null,
      "display": null,
      "flex": null,
      "flex_flow": null,
      "grid_area": null,
      "grid_auto_columns": null,
      "grid_auto_flow": null,
      "grid_auto_rows": null,
      "grid_column": null,
      "grid_gap": null,
      "grid_row": null,
      "grid_template_areas": null,
      "grid_template_columns": null,
      "grid_template_rows": null,
      "height": null,
      "justify_content": null,
      "justify_items": null,
      "left": null,
      "margin": null,
      "max_height": null,
      "max_width": null,
      "min_height": null,
      "min_width": null,
      "object_fit": null,
      "object_position": null,
      "order": null,
      "overflow": null,
      "overflow_x": null,
      "overflow_y": null,
      "padding": null,
      "right": null,
      "top": null,
      "visibility": null,
      "width": null
     }
    },
    "be9cc30d6ad44fb2818adc685754d8fa": {
     "model_module": "@jupyter-widgets/controls",
     "model_name": "DescriptionStyleModel",
     "state": {
      "_model_module": "@jupyter-widgets/controls",
      "_model_module_version": "1.5.0",
      "_model_name": "DescriptionStyleModel",
      "_view_count": null,
      "_view_module": "@jupyter-widgets/base",
      "_view_module_version": "1.2.0",
      "_view_name": "StyleView",
      "description_width": ""
     }
    },
    "c0278fbc7c0149c0a8c37b3acc4cad0d": {
     "model_module": "@jupyter-widgets/controls",
     "model_name": "ProgressStyleModel",
     "state": {
      "_model_module": "@jupyter-widgets/controls",
      "_model_module_version": "1.5.0",
      "_model_name": "ProgressStyleModel",
      "_view_count": null,
      "_view_module": "@jupyter-widgets/base",
      "_view_module_version": "1.2.0",
      "_view_name": "StyleView",
      "bar_color": null,
      "description_width": "initial"
     }
    },
    "c12224c3a8904677a6c926098bdc87cf": {
     "model_module": "@jupyter-widgets/controls",
     "model_name": "ProgressStyleModel",
     "state": {
      "_model_module": "@jupyter-widgets/controls",
      "_model_module_version": "1.5.0",
      "_model_name": "ProgressStyleModel",
      "_view_count": null,
      "_view_module": "@jupyter-widgets/base",
      "_view_module_version": "1.2.0",
      "_view_name": "StyleView",
      "bar_color": null,
      "description_width": "initial"
     }
    },
    "c1be0af7c5b846919070dda460cd6971": {
     "model_module": "@jupyter-widgets/controls",
     "model_name": "FloatProgressModel",
     "state": {
      "_dom_classes": [],
      "_model_module": "@jupyter-widgets/controls",
      "_model_module_version": "1.5.0",
      "_model_name": "FloatProgressModel",
      "_view_count": null,
      "_view_module": "@jupyter-widgets/controls",
      "_view_module_version": "1.5.0",
      "_view_name": "ProgressView",
      "bar_style": "success",
      "description": "#3: 100%",
      "description_tooltip": null,
      "layout": "IPY_MODEL_b4d681317f044e5094a4e0e6fc5b6b95",
      "max": 73,
      "min": 0,
      "orientation": "horizontal",
      "style": "IPY_MODEL_fdb754b9133049a4bc4eaaafe0a5999f",
      "value": 73
     }
    },
    "c33f3dfddd0d43288c0d3b2aa7fa9b31": {
     "model_module": "@jupyter-widgets/base",
     "model_name": "LayoutModel",
     "state": {
      "_model_module": "@jupyter-widgets/base",
      "_model_module_version": "1.2.0",
      "_model_name": "LayoutModel",
      "_view_count": null,
      "_view_module": "@jupyter-widgets/base",
      "_view_module_version": "1.2.0",
      "_view_name": "LayoutView",
      "align_content": null,
      "align_items": null,
      "align_self": null,
      "border": null,
      "bottom": null,
      "display": null,
      "flex": null,
      "flex_flow": null,
      "grid_area": null,
      "grid_auto_columns": null,
      "grid_auto_flow": null,
      "grid_auto_rows": null,
      "grid_column": null,
      "grid_gap": null,
      "grid_row": null,
      "grid_template_areas": null,
      "grid_template_columns": null,
      "grid_template_rows": null,
      "height": null,
      "justify_content": null,
      "justify_items": null,
      "left": null,
      "margin": null,
      "max_height": null,
      "max_width": null,
      "min_height": null,
      "min_width": null,
      "object_fit": null,
      "object_position": null,
      "order": null,
      "overflow": null,
      "overflow_x": null,
      "overflow_y": null,
      "padding": null,
      "right": null,
      "top": null,
      "visibility": null,
      "width": null
     }
    },
    "c34683259ff84b60962333f02c91289d": {
     "model_module": "@jupyter-widgets/controls",
     "model_name": "HTMLModel",
     "state": {
      "_dom_classes": [],
      "_model_module": "@jupyter-widgets/controls",
      "_model_module_version": "1.5.0",
      "_model_name": "HTMLModel",
      "_view_count": null,
      "_view_module": "@jupyter-widgets/controls",
      "_view_module_version": "1.5.0",
      "_view_name": "HTMLView",
      "description": "",
      "description_tooltip": null,
      "layout": "IPY_MODEL_4b003c4bc58c49c998be97bab78f2401",
      "placeholder": "​",
      "style": "IPY_MODEL_0c25dd8606704afbbf523b73d7557cfb",
      "value": " 73/73 [01:25&lt;00:00,  1.17s/ba]"
     }
    },
    "c3eb6363b68f41b1b104108b1b898dd8": {
     "model_module": "@jupyter-widgets/controls",
     "model_name": "DescriptionStyleModel",
     "state": {
      "_model_module": "@jupyter-widgets/controls",
      "_model_module_version": "1.5.0",
      "_model_name": "DescriptionStyleModel",
      "_view_count": null,
      "_view_module": "@jupyter-widgets/base",
      "_view_module_version": "1.2.0",
      "_view_name": "StyleView",
      "description_width": ""
     }
    },
    "c6fb0bd27753406ea66878ac01d99c82": {
     "model_module": "@jupyter-widgets/controls",
     "model_name": "FloatProgressModel",
     "state": {
      "_dom_classes": [],
      "_model_module": "@jupyter-widgets/controls",
      "_model_module_version": "1.5.0",
      "_model_name": "FloatProgressModel",
      "_view_count": null,
      "_view_module": "@jupyter-widgets/controls",
      "_view_module_version": "1.5.0",
      "_view_name": "ProgressView",
      "bar_style": "success",
      "description": "#0: 100%",
      "description_tooltip": null,
      "layout": "IPY_MODEL_7d6fc760aa0b4e33b58966aef2e1753d",
      "max": 73,
      "min": 0,
      "orientation": "horizontal",
      "style": "IPY_MODEL_6c70a8b74a9f4bb5a7f2f19bba971756",
      "value": 73
     }
    },
    "c75d75caf4714a80b86056e4744f5563": {
     "model_module": "@jupyter-widgets/base",
     "model_name": "LayoutModel",
     "state": {
      "_model_module": "@jupyter-widgets/base",
      "_model_module_version": "1.2.0",
      "_model_name": "LayoutModel",
      "_view_count": null,
      "_view_module": "@jupyter-widgets/base",
      "_view_module_version": "1.2.0",
      "_view_name": "LayoutView",
      "align_content": null,
      "align_items": null,
      "align_self": null,
      "border": null,
      "bottom": null,
      "display": null,
      "flex": null,
      "flex_flow": null,
      "grid_area": null,
      "grid_auto_columns": null,
      "grid_auto_flow": null,
      "grid_auto_rows": null,
      "grid_column": null,
      "grid_gap": null,
      "grid_row": null,
      "grid_template_areas": null,
      "grid_template_columns": null,
      "grid_template_rows": null,
      "height": null,
      "justify_content": null,
      "justify_items": null,
      "left": null,
      "margin": null,
      "max_height": null,
      "max_width": null,
      "min_height": null,
      "min_width": null,
      "object_fit": null,
      "object_position": null,
      "order": null,
      "overflow": null,
      "overflow_x": null,
      "overflow_y": null,
      "padding": null,
      "right": null,
      "top": null,
      "visibility": null,
      "width": null
     }
    },
    "c7f123f36afe4f3893e7463cf540a009": {
     "model_module": "@jupyter-widgets/controls",
     "model_name": "HTMLModel",
     "state": {
      "_dom_classes": [],
      "_model_module": "@jupyter-widgets/controls",
      "_model_module_version": "1.5.0",
      "_model_name": "HTMLModel",
      "_view_count": null,
      "_view_module": "@jupyter-widgets/controls",
      "_view_module_version": "1.5.0",
      "_view_name": "HTMLView",
      "description": "",
      "description_tooltip": null,
      "layout": "IPY_MODEL_74e0984a9ce0458f871326465e17a95f",
      "placeholder": "​",
      "style": "IPY_MODEL_be9cc30d6ad44fb2818adc685754d8fa",
      "value": " 1/1 [00:00&lt;00:00, 13.84ba/s]"
     }
    },
    "c805f5b903cc40829748faa9861cec9c": {
     "model_module": "@jupyter-widgets/controls",
     "model_name": "HBoxModel",
     "state": {
      "_dom_classes": [],
      "_model_module": "@jupyter-widgets/controls",
      "_model_module_version": "1.5.0",
      "_model_name": "HBoxModel",
      "_view_count": null,
      "_view_module": "@jupyter-widgets/controls",
      "_view_module_version": "1.5.0",
      "_view_name": "HBoxView",
      "box_style": "",
      "children": [
       "IPY_MODEL_c1be0af7c5b846919070dda460cd6971",
       "IPY_MODEL_7a29999e5cc5498d9927cba7db572298"
      ],
      "layout": "IPY_MODEL_f13af0565400428cb2bb94d42538c991"
     }
    },
    "c84df49e3e464df5bf9007129ed14361": {
     "model_module": "@jupyter-widgets/base",
     "model_name": "LayoutModel",
     "state": {
      "_model_module": "@jupyter-widgets/base",
      "_model_module_version": "1.2.0",
      "_model_name": "LayoutModel",
      "_view_count": null,
      "_view_module": "@jupyter-widgets/base",
      "_view_module_version": "1.2.0",
      "_view_name": "LayoutView",
      "align_content": null,
      "align_items": null,
      "align_self": null,
      "border": null,
      "bottom": null,
      "display": null,
      "flex": null,
      "flex_flow": null,
      "grid_area": null,
      "grid_auto_columns": null,
      "grid_auto_flow": null,
      "grid_auto_rows": null,
      "grid_column": null,
      "grid_gap": null,
      "grid_row": null,
      "grid_template_areas": null,
      "grid_template_columns": null,
      "grid_template_rows": null,
      "height": null,
      "justify_content": null,
      "justify_items": null,
      "left": null,
      "margin": null,
      "max_height": null,
      "max_width": null,
      "min_height": null,
      "min_width": null,
      "object_fit": null,
      "object_position": null,
      "order": null,
      "overflow": null,
      "overflow_x": null,
      "overflow_y": null,
      "padding": null,
      "right": null,
      "top": null,
      "visibility": null,
      "width": null
     }
    },
    "c8fbedd2b2014e608462dd6901a5b5ad": {
     "model_module": "@jupyter-widgets/base",
     "model_name": "LayoutModel",
     "state": {
      "_model_module": "@jupyter-widgets/base",
      "_model_module_version": "1.2.0",
      "_model_name": "LayoutModel",
      "_view_count": null,
      "_view_module": "@jupyter-widgets/base",
      "_view_module_version": "1.2.0",
      "_view_name": "LayoutView",
      "align_content": null,
      "align_items": null,
      "align_self": null,
      "border": null,
      "bottom": null,
      "display": null,
      "flex": null,
      "flex_flow": null,
      "grid_area": null,
      "grid_auto_columns": null,
      "grid_auto_flow": null,
      "grid_auto_rows": null,
      "grid_column": null,
      "grid_gap": null,
      "grid_row": null,
      "grid_template_areas": null,
      "grid_template_columns": null,
      "grid_template_rows": null,
      "height": null,
      "justify_content": null,
      "justify_items": null,
      "left": null,
      "margin": null,
      "max_height": null,
      "max_width": null,
      "min_height": null,
      "min_width": null,
      "object_fit": null,
      "object_position": null,
      "order": null,
      "overflow": null,
      "overflow_x": null,
      "overflow_y": null,
      "padding": null,
      "right": null,
      "top": null,
      "visibility": null,
      "width": null
     }
    },
    "ca1a5b8687394c0194e89718d51ffc77": {
     "model_module": "@jupyter-widgets/base",
     "model_name": "LayoutModel",
     "state": {
      "_model_module": "@jupyter-widgets/base",
      "_model_module_version": "1.2.0",
      "_model_name": "LayoutModel",
      "_view_count": null,
      "_view_module": "@jupyter-widgets/base",
      "_view_module_version": "1.2.0",
      "_view_name": "LayoutView",
      "align_content": null,
      "align_items": null,
      "align_self": null,
      "border": null,
      "bottom": null,
      "display": null,
      "flex": null,
      "flex_flow": null,
      "grid_area": null,
      "grid_auto_columns": null,
      "grid_auto_flow": null,
      "grid_auto_rows": null,
      "grid_column": null,
      "grid_gap": null,
      "grid_row": null,
      "grid_template_areas": null,
      "grid_template_columns": null,
      "grid_template_rows": null,
      "height": null,
      "justify_content": null,
      "justify_items": null,
      "left": null,
      "margin": null,
      "max_height": null,
      "max_width": null,
      "min_height": null,
      "min_width": null,
      "object_fit": null,
      "object_position": null,
      "order": null,
      "overflow": null,
      "overflow_x": null,
      "overflow_y": null,
      "padding": null,
      "right": null,
      "top": null,
      "visibility": null,
      "width": null
     }
    },
    "ca9356d55db2405b9220527c1a5959e6": {
     "model_module": "@jupyter-widgets/controls",
     "model_name": "HTMLModel",
     "state": {
      "_dom_classes": [],
      "_model_module": "@jupyter-widgets/controls",
      "_model_module_version": "1.5.0",
      "_model_name": "HTMLModel",
      "_view_count": null,
      "_view_module": "@jupyter-widgets/controls",
      "_view_module_version": "1.5.0",
      "_view_name": "HTMLView",
      "description": "",
      "description_tooltip": null,
      "layout": "IPY_MODEL_f729e81dd13147d6ac3197673e365cfa",
      "placeholder": "​",
      "style": "IPY_MODEL_457c829df4064e1db571f4b028ab37dc",
      "value": " 1160/1160 [07:58&lt;00:00,  2.42ex/s]"
     }
    },
    "cb470ad2e6cc45398e538a3ecfb82c24": {
     "model_module": "@jupyter-widgets/controls",
     "model_name": "HBoxModel",
     "state": {
      "_dom_classes": [],
      "_model_module": "@jupyter-widgets/controls",
      "_model_module_version": "1.5.0",
      "_model_name": "HBoxModel",
      "_view_count": null,
      "_view_module": "@jupyter-widgets/controls",
      "_view_module_version": "1.5.0",
      "_view_name": "HBoxView",
      "box_style": "",
      "children": [
       "IPY_MODEL_df1063c734274b578165e486818808e0",
       "IPY_MODEL_3c4b1113b6f84343b267592bc37e4e48"
      ],
      "layout": "IPY_MODEL_aa7ff94b3b724c5cbd1687ee54269b74"
     }
    },
    "cb93427bcbb1417cb301b8ccaa3e09c8": {
     "model_module": "@jupyter-widgets/base",
     "model_name": "LayoutModel",
     "state": {
      "_model_module": "@jupyter-widgets/base",
      "_model_module_version": "1.2.0",
      "_model_name": "LayoutModel",
      "_view_count": null,
      "_view_module": "@jupyter-widgets/base",
      "_view_module_version": "1.2.0",
      "_view_name": "LayoutView",
      "align_content": null,
      "align_items": null,
      "align_self": null,
      "border": null,
      "bottom": null,
      "display": null,
      "flex": null,
      "flex_flow": null,
      "grid_area": null,
      "grid_auto_columns": null,
      "grid_auto_flow": null,
      "grid_auto_rows": null,
      "grid_column": null,
      "grid_gap": null,
      "grid_row": null,
      "grid_template_areas": null,
      "grid_template_columns": null,
      "grid_template_rows": null,
      "height": null,
      "justify_content": null,
      "justify_items": null,
      "left": null,
      "margin": null,
      "max_height": null,
      "max_width": null,
      "min_height": null,
      "min_width": null,
      "object_fit": null,
      "object_position": null,
      "order": null,
      "overflow": null,
      "overflow_x": null,
      "overflow_y": null,
      "padding": null,
      "right": null,
      "top": null,
      "visibility": null,
      "width": null
     }
    },
    "cc3d390698f1410b8aff73f5d9697c16": {
     "model_module": "@jupyter-widgets/controls",
     "model_name": "ProgressStyleModel",
     "state": {
      "_model_module": "@jupyter-widgets/controls",
      "_model_module_version": "1.5.0",
      "_model_name": "ProgressStyleModel",
      "_view_count": null,
      "_view_module": "@jupyter-widgets/base",
      "_view_module_version": "1.2.0",
      "_view_name": "StyleView",
      "bar_color": null,
      "description_width": "initial"
     }
    },
    "ccd45af89c8e48b8b29d16f496426365": {
     "model_module": "@jupyter-widgets/base",
     "model_name": "LayoutModel",
     "state": {
      "_model_module": "@jupyter-widgets/base",
      "_model_module_version": "1.2.0",
      "_model_name": "LayoutModel",
      "_view_count": null,
      "_view_module": "@jupyter-widgets/base",
      "_view_module_version": "1.2.0",
      "_view_name": "LayoutView",
      "align_content": null,
      "align_items": null,
      "align_self": null,
      "border": null,
      "bottom": null,
      "display": null,
      "flex": null,
      "flex_flow": null,
      "grid_area": null,
      "grid_auto_columns": null,
      "grid_auto_flow": null,
      "grid_auto_rows": null,
      "grid_column": null,
      "grid_gap": null,
      "grid_row": null,
      "grid_template_areas": null,
      "grid_template_columns": null,
      "grid_template_rows": null,
      "height": null,
      "justify_content": null,
      "justify_items": null,
      "left": null,
      "margin": null,
      "max_height": null,
      "max_width": null,
      "min_height": null,
      "min_width": null,
      "object_fit": null,
      "object_position": null,
      "order": null,
      "overflow": null,
      "overflow_x": null,
      "overflow_y": null,
      "padding": null,
      "right": null,
      "top": null,
      "visibility": null,
      "width": null
     }
    },
    "ce643c3697b74b35881478a972fa7729": {
     "model_module": "@jupyter-widgets/controls",
     "model_name": "HBoxModel",
     "state": {
      "_dom_classes": [],
      "_model_module": "@jupyter-widgets/controls",
      "_model_module_version": "1.5.0",
      "_model_name": "HBoxModel",
      "_view_count": null,
      "_view_module": "@jupyter-widgets/controls",
      "_view_module_version": "1.5.0",
      "_view_name": "HBoxView",
      "box_style": "",
      "children": [
       "IPY_MODEL_e5617c8c96304064967662b80ca8af50",
       "IPY_MODEL_d460a596246c432a94ac33d1d864231e"
      ],
      "layout": "IPY_MODEL_89d436408c7948048306ba8f1fb940a0"
     }
    },
    "d0a71aa8a6c44885bc13f1746dc7a2bd": {
     "model_module": "@jupyter-widgets/controls",
     "model_name": "DescriptionStyleModel",
     "state": {
      "_model_module": "@jupyter-widgets/controls",
      "_model_module_version": "1.5.0",
      "_model_name": "DescriptionStyleModel",
      "_view_count": null,
      "_view_module": "@jupyter-widgets/base",
      "_view_module_version": "1.2.0",
      "_view_name": "StyleView",
      "description_width": ""
     }
    },
    "d1158cbe2f14470099a1100e5a826c01": {
     "model_module": "@jupyter-widgets/controls",
     "model_name": "ProgressStyleModel",
     "state": {
      "_model_module": "@jupyter-widgets/controls",
      "_model_module_version": "1.5.0",
      "_model_name": "ProgressStyleModel",
      "_view_count": null,
      "_view_module": "@jupyter-widgets/base",
      "_view_module_version": "1.2.0",
      "_view_name": "StyleView",
      "bar_color": null,
      "description_width": "initial"
     }
    },
    "d2d23e024de34af08b9e60798eada13c": {
     "model_module": "@jupyter-widgets/base",
     "model_name": "LayoutModel",
     "state": {
      "_model_module": "@jupyter-widgets/base",
      "_model_module_version": "1.2.0",
      "_model_name": "LayoutModel",
      "_view_count": null,
      "_view_module": "@jupyter-widgets/base",
      "_view_module_version": "1.2.0",
      "_view_name": "LayoutView",
      "align_content": null,
      "align_items": null,
      "align_self": null,
      "border": null,
      "bottom": null,
      "display": null,
      "flex": null,
      "flex_flow": null,
      "grid_area": null,
      "grid_auto_columns": null,
      "grid_auto_flow": null,
      "grid_auto_rows": null,
      "grid_column": null,
      "grid_gap": null,
      "grid_row": null,
      "grid_template_areas": null,
      "grid_template_columns": null,
      "grid_template_rows": null,
      "height": null,
      "justify_content": null,
      "justify_items": null,
      "left": null,
      "margin": null,
      "max_height": null,
      "max_width": null,
      "min_height": null,
      "min_width": null,
      "object_fit": null,
      "object_position": null,
      "order": null,
      "overflow": null,
      "overflow_x": null,
      "overflow_y": null,
      "padding": null,
      "right": null,
      "top": null,
      "visibility": null,
      "width": null
     }
    },
    "d3154d6331e543d290422adee8a27c63": {
     "model_module": "@jupyter-widgets/controls",
     "model_name": "HBoxModel",
     "state": {
      "_dom_classes": [],
      "_model_module": "@jupyter-widgets/controls",
      "_model_module_version": "1.5.0",
      "_model_name": "HBoxModel",
      "_view_count": null,
      "_view_module": "@jupyter-widgets/controls",
      "_view_module_version": "1.5.0",
      "_view_name": "HBoxView",
      "box_style": "",
      "children": [
       "IPY_MODEL_680f19fd255544bc8dd6700422fdad68",
       "IPY_MODEL_97f07bcc8b00450997d2cb8100f5d8ec"
      ],
      "layout": "IPY_MODEL_e68a9a9bbb1f45b281182f9ae4efc440"
     }
    },
    "d43c5124a49f446fb6e8253763c359f8": {
     "model_module": "@jupyter-widgets/controls",
     "model_name": "DescriptionStyleModel",
     "state": {
      "_model_module": "@jupyter-widgets/controls",
      "_model_module_version": "1.5.0",
      "_model_name": "DescriptionStyleModel",
      "_view_count": null,
      "_view_module": "@jupyter-widgets/base",
      "_view_module_version": "1.2.0",
      "_view_name": "StyleView",
      "description_width": ""
     }
    },
    "d460a596246c432a94ac33d1d864231e": {
     "model_module": "@jupyter-widgets/controls",
     "model_name": "HTMLModel",
     "state": {
      "_dom_classes": [],
      "_model_module": "@jupyter-widgets/controls",
      "_model_module_version": "1.5.0",
      "_model_name": "HTMLModel",
      "_view_count": null,
      "_view_module": "@jupyter-widgets/controls",
      "_view_module_version": "1.5.0",
      "_view_name": "HTMLView",
      "description": "",
      "description_tooltip": null,
      "layout": "IPY_MODEL_c33f3dfddd0d43288c0d3b2aa7fa9b31",
      "placeholder": "​",
      "style": "IPY_MODEL_c3eb6363b68f41b1b104108b1b898dd8",
      "value": " 3.90k/? [00:22&lt;00:00, 175B/s]"
     }
    },
    "d4fb598d1e8a49f5920b91307c044d18": {
     "model_module": "@jupyter-widgets/base",
     "model_name": "LayoutModel",
     "state": {
      "_model_module": "@jupyter-widgets/base",
      "_model_module_version": "1.2.0",
      "_model_name": "LayoutModel",
      "_view_count": null,
      "_view_module": "@jupyter-widgets/base",
      "_view_module_version": "1.2.0",
      "_view_name": "LayoutView",
      "align_content": null,
      "align_items": null,
      "align_self": null,
      "border": null,
      "bottom": null,
      "display": null,
      "flex": null,
      "flex_flow": null,
      "grid_area": null,
      "grid_auto_columns": null,
      "grid_auto_flow": null,
      "grid_auto_rows": null,
      "grid_column": null,
      "grid_gap": null,
      "grid_row": null,
      "grid_template_areas": null,
      "grid_template_columns": null,
      "grid_template_rows": null,
      "height": null,
      "justify_content": null,
      "justify_items": null,
      "left": null,
      "margin": null,
      "max_height": null,
      "max_width": null,
      "min_height": null,
      "min_width": null,
      "object_fit": null,
      "object_position": null,
      "order": null,
      "overflow": null,
      "overflow_x": null,
      "overflow_y": null,
      "padding": null,
      "right": null,
      "top": null,
      "visibility": null,
      "width": null
     }
    },
    "d5b36026883f49ed915c705a89971c28": {
     "model_module": "@jupyter-widgets/controls",
     "model_name": "HTMLModel",
     "state": {
      "_dom_classes": [],
      "_model_module": "@jupyter-widgets/controls",
      "_model_module_version": "1.5.0",
      "_model_name": "HTMLModel",
      "_view_count": null,
      "_view_module": "@jupyter-widgets/controls",
      "_view_module_version": "1.5.0",
      "_view_name": "HTMLView",
      "description": "",
      "description_tooltip": null,
      "layout": "IPY_MODEL_5c76272aeb904a3fad564eb88b4525e7",
      "placeholder": "​",
      "style": "IPY_MODEL_d0a71aa8a6c44885bc13f1746dc7a2bd",
      "value": " 4592/0 [00:00&lt;00:00, 15202.08 examples/s]"
     }
    },
    "d5fbf3ec6bdd4856872a13ccdc6b833e": {
     "model_module": "@jupyter-widgets/controls",
     "model_name": "HBoxModel",
     "state": {
      "_dom_classes": [],
      "_model_module": "@jupyter-widgets/controls",
      "_model_module_version": "1.5.0",
      "_model_name": "HBoxModel",
      "_view_count": null,
      "_view_module": "@jupyter-widgets/controls",
      "_view_module_version": "1.5.0",
      "_view_name": "HBoxView",
      "box_style": "",
      "children": [
       "IPY_MODEL_da2fa149511244e6942e6b24b10dfc66",
       "IPY_MODEL_47be32815c9c484cbee9968e785aeb74"
      ],
      "layout": "IPY_MODEL_4e82be6a08854acfa9998f919d2aa0b1"
     }
    },
    "d6a28d75badc4604a151cd299d743289": {
     "model_module": "@jupyter-widgets/controls",
     "model_name": "FloatProgressModel",
     "state": {
      "_dom_classes": [],
      "_model_module": "@jupyter-widgets/controls",
      "_model_module_version": "1.5.0",
      "_model_name": "FloatProgressModel",
      "_view_count": null,
      "_view_module": "@jupyter-widgets/controls",
      "_view_module_version": "1.5.0",
      "_view_name": "ProgressView",
      "bar_style": "success",
      "description": "#1: 100%",
      "description_tooltip": null,
      "layout": "IPY_MODEL_1915300fc674486292edd8d79d62bece",
      "max": 174,
      "min": 0,
      "orientation": "horizontal",
      "style": "IPY_MODEL_1bdfd3fe66144aacbf086b6ad84bda8a",
      "value": 174
     }
    },
    "d778ef1df0b24c03ab0a02e89ccd4132": {
     "model_module": "@jupyter-widgets/controls",
     "model_name": "HBoxModel",
     "state": {
      "_dom_classes": [],
      "_model_module": "@jupyter-widgets/controls",
      "_model_module_version": "1.5.0",
      "_model_name": "HBoxModel",
      "_view_count": null,
      "_view_module": "@jupyter-widgets/controls",
      "_view_module_version": "1.5.0",
      "_view_name": "HBoxView",
      "box_style": "",
      "children": [
       "IPY_MODEL_0510478f37774cd2a96ae904fe855428",
       "IPY_MODEL_c34683259ff84b60962333f02c91289d"
      ],
      "layout": "IPY_MODEL_dcb7f1c5ba7a477ea7674edf6695cdbb"
     }
    },
    "d7eecbbbff8345ec93574d409a12b2b9": {
     "model_module": "@jupyter-widgets/controls",
     "model_name": "ProgressStyleModel",
     "state": {
      "_model_module": "@jupyter-widgets/controls",
      "_model_module_version": "1.5.0",
      "_model_name": "ProgressStyleModel",
      "_view_count": null,
      "_view_module": "@jupyter-widgets/base",
      "_view_module_version": "1.2.0",
      "_view_name": "StyleView",
      "bar_color": null,
      "description_width": "initial"
     }
    },
    "d80270a1885045b9a1687063fd8d18b9": {
     "model_module": "@jupyter-widgets/controls",
     "model_name": "HTMLModel",
     "state": {
      "_dom_classes": [],
      "_model_module": "@jupyter-widgets/controls",
      "_model_module_version": "1.5.0",
      "_model_name": "HTMLModel",
      "_view_count": null,
      "_view_module": "@jupyter-widgets/controls",
      "_view_module_version": "1.5.0",
      "_view_name": "HTMLView",
      "description": "",
      "description_tooltip": null,
      "layout": "IPY_MODEL_a42057ef93d94f5f9be0c1789da95a48",
      "placeholder": "​",
      "style": "IPY_MODEL_acecda5aa48145d2b26c80361683aabf",
      "value": " 6514/0 [00:03&lt;00:00,  1.12s/ examples]"
     }
    },
    "d813a459dae4496db51f37eb96fce355": {
     "model_module": "@jupyter-widgets/base",
     "model_name": "LayoutModel",
     "state": {
      "_model_module": "@jupyter-widgets/base",
      "_model_module_version": "1.2.0",
      "_model_name": "LayoutModel",
      "_view_count": null,
      "_view_module": "@jupyter-widgets/base",
      "_view_module_version": "1.2.0",
      "_view_name": "LayoutView",
      "align_content": null,
      "align_items": null,
      "align_self": null,
      "border": null,
      "bottom": null,
      "display": null,
      "flex": null,
      "flex_flow": null,
      "grid_area": null,
      "grid_auto_columns": null,
      "grid_auto_flow": null,
      "grid_auto_rows": null,
      "grid_column": null,
      "grid_gap": null,
      "grid_row": null,
      "grid_template_areas": null,
      "grid_template_columns": null,
      "grid_template_rows": null,
      "height": null,
      "justify_content": null,
      "justify_items": null,
      "left": null,
      "margin": null,
      "max_height": null,
      "max_width": null,
      "min_height": null,
      "min_width": null,
      "object_fit": null,
      "object_position": null,
      "order": null,
      "overflow": null,
      "overflow_x": null,
      "overflow_y": null,
      "padding": null,
      "right": null,
      "top": null,
      "visibility": null,
      "width": null
     }
    },
    "da2fa149511244e6942e6b24b10dfc66": {
     "model_module": "@jupyter-widgets/controls",
     "model_name": "FloatProgressModel",
     "state": {
      "_dom_classes": [],
      "_model_module": "@jupyter-widgets/controls",
      "_model_module_version": "1.5.0",
      "_model_name": "FloatProgressModel",
      "_view_count": null,
      "_view_module": "@jupyter-widgets/controls",
      "_view_module_version": "1.5.0",
      "_view_name": "ProgressView",
      "bar_style": "success",
      "description": "100%",
      "description_tooltip": null,
      "layout": "IPY_MODEL_313a0b51e7bc4e42a21b62f52170a34f",
      "max": 1,
      "min": 0,
      "orientation": "horizontal",
      "style": "IPY_MODEL_0bb448fe5dd047269553e1b756f9e03b",
      "value": 1
     }
    },
    "dca3293660e54b95a688b97380a3a30f": {
     "model_module": "@jupyter-widgets/controls",
     "model_name": "DescriptionStyleModel",
     "state": {
      "_model_module": "@jupyter-widgets/controls",
      "_model_module_version": "1.5.0",
      "_model_name": "DescriptionStyleModel",
      "_view_count": null,
      "_view_module": "@jupyter-widgets/base",
      "_view_module_version": "1.2.0",
      "_view_name": "StyleView",
      "description_width": ""
     }
    },
    "dcb7f1c5ba7a477ea7674edf6695cdbb": {
     "model_module": "@jupyter-widgets/base",
     "model_name": "LayoutModel",
     "state": {
      "_model_module": "@jupyter-widgets/base",
      "_model_module_version": "1.2.0",
      "_model_name": "LayoutModel",
      "_view_count": null,
      "_view_module": "@jupyter-widgets/base",
      "_view_module_version": "1.2.0",
      "_view_name": "LayoutView",
      "align_content": null,
      "align_items": null,
      "align_self": null,
      "border": null,
      "bottom": null,
      "display": null,
      "flex": null,
      "flex_flow": null,
      "grid_area": null,
      "grid_auto_columns": null,
      "grid_auto_flow": null,
      "grid_auto_rows": null,
      "grid_column": null,
      "grid_gap": null,
      "grid_row": null,
      "grid_template_areas": null,
      "grid_template_columns": null,
      "grid_template_rows": null,
      "height": null,
      "justify_content": null,
      "justify_items": null,
      "left": null,
      "margin": null,
      "max_height": null,
      "max_width": null,
      "min_height": null,
      "min_width": null,
      "object_fit": null,
      "object_position": null,
      "order": null,
      "overflow": null,
      "overflow_x": null,
      "overflow_y": null,
      "padding": null,
      "right": null,
      "top": null,
      "visibility": null,
      "width": null
     }
    },
    "df1063c734274b578165e486818808e0": {
     "model_module": "@jupyter-widgets/controls",
     "model_name": "FloatProgressModel",
     "state": {
      "_dom_classes": [],
      "_model_module": "@jupyter-widgets/controls",
      "_model_module_version": "1.5.0",
      "_model_name": "FloatProgressModel",
      "_view_count": null,
      "_view_module": "@jupyter-widgets/controls",
      "_view_module_version": "1.5.0",
      "_view_name": "ProgressView",
      "bar_style": "success",
      "description": "#0: 100%",
      "description_tooltip": null,
      "layout": "IPY_MODEL_e3d1f28a783442aab3193dc8c80a57fa",
      "max": 2777,
      "min": 0,
      "orientation": "horizontal",
      "style": "IPY_MODEL_d7eecbbbff8345ec93574d409a12b2b9",
      "value": 2777
     }
    },
    "df8986468d8942eb8ad31ddab68b44eb": {
     "model_module": "@jupyter-widgets/controls",
     "model_name": "HBoxModel",
     "state": {
      "_dom_classes": [],
      "_model_module": "@jupyter-widgets/controls",
      "_model_module_version": "1.5.0",
      "_model_name": "HBoxModel",
      "_view_count": null,
      "_view_module": "@jupyter-widgets/controls",
      "_view_module_version": "1.5.0",
      "_view_name": "HBoxView",
      "box_style": "",
      "children": [
       "IPY_MODEL_c6fb0bd27753406ea66878ac01d99c82",
       "IPY_MODEL_7574a208545346d785d99cfeb3dccfa9"
      ],
      "layout": "IPY_MODEL_068e3e8c04184b5695185364ba2d9469"
     }
    },
    "e27be4010a6d4c77963d12bd6a801ca5": {
     "model_module": "@jupyter-widgets/controls",
     "model_name": "HBoxModel",
     "state": {
      "_dom_classes": [],
      "_model_module": "@jupyter-widgets/controls",
      "_model_module_version": "1.5.0",
      "_model_name": "HBoxModel",
      "_view_count": null,
      "_view_module": "@jupyter-widgets/controls",
      "_view_module_version": "1.5.0",
      "_view_name": "HBoxView",
      "box_style": "",
      "children": [
       "IPY_MODEL_b4cf60074406436a8d4e3b8c6ac02bc9",
       "IPY_MODEL_b74e82110d2f4658b5fa6e620df4c096"
      ],
      "layout": "IPY_MODEL_9747538cea084eafa4f56f8d137c86a7"
     }
    },
    "e311116e5b9b4453b67250bf5af98482": {
     "model_module": "@jupyter-widgets/controls",
     "model_name": "HTMLModel",
     "state": {
      "_dom_classes": [],
      "_model_module": "@jupyter-widgets/controls",
      "_model_module_version": "1.5.0",
      "_model_name": "HTMLModel",
      "_view_count": null,
      "_view_module": "@jupyter-widgets/controls",
      "_view_module_version": "1.5.0",
      "_view_name": "HTMLView",
      "description": "",
      "description_tooltip": null,
      "layout": "IPY_MODEL_707be538cdd646cab0d2f6f2f28cfb4b",
      "placeholder": "​",
      "style": "IPY_MODEL_4124a88fdb6e43c1adfe15e8bfff34a7",
      "value": " 174/174 [02:48&lt;00:00,  1.03ba/s]"
     }
    },
    "e3d1f28a783442aab3193dc8c80a57fa": {
     "model_module": "@jupyter-widgets/base",
     "model_name": "LayoutModel",
     "state": {
      "_model_module": "@jupyter-widgets/base",
      "_model_module_version": "1.2.0",
      "_model_name": "LayoutModel",
      "_view_count": null,
      "_view_module": "@jupyter-widgets/base",
      "_view_module_version": "1.2.0",
      "_view_name": "LayoutView",
      "align_content": null,
      "align_items": null,
      "align_self": null,
      "border": null,
      "bottom": null,
      "display": null,
      "flex": null,
      "flex_flow": null,
      "grid_area": null,
      "grid_auto_columns": null,
      "grid_auto_flow": null,
      "grid_auto_rows": null,
      "grid_column": null,
      "grid_gap": null,
      "grid_row": null,
      "grid_template_areas": null,
      "grid_template_columns": null,
      "grid_template_rows": null,
      "height": null,
      "justify_content": null,
      "justify_items": null,
      "left": null,
      "margin": null,
      "max_height": null,
      "max_width": null,
      "min_height": null,
      "min_width": null,
      "object_fit": null,
      "object_position": null,
      "order": null,
      "overflow": null,
      "overflow_x": null,
      "overflow_y": null,
      "padding": null,
      "right": null,
      "top": null,
      "visibility": null,
      "width": null
     }
    },
    "e3e5c30afd1b4c16984d3fb3a040f635": {
     "model_module": "@jupyter-widgets/base",
     "model_name": "LayoutModel",
     "state": {
      "_model_module": "@jupyter-widgets/base",
      "_model_module_version": "1.2.0",
      "_model_name": "LayoutModel",
      "_view_count": null,
      "_view_module": "@jupyter-widgets/base",
      "_view_module_version": "1.2.0",
      "_view_name": "LayoutView",
      "align_content": null,
      "align_items": null,
      "align_self": null,
      "border": null,
      "bottom": null,
      "display": null,
      "flex": null,
      "flex_flow": null,
      "grid_area": null,
      "grid_auto_columns": null,
      "grid_auto_flow": null,
      "grid_auto_rows": null,
      "grid_column": null,
      "grid_gap": null,
      "grid_row": null,
      "grid_template_areas": null,
      "grid_template_columns": null,
      "grid_template_rows": null,
      "height": null,
      "justify_content": null,
      "justify_items": null,
      "left": null,
      "margin": null,
      "max_height": null,
      "max_width": null,
      "min_height": null,
      "min_width": null,
      "object_fit": null,
      "object_position": null,
      "order": null,
      "overflow": null,
      "overflow_x": null,
      "overflow_y": null,
      "padding": null,
      "right": null,
      "top": null,
      "visibility": null,
      "width": null
     }
    },
    "e5617c8c96304064967662b80ca8af50": {
     "model_module": "@jupyter-widgets/controls",
     "model_name": "FloatProgressModel",
     "state": {
      "_dom_classes": [],
      "_model_module": "@jupyter-widgets/controls",
      "_model_module_version": "1.5.0",
      "_model_name": "FloatProgressModel",
      "_view_count": null,
      "_view_module": "@jupyter-widgets/controls",
      "_view_module_version": "1.5.0",
      "_view_name": "ProgressView",
      "bar_style": "success",
      "description": "Downloading: ",
      "description_tooltip": null,
      "layout": "IPY_MODEL_55bbbf54c1df45b49f1bb54302599fa2",
      "max": 1764,
      "min": 0,
      "orientation": "horizontal",
      "style": "IPY_MODEL_1282ce1aac6d44d382e914780c36b26b",
      "value": 1764
     }
    },
    "e5a8b82b178944b1a6da0b5824de4ac0": {
     "model_module": "@jupyter-widgets/base",
     "model_name": "LayoutModel",
     "state": {
      "_model_module": "@jupyter-widgets/base",
      "_model_module_version": "1.2.0",
      "_model_name": "LayoutModel",
      "_view_count": null,
      "_view_module": "@jupyter-widgets/base",
      "_view_module_version": "1.2.0",
      "_view_name": "LayoutView",
      "align_content": null,
      "align_items": null,
      "align_self": null,
      "border": null,
      "bottom": null,
      "display": null,
      "flex": null,
      "flex_flow": null,
      "grid_area": null,
      "grid_auto_columns": null,
      "grid_auto_flow": null,
      "grid_auto_rows": null,
      "grid_column": null,
      "grid_gap": null,
      "grid_row": null,
      "grid_template_areas": null,
      "grid_template_columns": null,
      "grid_template_rows": null,
      "height": null,
      "justify_content": null,
      "justify_items": null,
      "left": null,
      "margin": null,
      "max_height": null,
      "max_width": null,
      "min_height": null,
      "min_width": null,
      "object_fit": null,
      "object_position": null,
      "order": null,
      "overflow": null,
      "overflow_x": null,
      "overflow_y": null,
      "padding": null,
      "right": null,
      "top": null,
      "visibility": null,
      "width": null
     }
    },
    "e5b7773cebd2479f9fd96d5c7ff1ccaf": {
     "model_module": "@jupyter-widgets/base",
     "model_name": "LayoutModel",
     "state": {
      "_model_module": "@jupyter-widgets/base",
      "_model_module_version": "1.2.0",
      "_model_name": "LayoutModel",
      "_view_count": null,
      "_view_module": "@jupyter-widgets/base",
      "_view_module_version": "1.2.0",
      "_view_name": "LayoutView",
      "align_content": null,
      "align_items": null,
      "align_self": null,
      "border": null,
      "bottom": null,
      "display": null,
      "flex": null,
      "flex_flow": null,
      "grid_area": null,
      "grid_auto_columns": null,
      "grid_auto_flow": null,
      "grid_auto_rows": null,
      "grid_column": null,
      "grid_gap": null,
      "grid_row": null,
      "grid_template_areas": null,
      "grid_template_columns": null,
      "grid_template_rows": null,
      "height": null,
      "justify_content": null,
      "justify_items": null,
      "left": null,
      "margin": null,
      "max_height": null,
      "max_width": null,
      "min_height": null,
      "min_width": null,
      "object_fit": null,
      "object_position": null,
      "order": null,
      "overflow": null,
      "overflow_x": null,
      "overflow_y": null,
      "padding": null,
      "right": null,
      "top": null,
      "visibility": null,
      "width": null
     }
    },
    "e638ee8b272640cdb7640aa73128fcdc": {
     "model_module": "@jupyter-widgets/controls",
     "model_name": "ProgressStyleModel",
     "state": {
      "_model_module": "@jupyter-widgets/controls",
      "_model_module_version": "1.5.0",
      "_model_name": "ProgressStyleModel",
      "_view_count": null,
      "_view_module": "@jupyter-widgets/base",
      "_view_module_version": "1.2.0",
      "_view_name": "StyleView",
      "bar_color": null,
      "description_width": "initial"
     }
    },
    "e6536aef5aee4e2096598f2b83dce0d2": {
     "model_module": "@jupyter-widgets/base",
     "model_name": "LayoutModel",
     "state": {
      "_model_module": "@jupyter-widgets/base",
      "_model_module_version": "1.2.0",
      "_model_name": "LayoutModel",
      "_view_count": null,
      "_view_module": "@jupyter-widgets/base",
      "_view_module_version": "1.2.0",
      "_view_name": "LayoutView",
      "align_content": null,
      "align_items": null,
      "align_self": null,
      "border": null,
      "bottom": null,
      "display": null,
      "flex": null,
      "flex_flow": null,
      "grid_area": null,
      "grid_auto_columns": null,
      "grid_auto_flow": null,
      "grid_auto_rows": null,
      "grid_column": null,
      "grid_gap": null,
      "grid_row": null,
      "grid_template_areas": null,
      "grid_template_columns": null,
      "grid_template_rows": null,
      "height": null,
      "justify_content": null,
      "justify_items": null,
      "left": null,
      "margin": null,
      "max_height": null,
      "max_width": null,
      "min_height": null,
      "min_width": null,
      "object_fit": null,
      "object_position": null,
      "order": null,
      "overflow": null,
      "overflow_x": null,
      "overflow_y": null,
      "padding": null,
      "right": null,
      "top": null,
      "visibility": null,
      "width": null
     }
    },
    "e68a9a9bbb1f45b281182f9ae4efc440": {
     "model_module": "@jupyter-widgets/base",
     "model_name": "LayoutModel",
     "state": {
      "_model_module": "@jupyter-widgets/base",
      "_model_module_version": "1.2.0",
      "_model_name": "LayoutModel",
      "_view_count": null,
      "_view_module": "@jupyter-widgets/base",
      "_view_module_version": "1.2.0",
      "_view_name": "LayoutView",
      "align_content": null,
      "align_items": null,
      "align_self": null,
      "border": null,
      "bottom": null,
      "display": null,
      "flex": null,
      "flex_flow": null,
      "grid_area": null,
      "grid_auto_columns": null,
      "grid_auto_flow": null,
      "grid_auto_rows": null,
      "grid_column": null,
      "grid_gap": null,
      "grid_row": null,
      "grid_template_areas": null,
      "grid_template_columns": null,
      "grid_template_rows": null,
      "height": null,
      "justify_content": null,
      "justify_items": null,
      "left": null,
      "margin": null,
      "max_height": null,
      "max_width": null,
      "min_height": null,
      "min_width": null,
      "object_fit": null,
      "object_position": null,
      "order": null,
      "overflow": null,
      "overflow_x": null,
      "overflow_y": null,
      "padding": null,
      "right": null,
      "top": null,
      "visibility": null,
      "width": null
     }
    },
    "e7a37383a4cf4492baa8ef0ea17e6c97": {
     "model_module": "@jupyter-widgets/base",
     "model_name": "LayoutModel",
     "state": {
      "_model_module": "@jupyter-widgets/base",
      "_model_module_version": "1.2.0",
      "_model_name": "LayoutModel",
      "_view_count": null,
      "_view_module": "@jupyter-widgets/base",
      "_view_module_version": "1.2.0",
      "_view_name": "LayoutView",
      "align_content": null,
      "align_items": null,
      "align_self": null,
      "border": null,
      "bottom": null,
      "display": null,
      "flex": null,
      "flex_flow": null,
      "grid_area": null,
      "grid_auto_columns": null,
      "grid_auto_flow": null,
      "grid_auto_rows": null,
      "grid_column": null,
      "grid_gap": null,
      "grid_row": null,
      "grid_template_areas": null,
      "grid_template_columns": null,
      "grid_template_rows": null,
      "height": null,
      "justify_content": null,
      "justify_items": null,
      "left": null,
      "margin": null,
      "max_height": null,
      "max_width": null,
      "min_height": null,
      "min_width": null,
      "object_fit": null,
      "object_position": null,
      "order": null,
      "overflow": null,
      "overflow_x": null,
      "overflow_y": null,
      "padding": null,
      "right": null,
      "top": null,
      "visibility": null,
      "width": null
     }
    },
    "e7a9b2d247d14e47afa50529fda5754f": {
     "model_module": "@jupyter-widgets/controls",
     "model_name": "ProgressStyleModel",
     "state": {
      "_model_module": "@jupyter-widgets/controls",
      "_model_module_version": "1.5.0",
      "_model_name": "ProgressStyleModel",
      "_view_count": null,
      "_view_module": "@jupyter-widgets/base",
      "_view_module_version": "1.2.0",
      "_view_name": "StyleView",
      "bar_color": null,
      "description_width": "initial"
     }
    },
    "e7b7f9e12da240068002f45996439292": {
     "model_module": "@jupyter-widgets/controls",
     "model_name": "HTMLModel",
     "state": {
      "_dom_classes": [],
      "_model_module": "@jupyter-widgets/controls",
      "_model_module_version": "1.5.0",
      "_model_name": "HTMLModel",
      "_view_count": null,
      "_view_module": "@jupyter-widgets/controls",
      "_view_module_version": "1.5.0",
      "_view_name": "HTMLView",
      "description": "",
      "description_tooltip": null,
      "layout": "IPY_MODEL_74be14f40e2144439d37a68e22928fc5",
      "placeholder": "​",
      "style": "IPY_MODEL_9c4e1f60fb5443dab4dc051ca8d5d29b",
      "value": " 1740/0 [00:00&lt;00:00, 13472.84 examples/s]"
     }
    },
    "e8150f334a7b46fc8dfd2f86fb4bcc5f": {
     "model_module": "@jupyter-widgets/base",
     "model_name": "LayoutModel",
     "state": {
      "_model_module": "@jupyter-widgets/base",
      "_model_module_version": "1.2.0",
      "_model_name": "LayoutModel",
      "_view_count": null,
      "_view_module": "@jupyter-widgets/base",
      "_view_module_version": "1.2.0",
      "_view_name": "LayoutView",
      "align_content": null,
      "align_items": null,
      "align_self": null,
      "border": null,
      "bottom": null,
      "display": null,
      "flex": null,
      "flex_flow": null,
      "grid_area": null,
      "grid_auto_columns": null,
      "grid_auto_flow": null,
      "grid_auto_rows": null,
      "grid_column": null,
      "grid_gap": null,
      "grid_row": null,
      "grid_template_areas": null,
      "grid_template_columns": null,
      "grid_template_rows": null,
      "height": null,
      "justify_content": null,
      "justify_items": null,
      "left": null,
      "margin": null,
      "max_height": null,
      "max_width": null,
      "min_height": null,
      "min_width": null,
      "object_fit": null,
      "object_position": null,
      "order": null,
      "overflow": null,
      "overflow_x": null,
      "overflow_y": null,
      "padding": null,
      "right": null,
      "top": null,
      "visibility": null,
      "width": null
     }
    },
    "e8d50e4b7b8b436cb80c7063464d74f2": {
     "model_module": "@jupyter-widgets/controls",
     "model_name": "HBoxModel",
     "state": {
      "_dom_classes": [],
      "_model_module": "@jupyter-widgets/controls",
      "_model_module_version": "1.5.0",
      "_model_name": "HBoxModel",
      "_view_count": null,
      "_view_module": "@jupyter-widgets/controls",
      "_view_module_version": "1.5.0",
      "_view_name": "HBoxView",
      "box_style": "",
      "children": [
       "IPY_MODEL_00e32f03c22946eca1c015d10b835aa9",
       "IPY_MODEL_7e4aa3ec93ab4723a5ce4d9146f9eb8a"
      ],
      "layout": "IPY_MODEL_5c6f6982dec74efd9b3b5581938bfe55"
     }
    },
    "eab6bdae04f24c03b4d65d7c6e5d0f3b": {
     "model_module": "@jupyter-widgets/controls",
     "model_name": "FloatProgressModel",
     "state": {
      "_dom_classes": [],
      "_model_module": "@jupyter-widgets/controls",
      "_model_module_version": "1.5.0",
      "_model_name": "FloatProgressModel",
      "_view_count": null,
      "_view_module": "@jupyter-widgets/controls",
      "_view_module_version": "1.5.0",
      "_view_name": "ProgressView",
      "bar_style": "success",
      "description": "#7: 100%",
      "description_tooltip": null,
      "layout": "IPY_MODEL_5ec9f70847154fa19285d5b0107e527e",
      "max": 73,
      "min": 0,
      "orientation": "horizontal",
      "style": "IPY_MODEL_3dc451ae2a7a4c2383742e8395fdc716",
      "value": 73
     }
    },
    "ead773298e634424a4fe645c68c91108": {
     "model_module": "@jupyter-widgets/base",
     "model_name": "LayoutModel",
     "state": {
      "_model_module": "@jupyter-widgets/base",
      "_model_module_version": "1.2.0",
      "_model_name": "LayoutModel",
      "_view_count": null,
      "_view_module": "@jupyter-widgets/base",
      "_view_module_version": "1.2.0",
      "_view_name": "LayoutView",
      "align_content": null,
      "align_items": null,
      "align_self": null,
      "border": null,
      "bottom": null,
      "display": null,
      "flex": null,
      "flex_flow": null,
      "grid_area": null,
      "grid_auto_columns": null,
      "grid_auto_flow": null,
      "grid_auto_rows": null,
      "grid_column": null,
      "grid_gap": null,
      "grid_row": null,
      "grid_template_areas": null,
      "grid_template_columns": null,
      "grid_template_rows": null,
      "height": null,
      "justify_content": null,
      "justify_items": null,
      "left": null,
      "margin": null,
      "max_height": null,
      "max_width": null,
      "min_height": null,
      "min_width": null,
      "object_fit": null,
      "object_position": null,
      "order": null,
      "overflow": null,
      "overflow_x": null,
      "overflow_y": null,
      "padding": null,
      "right": null,
      "top": null,
      "visibility": null,
      "width": null
     }
    },
    "ebf46ad0a61b44c79ac13db5252fea6a": {
     "model_module": "@jupyter-widgets/controls",
     "model_name": "HBoxModel",
     "state": {
      "_dom_classes": [],
      "_model_module": "@jupyter-widgets/controls",
      "_model_module_version": "1.5.0",
      "_model_name": "HBoxModel",
      "_view_count": null,
      "_view_module": "@jupyter-widgets/controls",
      "_view_module_version": "1.5.0",
      "_view_name": "HBoxView",
      "box_style": "",
      "children": [
       "IPY_MODEL_f68b14fc29c840e5b75eb11ccc212661",
       "IPY_MODEL_57ede039e1804781baff6e1c821fb2ef"
      ],
      "layout": "IPY_MODEL_5b165a31180c4c24a636367c4b8a2ee4"
     }
    },
    "eda213c8db4843b395b1271d43255de8": {
     "model_module": "@jupyter-widgets/controls",
     "model_name": "HBoxModel",
     "state": {
      "_dom_classes": [],
      "_model_module": "@jupyter-widgets/controls",
      "_model_module_version": "1.5.0",
      "_model_name": "HBoxModel",
      "_view_count": null,
      "_view_module": "@jupyter-widgets/controls",
      "_view_module_version": "1.5.0",
      "_view_name": "HBoxView",
      "box_style": "",
      "children": [
       "IPY_MODEL_1b1af79fa2b64791a10ac57b019cad9f",
       "IPY_MODEL_51652f1208604c5f9f82d25d04a95958"
      ],
      "layout": "IPY_MODEL_77bca1ecc14e4273a193246dee7aa45c"
     }
    },
    "ee116bdb6b144744895500aa3bb507da": {
     "model_module": "@jupyter-widgets/controls",
     "model_name": "FloatProgressModel",
     "state": {
      "_dom_classes": [],
      "_model_module": "@jupyter-widgets/controls",
      "_model_module_version": "1.5.0",
      "_model_name": "FloatProgressModel",
      "_view_count": null,
      "_view_module": "@jupyter-widgets/controls",
      "_view_module_version": "1.5.0",
      "_view_name": "ProgressView",
      "bar_style": "success",
      "description": "100%",
      "description_tooltip": null,
      "layout": "IPY_MODEL_d4fb598d1e8a49f5920b91307c044d18",
      "max": 1,
      "min": 0,
      "orientation": "horizontal",
      "style": "IPY_MODEL_6bbc9cd3c2ea4fef80700f52183e3062",
      "value": 1
     }
    },
    "eefeaa5eb55449ae9e40ca14e28449d1": {
     "model_module": "@jupyter-widgets/controls",
     "model_name": "HBoxModel",
     "state": {
      "_dom_classes": [],
      "_model_module": "@jupyter-widgets/controls",
      "_model_module_version": "1.5.0",
      "_model_name": "HBoxModel",
      "_view_count": null,
      "_view_module": "@jupyter-widgets/controls",
      "_view_module_version": "1.5.0",
      "_view_name": "HBoxView",
      "box_style": "",
      "children": [
       "IPY_MODEL_881d2d88bf5a484d86aa2267930545a8",
       "IPY_MODEL_959698f27162441a90fd7d3f8bb104c6"
      ],
      "layout": "IPY_MODEL_957e3f449fed431681603916004b5a50"
     }
    },
    "ef985975e6364ff99bb614ac48a130f3": {
     "model_module": "@jupyter-widgets/controls",
     "model_name": "ProgressStyleModel",
     "state": {
      "_model_module": "@jupyter-widgets/controls",
      "_model_module_version": "1.5.0",
      "_model_name": "ProgressStyleModel",
      "_view_count": null,
      "_view_module": "@jupyter-widgets/base",
      "_view_module_version": "1.2.0",
      "_view_name": "StyleView",
      "bar_color": null,
      "description_width": "initial"
     }
    },
    "efdec556de8d4852917f68c1aadb7c67": {
     "model_module": "@jupyter-widgets/base",
     "model_name": "LayoutModel",
     "state": {
      "_model_module": "@jupyter-widgets/base",
      "_model_module_version": "1.2.0",
      "_model_name": "LayoutModel",
      "_view_count": null,
      "_view_module": "@jupyter-widgets/base",
      "_view_module_version": "1.2.0",
      "_view_name": "LayoutView",
      "align_content": null,
      "align_items": null,
      "align_self": null,
      "border": null,
      "bottom": null,
      "display": null,
      "flex": null,
      "flex_flow": null,
      "grid_area": null,
      "grid_auto_columns": null,
      "grid_auto_flow": null,
      "grid_auto_rows": null,
      "grid_column": null,
      "grid_gap": null,
      "grid_row": null,
      "grid_template_areas": null,
      "grid_template_columns": null,
      "grid_template_rows": null,
      "height": null,
      "justify_content": null,
      "justify_items": null,
      "left": null,
      "margin": null,
      "max_height": null,
      "max_width": null,
      "min_height": null,
      "min_width": null,
      "object_fit": null,
      "object_position": null,
      "order": null,
      "overflow": null,
      "overflow_x": null,
      "overflow_y": null,
      "padding": null,
      "right": null,
      "top": null,
      "visibility": null,
      "width": null
     }
    },
    "f05c072bff6d4f478f4beca6c7a3a5c4": {
     "model_module": "@jupyter-widgets/controls",
     "model_name": "HBoxModel",
     "state": {
      "_dom_classes": [],
      "_model_module": "@jupyter-widgets/controls",
      "_model_module_version": "1.5.0",
      "_model_name": "HBoxModel",
      "_view_count": null,
      "_view_module": "@jupyter-widgets/controls",
      "_view_module_version": "1.5.0",
      "_view_name": "HBoxView",
      "box_style": "",
      "children": [
       "IPY_MODEL_83460f47bde34c6c83df8524025c2d8a",
       "IPY_MODEL_0211f925fac14306979702a574608e25"
      ],
      "layout": "IPY_MODEL_f317f393e0fe4f6a86cf711d9d18cf61"
     }
    },
    "f13af0565400428cb2bb94d42538c991": {
     "model_module": "@jupyter-widgets/base",
     "model_name": "LayoutModel",
     "state": {
      "_model_module": "@jupyter-widgets/base",
      "_model_module_version": "1.2.0",
      "_model_name": "LayoutModel",
      "_view_count": null,
      "_view_module": "@jupyter-widgets/base",
      "_view_module_version": "1.2.0",
      "_view_name": "LayoutView",
      "align_content": null,
      "align_items": null,
      "align_self": null,
      "border": null,
      "bottom": null,
      "display": null,
      "flex": null,
      "flex_flow": null,
      "grid_area": null,
      "grid_auto_columns": null,
      "grid_auto_flow": null,
      "grid_auto_rows": null,
      "grid_column": null,
      "grid_gap": null,
      "grid_row": null,
      "grid_template_areas": null,
      "grid_template_columns": null,
      "grid_template_rows": null,
      "height": null,
      "justify_content": null,
      "justify_items": null,
      "left": null,
      "margin": null,
      "max_height": null,
      "max_width": null,
      "min_height": null,
      "min_width": null,
      "object_fit": null,
      "object_position": null,
      "order": null,
      "overflow": null,
      "overflow_x": null,
      "overflow_y": null,
      "padding": null,
      "right": null,
      "top": null,
      "visibility": null,
      "width": null
     }
    },
    "f182fbf41f6b42a5aa8d8aa39baac8d0": {
     "model_module": "@jupyter-widgets/controls",
     "model_name": "DescriptionStyleModel",
     "state": {
      "_model_module": "@jupyter-widgets/controls",
      "_model_module_version": "1.5.0",
      "_model_name": "DescriptionStyleModel",
      "_view_count": null,
      "_view_module": "@jupyter-widgets/base",
      "_view_module_version": "1.2.0",
      "_view_name": "StyleView",
      "description_width": ""
     }
    },
    "f1b49d2b79f84a2e9119842ab298032f": {
     "model_module": "@jupyter-widgets/controls",
     "model_name": "HTMLModel",
     "state": {
      "_dom_classes": [],
      "_model_module": "@jupyter-widgets/controls",
      "_model_module_version": "1.5.0",
      "_model_name": "HTMLModel",
      "_view_count": null,
      "_view_module": "@jupyter-widgets/controls",
      "_view_module_version": "1.5.0",
      "_view_name": "HTMLView",
      "description": "",
      "description_tooltip": null,
      "layout": "IPY_MODEL_b8e87aef615e467ea387a01063b7447c",
      "placeholder": "​",
      "style": "IPY_MODEL_8c717e92c809416fa4f9a536ac2225eb",
      "value": " 73/73 [01:18&lt;00:00,  1.07s/ba]"
     }
    },
    "f2e79fcd90794386b9bdb08c3059e419": {
     "model_module": "@jupyter-widgets/controls",
     "model_name": "HBoxModel",
     "state": {
      "_dom_classes": [],
      "_model_module": "@jupyter-widgets/controls",
      "_model_module_version": "1.5.0",
      "_model_name": "HBoxModel",
      "_view_count": null,
      "_view_module": "@jupyter-widgets/controls",
      "_view_module_version": "1.5.0",
      "_view_name": "HBoxView",
      "box_style": "",
      "children": [
       "IPY_MODEL_22f0fb84f8b64520a0bf57fbcc3f4df1",
       "IPY_MODEL_b04b6e18e2884cc1b8f00075f4aabe38"
      ],
      "layout": "IPY_MODEL_10951393b1964fb79378adc0ac56a477"
     }
    },
    "f317f393e0fe4f6a86cf711d9d18cf61": {
     "model_module": "@jupyter-widgets/base",
     "model_name": "LayoutModel",
     "state": {
      "_model_module": "@jupyter-widgets/base",
      "_model_module_version": "1.2.0",
      "_model_name": "LayoutModel",
      "_view_count": null,
      "_view_module": "@jupyter-widgets/base",
      "_view_module_version": "1.2.0",
      "_view_name": "LayoutView",
      "align_content": null,
      "align_items": null,
      "align_self": null,
      "border": null,
      "bottom": null,
      "display": null,
      "flex": null,
      "flex_flow": null,
      "grid_area": null,
      "grid_auto_columns": null,
      "grid_auto_flow": null,
      "grid_auto_rows": null,
      "grid_column": null,
      "grid_gap": null,
      "grid_row": null,
      "grid_template_areas": null,
      "grid_template_columns": null,
      "grid_template_rows": null,
      "height": null,
      "justify_content": null,
      "justify_items": null,
      "left": null,
      "margin": null,
      "max_height": null,
      "max_width": null,
      "min_height": null,
      "min_width": null,
      "object_fit": null,
      "object_position": null,
      "order": null,
      "overflow": null,
      "overflow_x": null,
      "overflow_y": null,
      "padding": null,
      "right": null,
      "top": null,
      "visibility": null,
      "width": null
     }
    },
    "f52698c9b53d41c2bde7043e1f47a4f1": {
     "model_module": "@jupyter-widgets/controls",
     "model_name": "HTMLModel",
     "state": {
      "_dom_classes": [],
      "_model_module": "@jupyter-widgets/controls",
      "_model_module_version": "1.5.0",
      "_model_name": "HTMLModel",
      "_view_count": null,
      "_view_module": "@jupyter-widgets/controls",
      "_view_module_version": "1.5.0",
      "_view_name": "HTMLView",
      "description": "",
      "description_tooltip": null,
      "layout": "IPY_MODEL_41e46f0f84654c869269cbbfd46dd469",
      "placeholder": "​",
      "style": "IPY_MODEL_7f721b9baee64233afcacdba7be4f70b",
      "value": " 174/174 [02:59&lt;00:00,  1.03s/ba]"
     }
    },
    "f68b14fc29c840e5b75eb11ccc212661": {
     "model_module": "@jupyter-widgets/controls",
     "model_name": "FloatProgressModel",
     "state": {
      "_dom_classes": [],
      "_model_module": "@jupyter-widgets/controls",
      "_model_module_version": "1.5.0",
      "_model_name": "FloatProgressModel",
      "_view_count": null,
      "_view_module": "@jupyter-widgets/controls",
      "_view_module_version": "1.5.0",
      "_view_name": "ProgressView",
      "bar_style": "success",
      "description": "#2: 100%",
      "description_tooltip": null,
      "layout": "IPY_MODEL_70c1ef7ace2e4a85af7f90b2bb4a6890",
      "max": 1160,
      "min": 0,
      "orientation": "horizontal",
      "style": "IPY_MODEL_ef985975e6364ff99bb614ac48a130f3",
      "value": 1160
     }
    },
    "f729e81dd13147d6ac3197673e365cfa": {
     "model_module": "@jupyter-widgets/base",
     "model_name": "LayoutModel",
     "state": {
      "_model_module": "@jupyter-widgets/base",
      "_model_module_version": "1.2.0",
      "_model_name": "LayoutModel",
      "_view_count": null,
      "_view_module": "@jupyter-widgets/base",
      "_view_module_version": "1.2.0",
      "_view_name": "LayoutView",
      "align_content": null,
      "align_items": null,
      "align_self": null,
      "border": null,
      "bottom": null,
      "display": null,
      "flex": null,
      "flex_flow": null,
      "grid_area": null,
      "grid_auto_columns": null,
      "grid_auto_flow": null,
      "grid_auto_rows": null,
      "grid_column": null,
      "grid_gap": null,
      "grid_row": null,
      "grid_template_areas": null,
      "grid_template_columns": null,
      "grid_template_rows": null,
      "height": null,
      "justify_content": null,
      "justify_items": null,
      "left": null,
      "margin": null,
      "max_height": null,
      "max_width": null,
      "min_height": null,
      "min_width": null,
      "object_fit": null,
      "object_position": null,
      "order": null,
      "overflow": null,
      "overflow_x": null,
      "overflow_y": null,
      "padding": null,
      "right": null,
      "top": null,
      "visibility": null,
      "width": null
     }
    },
    "f8a3eba3388a499699dc2aab819ccf37": {
     "model_module": "@jupyter-widgets/controls",
     "model_name": "FloatProgressModel",
     "state": {
      "_dom_classes": [],
      "_model_module": "@jupyter-widgets/controls",
      "_model_module_version": "1.5.0",
      "_model_name": "FloatProgressModel",
      "_view_count": null,
      "_view_module": "@jupyter-widgets/controls",
      "_view_module_version": "1.5.0",
      "_view_name": "ProgressView",
      "bar_style": "success",
      "description": "#2: 100%",
      "description_tooltip": null,
      "layout": "IPY_MODEL_6c4cb58b11cd4d8cb045ebc0d791af39",
      "max": 174,
      "min": 0,
      "orientation": "horizontal",
      "style": "IPY_MODEL_2f7fcbf7002a47a3a12fc6e3004268e0",
      "value": 174
     }
    },
    "fb5341d16f904dcc9da8ffe959908e03": {
     "model_module": "@jupyter-widgets/controls",
     "model_name": "HTMLModel",
     "state": {
      "_dom_classes": [],
      "_model_module": "@jupyter-widgets/controls",
      "_model_module_version": "1.5.0",
      "_model_name": "HTMLModel",
      "_view_count": null,
      "_view_module": "@jupyter-widgets/controls",
      "_view_module_version": "1.5.0",
      "_view_name": "HTMLView",
      "description": "",
      "description_tooltip": null,
      "layout": "IPY_MODEL_c84df49e3e464df5bf9007129ed14361",
      "placeholder": "​",
      "style": "IPY_MODEL_4857084b8222405ba846c3479e2b4378",
      "value": " 73/73 [01:24&lt;00:00,  1.15s/ba]"
     }
    },
    "fdb7242b4c5b44569114ff828415aff0": {
     "model_module": "@jupyter-widgets/base",
     "model_name": "LayoutModel",
     "state": {
      "_model_module": "@jupyter-widgets/base",
      "_model_module_version": "1.2.0",
      "_model_name": "LayoutModel",
      "_view_count": null,
      "_view_module": "@jupyter-widgets/base",
      "_view_module_version": "1.2.0",
      "_view_name": "LayoutView",
      "align_content": null,
      "align_items": null,
      "align_self": null,
      "border": null,
      "bottom": null,
      "display": null,
      "flex": null,
      "flex_flow": null,
      "grid_area": null,
      "grid_auto_columns": null,
      "grid_auto_flow": null,
      "grid_auto_rows": null,
      "grid_column": null,
      "grid_gap": null,
      "grid_row": null,
      "grid_template_areas": null,
      "grid_template_columns": null,
      "grid_template_rows": null,
      "height": null,
      "justify_content": null,
      "justify_items": null,
      "left": null,
      "margin": null,
      "max_height": null,
      "max_width": null,
      "min_height": null,
      "min_width": null,
      "object_fit": null,
      "object_position": null,
      "order": null,
      "overflow": null,
      "overflow_x": null,
      "overflow_y": null,
      "padding": null,
      "right": null,
      "top": null,
      "visibility": null,
      "width": null
     }
    },
    "fdb754b9133049a4bc4eaaafe0a5999f": {
     "model_module": "@jupyter-widgets/controls",
     "model_name": "ProgressStyleModel",
     "state": {
      "_model_module": "@jupyter-widgets/controls",
      "_model_module_version": "1.5.0",
      "_model_name": "ProgressStyleModel",
      "_view_count": null,
      "_view_module": "@jupyter-widgets/base",
      "_view_module_version": "1.2.0",
      "_view_name": "StyleView",
      "bar_color": null,
      "description_width": "initial"
     }
    },
    "ffc63ab2f6cc4acebd38a9362ee727db": {
     "model_module": "@jupyter-widgets/controls",
     "model_name": "ProgressStyleModel",
     "state": {
      "_model_module": "@jupyter-widgets/controls",
      "_model_module_version": "1.5.0",
      "_model_name": "ProgressStyleModel",
      "_view_count": null,
      "_view_module": "@jupyter-widgets/base",
      "_view_module_version": "1.2.0",
      "_view_name": "StyleView",
      "bar_color": null,
      "description_width": "initial"
     }
    }
   }
  }
 },
 "nbformat": 4,
 "nbformat_minor": 4
}
